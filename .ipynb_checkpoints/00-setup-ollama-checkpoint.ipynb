{
 "cells": [
  {
   "cell_type": "markdown",
   "id": "d965793a-da38-4d06-8114-d477db060fd7",
   "metadata": {
    "tags": []
   },
   "source": [
    "# Setup Ollama\n",
    "\n",
    "In this notebook you'll see how to load the Ollama API library and use a helper function.\n",
    "\n",
    "### Install the Ollama Python library\n",
    "    \n",
    "```\n",
    "pip install ollama\n",
    "```\n",
    "\n",
    "### Load the Python libary"
   ]
  },
  {
   "cell_type": "code",
   "execution_count": 46,
   "id": "fa2dc66e-e8f3-48c3-bdf6-b77cba3caaed",
   "metadata": {},
   "outputs": [],
   "source": [
    "import ollama\n",
    "\n",
    "# Load ollama API URL\n",
    "import os\n",
    "from dotenv import load_dotenv, find_dotenv\n",
    "_ = load_dotenv(find_dotenv())\n",
    "\n",
    "api_url  = os.getenv('API_URL')"
   ]
  },
  {
   "cell_type": "markdown",
   "id": "45ea3304-f575-45d0-bfa1-ff25543fa778",
   "metadata": {},
   "source": [
    "### Example Chat Endpoint"
   ]
  },
  {
   "cell_type": "code",
   "execution_count": 50,
   "id": "e9b5268c-e691-4cfd-b411-635e925b7be8",
   "metadata": {},
   "outputs": [
    {
     "ename": "ResponseError",
     "evalue": "",
     "output_type": "error",
     "traceback": [
      "\u001b[0;31m---------------------------------------------------------------------------\u001b[0m",
      "\u001b[0;31mResponseError\u001b[0m                             Traceback (most recent call last)",
      "Cell \u001b[0;32mIn [50], line 3\u001b[0m\n\u001b[1;32m      1\u001b[0m \u001b[38;5;28;01mfrom\u001b[39;00m \u001b[38;5;21;01mollama\u001b[39;00m \u001b[38;5;28;01mimport\u001b[39;00m Client\n\u001b[1;32m      2\u001b[0m client \u001b[38;5;241m=\u001b[39m Client(host\u001b[38;5;241m=\u001b[39mapi_url)\n\u001b[0;32m----> 3\u001b[0m response \u001b[38;5;241m=\u001b[39m \u001b[43mclient\u001b[49m\u001b[38;5;241;43m.\u001b[39;49m\u001b[43mchat\u001b[49m\u001b[43m(\u001b[49m\u001b[43mmodel\u001b[49m\u001b[38;5;241;43m=\u001b[39;49m\u001b[38;5;124;43m'\u001b[39;49m\u001b[38;5;124;43mmistral\u001b[39;49m\u001b[38;5;124;43m'\u001b[39;49m\u001b[43m,\u001b[49m\u001b[43m \u001b[49m\u001b[43mmessages\u001b[49m\u001b[38;5;241;43m=\u001b[39;49m\u001b[43m[\u001b[49m\n\u001b[1;32m      4\u001b[0m \u001b[43m  \u001b[49m\u001b[43m{\u001b[49m\n\u001b[1;32m      5\u001b[0m \u001b[43m    \u001b[49m\u001b[38;5;124;43m'\u001b[39;49m\u001b[38;5;124;43mrole\u001b[39;49m\u001b[38;5;124;43m'\u001b[39;49m\u001b[43m:\u001b[49m\u001b[43m \u001b[49m\u001b[38;5;124;43m'\u001b[39;49m\u001b[38;5;124;43muser\u001b[39;49m\u001b[38;5;124;43m'\u001b[39;49m\u001b[43m,\u001b[49m\n\u001b[1;32m      6\u001b[0m \u001b[43m    \u001b[49m\u001b[38;5;124;43m'\u001b[39;49m\u001b[38;5;124;43mcontent\u001b[39;49m\u001b[38;5;124;43m'\u001b[39;49m\u001b[43m:\u001b[49m\u001b[43m \u001b[49m\u001b[38;5;124;43m'\u001b[39;49m\u001b[38;5;124;43mWhy is the sky blue?\u001b[39;49m\u001b[38;5;124;43m'\u001b[39;49m\u001b[43m,\u001b[49m\n\u001b[1;32m      7\u001b[0m \u001b[43m  \u001b[49m\u001b[43m}\u001b[49m\u001b[43m,\u001b[49m\n\u001b[1;32m      8\u001b[0m \u001b[43m]\u001b[49m\u001b[43m)\u001b[49m\n\u001b[1;32m      9\u001b[0m \u001b[38;5;28mprint\u001b[39m(response)\n",
      "File \u001b[0;32m~/Library/Python/3.8/lib/python/site-packages/ollama/_client.py:177\u001b[0m, in \u001b[0;36mClient.chat\u001b[0;34m(self, model, messages, stream, format, options, keep_alive)\u001b[0m\n\u001b[1;32m    174\u001b[0m   \u001b[38;5;28;01mif\u001b[39;00m images \u001b[38;5;241m:=\u001b[39m message\u001b[38;5;241m.\u001b[39mget(\u001b[38;5;124m'\u001b[39m\u001b[38;5;124mimages\u001b[39m\u001b[38;5;124m'\u001b[39m):\n\u001b[1;32m    175\u001b[0m     message[\u001b[38;5;124m'\u001b[39m\u001b[38;5;124mimages\u001b[39m\u001b[38;5;124m'\u001b[39m] \u001b[38;5;241m=\u001b[39m [_encode_image(image) \u001b[38;5;28;01mfor\u001b[39;00m image \u001b[38;5;129;01min\u001b[39;00m images]\n\u001b[0;32m--> 177\u001b[0m \u001b[38;5;28;01mreturn\u001b[39;00m \u001b[38;5;28;43mself\u001b[39;49m\u001b[38;5;241;43m.\u001b[39;49m\u001b[43m_request_stream\u001b[49m\u001b[43m(\u001b[49m\n\u001b[1;32m    178\u001b[0m \u001b[43m  \u001b[49m\u001b[38;5;124;43m'\u001b[39;49m\u001b[38;5;124;43mPOST\u001b[39;49m\u001b[38;5;124;43m'\u001b[39;49m\u001b[43m,\u001b[49m\n\u001b[1;32m    179\u001b[0m \u001b[43m  \u001b[49m\u001b[38;5;124;43m'\u001b[39;49m\u001b[38;5;124;43m/api/chat\u001b[39;49m\u001b[38;5;124;43m'\u001b[39;49m\u001b[43m,\u001b[49m\n\u001b[1;32m    180\u001b[0m \u001b[43m  \u001b[49m\u001b[43mjson\u001b[49m\u001b[38;5;241;43m=\u001b[39;49m\u001b[43m{\u001b[49m\n\u001b[1;32m    181\u001b[0m \u001b[43m    \u001b[49m\u001b[38;5;124;43m'\u001b[39;49m\u001b[38;5;124;43mmodel\u001b[39;49m\u001b[38;5;124;43m'\u001b[39;49m\u001b[43m:\u001b[49m\u001b[43m \u001b[49m\u001b[43mmodel\u001b[49m\u001b[43m,\u001b[49m\n\u001b[1;32m    182\u001b[0m \u001b[43m    \u001b[49m\u001b[38;5;124;43m'\u001b[39;49m\u001b[38;5;124;43mmessages\u001b[39;49m\u001b[38;5;124;43m'\u001b[39;49m\u001b[43m:\u001b[49m\u001b[43m \u001b[49m\u001b[43mmessages\u001b[49m\u001b[43m,\u001b[49m\n\u001b[1;32m    183\u001b[0m \u001b[43m    \u001b[49m\u001b[38;5;124;43m'\u001b[39;49m\u001b[38;5;124;43mstream\u001b[39;49m\u001b[38;5;124;43m'\u001b[39;49m\u001b[43m:\u001b[49m\u001b[43m \u001b[49m\u001b[43mstream\u001b[49m\u001b[43m,\u001b[49m\n\u001b[1;32m    184\u001b[0m \u001b[43m    \u001b[49m\u001b[38;5;124;43m'\u001b[39;49m\u001b[38;5;124;43mformat\u001b[39;49m\u001b[38;5;124;43m'\u001b[39;49m\u001b[43m:\u001b[49m\u001b[43m \u001b[49m\u001b[38;5;28;43mformat\u001b[39;49m\u001b[43m,\u001b[49m\n\u001b[1;32m    185\u001b[0m \u001b[43m    \u001b[49m\u001b[38;5;124;43m'\u001b[39;49m\u001b[38;5;124;43moptions\u001b[39;49m\u001b[38;5;124;43m'\u001b[39;49m\u001b[43m:\u001b[49m\u001b[43m \u001b[49m\u001b[43moptions\u001b[49m\u001b[43m \u001b[49m\u001b[38;5;129;43;01mor\u001b[39;49;00m\u001b[43m \u001b[49m\u001b[43m{\u001b[49m\u001b[43m}\u001b[49m\u001b[43m,\u001b[49m\n\u001b[1;32m    186\u001b[0m \u001b[43m    \u001b[49m\u001b[38;5;124;43m'\u001b[39;49m\u001b[38;5;124;43mkeep_alive\u001b[39;49m\u001b[38;5;124;43m'\u001b[39;49m\u001b[43m:\u001b[49m\u001b[43m \u001b[49m\u001b[43mkeep_alive\u001b[49m\u001b[43m,\u001b[49m\n\u001b[1;32m    187\u001b[0m \u001b[43m  \u001b[49m\u001b[43m}\u001b[49m\u001b[43m,\u001b[49m\n\u001b[1;32m    188\u001b[0m \u001b[43m  \u001b[49m\u001b[43mstream\u001b[49m\u001b[38;5;241;43m=\u001b[39;49m\u001b[43mstream\u001b[49m\u001b[43m,\u001b[49m\n\u001b[1;32m    189\u001b[0m \u001b[43m\u001b[49m\u001b[43m)\u001b[49m\n",
      "File \u001b[0;32m~/Library/Python/3.8/lib/python/site-packages/ollama/_client.py:97\u001b[0m, in \u001b[0;36mClient._request_stream\u001b[0;34m(self, stream, *args, **kwargs)\u001b[0m\n\u001b[1;32m     91\u001b[0m \u001b[38;5;28;01mdef\u001b[39;00m \u001b[38;5;21m_request_stream\u001b[39m(\n\u001b[1;32m     92\u001b[0m   \u001b[38;5;28mself\u001b[39m,\n\u001b[1;32m     93\u001b[0m   \u001b[38;5;241m*\u001b[39margs,\n\u001b[1;32m     94\u001b[0m   stream: \u001b[38;5;28mbool\u001b[39m \u001b[38;5;241m=\u001b[39m \u001b[38;5;28;01mFalse\u001b[39;00m,\n\u001b[1;32m     95\u001b[0m   \u001b[38;5;241m*\u001b[39m\u001b[38;5;241m*\u001b[39mkwargs,\n\u001b[1;32m     96\u001b[0m ) \u001b[38;5;241m-\u001b[39m\u001b[38;5;241m>\u001b[39m Union[Mapping[\u001b[38;5;28mstr\u001b[39m, Any], Iterator[Mapping[\u001b[38;5;28mstr\u001b[39m, Any]]]:\n\u001b[0;32m---> 97\u001b[0m   \u001b[38;5;28;01mreturn\u001b[39;00m \u001b[38;5;28mself\u001b[39m\u001b[38;5;241m.\u001b[39m_stream(\u001b[38;5;241m*\u001b[39margs, \u001b[38;5;241m*\u001b[39m\u001b[38;5;241m*\u001b[39mkwargs) \u001b[38;5;28;01mif\u001b[39;00m stream \u001b[38;5;28;01melse\u001b[39;00m \u001b[38;5;28;43mself\u001b[39;49m\u001b[38;5;241;43m.\u001b[39;49m\u001b[43m_request\u001b[49m\u001b[43m(\u001b[49m\u001b[38;5;241;43m*\u001b[39;49m\u001b[43margs\u001b[49m\u001b[43m,\u001b[49m\u001b[43m \u001b[49m\u001b[38;5;241;43m*\u001b[39;49m\u001b[38;5;241;43m*\u001b[39;49m\u001b[43mkwargs\u001b[49m\u001b[43m)\u001b[49m\u001b[38;5;241m.\u001b[39mjson()\n",
      "File \u001b[0;32m~/Library/Python/3.8/lib/python/site-packages/ollama/_client.py:73\u001b[0m, in \u001b[0;36mClient._request\u001b[0;34m(self, method, url, **kwargs)\u001b[0m\n\u001b[1;32m     71\u001b[0m   response\u001b[38;5;241m.\u001b[39mraise_for_status()\n\u001b[1;32m     72\u001b[0m \u001b[38;5;28;01mexcept\u001b[39;00m httpx\u001b[38;5;241m.\u001b[39mHTTPStatusError \u001b[38;5;28;01mas\u001b[39;00m e:\n\u001b[0;32m---> 73\u001b[0m   \u001b[38;5;28;01mraise\u001b[39;00m ResponseError(e\u001b[38;5;241m.\u001b[39mresponse\u001b[38;5;241m.\u001b[39mtext, e\u001b[38;5;241m.\u001b[39mresponse\u001b[38;5;241m.\u001b[39mstatus_code) \u001b[38;5;28;01mfrom\u001b[39;00m \u001b[38;5;28mNone\u001b[39m\n\u001b[1;32m     75\u001b[0m \u001b[38;5;28;01mreturn\u001b[39;00m response\n",
      "\u001b[0;31mResponseError\u001b[0m: "
     ]
    }
   ],
   "source": [
    "from ollama import Client\n",
    "client = Client(host='http://localhost:11434')\n",
    "response = client.chat(model='mistral', messages=[\n",
    "  {\n",
    "    'role': 'user',\n",
    "    'content': 'Why is the sky blue?',\n",
    "  },\n",
    "])\n",
    "print(response)"
   ]
  },
  {
   "cell_type": "markdown",
   "id": "102dd790-a93c-4e19-b2bd-aa4498f4313b",
   "metadata": {},
   "source": [
    "### Example Generate Endpoint"
   ]
  },
  {
   "cell_type": "code",
   "execution_count": 26,
   "id": "4a60d4d9-c6aa-4c0c-be7a-4aa4b3cc036f",
   "metadata": {},
   "outputs": [
    {
     "name": "stdout",
     "output_type": "stream",
     "text": [
      " The color of the sky appears blue due to a process called Rayleigh scattering. As sunlight reaches Earth's atmosphere, it interacts with different gases and particles present in the air. Blue light has a shorter wavelength and gets scattered more easily than other colors because smaller molecules, like nitrogen and oxygen, can scatter blue light more efficiently. Consequently, when we look up at the sky, we predominantly see the scattered blue light, making the sky appear blue during a clear day.\n"
     ]
    }
   ],
   "source": [
    "from ollama import generate\n",
    "response = generate('mistral', 'Why is the sky blue?')\n",
    "print(response['response'])"
   ]
  },
  {
   "cell_type": "markdown",
   "id": "8a308e9b-aab4-4bd2-8748-037eeea66dcb",
   "metadata": {},
   "source": [
    "#### Custom API URL"
   ]
  },
  {
   "cell_type": "code",
   "execution_count": 42,
   "id": "b736aee7-2097-48df-8d71-8831ddcae3ae",
   "metadata": {},
   "outputs": [
    {
     "name": "stdout",
     "output_type": "stream",
     "text": [
      " The color of the sky appears blue due to a process called scattering of sunlight by the molecules and particles in the Earth's atmosphere. When the sun's rays reach the Earth's atmosphere, they are scattered, or redirected, in all directions by gas molecules (such as nitrogen and oxygen) and tiny particles (like dust and water droplets). Shorter wavelengths of light, such as blue, get scattered more easily than longer wavelengths, like red. As a result, when we look up at the sky, we predominantly see the scattered blue light. This is why the sky often appears blue during a clear day. However, at sunrise or sunset, the angle of the sunlight reaching the atmosphere scatters the longer wavelengths (reds and yellows) more, resulting in beautiful displays of orange, pink, and red hues.\n"
     ]
    }
   ],
   "source": [
    "from ollama import Client\n",
    "client = Client(host=api_url)\n",
    "response = client.generate(model='mistral', prompt='Why is the sky blue?')\n",
    "print(response['response'])"
   ]
  },
  {
   "cell_type": "markdown",
   "id": "0e919e0a-e183-4e7d-87d6-945421292aa8",
   "metadata": {},
   "source": [
    "#### Custom API URL Stream"
   ]
  },
  {
   "cell_type": "code",
   "execution_count": 45,
   "id": "2cbf1e02-684c-48f4-800e-922ef9b515cd",
   "metadata": {},
   "outputs": [
    {
     "name": "stdout",
     "output_type": "stream",
     "text": [
      " The color of the sky appears blue due to a process called Rayleigh scattering. As sunlight reaches Earth's atmosphere, it interacts with different gases and particles present in the air. Blue light has shorter wavelengths and gets scattered more easily than other colors because molecules in the Earth's atmosphere are smaller than the wavelength of other colors like red or yellow. This scattered blue light is what we see when looking up at the sky."
     ]
    }
   ],
   "source": [
    "from ollama import Client\n",
    "client = Client(host=api_url)\n",
    "\n",
    "response = client.generate(model='mistral', prompt='Why is the sky blue?', stream=True)\n",
    "\n",
    "for part in response :\n",
    "  print(part['response'], end='', flush=True)"
   ]
  },
  {
   "cell_type": "markdown",
   "id": "5ca0c572-38a7-4fad-ae7c-e219f52ff1ad",
   "metadata": {},
   "source": [
    "### Helper Function\n",
    "\n",
    "This helper function will make it easier to use prompts and look at the generated outputs."
   ]
  },
  {
   "cell_type": "markdown",
   "id": "68a33550-46e2-4676-8217-db13362cf36a",
   "metadata": {},
   "source": [
    "#### Generate"
   ]
  },
  {
   "cell_type": "code",
   "execution_count": 55,
   "id": "3fce1a03-7ef6-4838-b794-d73a8421f33f",
   "metadata": {},
   "outputs": [],
   "source": [
    "# Load ollama client\n",
    "from ollama import Client\n",
    "def get_completion(prompt, model=\"mistral\"):\n",
    "    client = Client(host=api_url)\n",
    "    response = client.generate(model=model, prompt=prompt)\n",
    "    return response['response']"
   ]
  },
  {
   "cell_type": "markdown",
   "id": "afd3819b-6cc9-49c1-b98a-e89971091f86",
   "metadata": {},
   "source": [
    "#### Chat"
   ]
  },
  {
   "cell_type": "code",
   "execution_count": 52,
   "id": "b9a1d68f-2831-4581-8f3c-a094ed5ebf27",
   "metadata": {},
   "outputs": [],
   "source": [
    "# Load ollama client\n",
    "from ollama import Client\n",
    "def get_completion_chat(prompt, model=\"mistral\"):\n",
    "    client = Client(host='http://localhost:11434')\n",
    "    messages = [{\"role\": \"user\", \"content\": prompt}]\n",
    "    response = client.chat(\n",
    "        model=model, \n",
    "        messages=messages\n",
    "    )\n",
    "    return response['message']['content']"
   ]
  },
  {
   "cell_type": "markdown",
   "id": "e75ebb10-d06a-4df2-aeda-74608514be01",
   "metadata": {},
   "source": [
    "### Example"
   ]
  },
  {
   "cell_type": "code",
   "execution_count": 53,
   "id": "01f8a65b-941d-405a-b6de-18486774fe76",
   "metadata": {},
   "outputs": [
    {
     "name": "stdout",
     "output_type": "stream",
     "text": [
      " Title: \"Beyond the Horizon: A Human-AI Collaboration for Diverse Futures\"\n",
      "\n",
      "In this speculative short story, the near future sees the seamless integration of advanced AI assistants into human society. Instead of replacing jobs or causing unemployment, these AI companions enhance productivity and creativity. Together, humans and AI embark on groundbreaking scientific discoveries, architectural marvels, and artistic innovations that expand the horizons of what's possible. The collaboration between humans and AI leads to a future filled with diverse possibilities that could not have been achieved separately.\n"
     ]
    }
   ],
   "source": [
    "prompt = f\"\"\"\n",
    "Write a title for a speculative short story about a near future in which \\\n",
    "humans collaborate with AI assistants and together develop more diverse futures.\n",
    "\"\"\"\n",
    "response = get_completion(prompt)\n",
    "print(response)"
   ]
  },
  {
   "cell_type": "markdown",
   "id": "28eb97a6-b773-448d-a034-4733c93680a6",
   "metadata": {},
   "source": [
    "## Instruct vs. Text Models\n",
    "\n",
    "#### Text"
   ]
  },
  {
   "cell_type": "code",
   "execution_count": 80,
   "id": "82e16f21-0cf6-46a3-a3cf-5c00e91d7794",
   "metadata": {},
   "outputs": [
    {
     "name": "stdout",
     "output_type": "stream",
     "text": [
      "Honey. She died when I was 14.\n",
      "It's funny, because people think that you are a good cook if your children eat everything.\n",
      "No, it takes me hours to prepare the food.\n",
      "What's your favorite way to cook?\n",
      "I do this thing where I make big batches of stuff, and I freeze them in little containers. That is what I am doing right now - making batches of different things that can be frozen into individual portions.\n",
      "If you had a dinner party at home, who would you invite?\n",
      "My father, my brother, and my sister. They are the most interesting people for me.\n",
      "I love to see what they are thinking, how their minds work, and how they think about life's big questions - like God or death. I also love to hear their stories and their different perspectives on things. I find it very interesting.\n",
      "What is your favorite food memory?\n",
      "In 1997, my family and I had a vacation in the south of Spain - Andalucia. We went there during the olive harvest season, which is an amazing experience. They are harvesting olives for months, and they make olive oil from these fruits. You can see how hard people work to get their olives picked.\n",
      "My father was working with some people that were doing this, too - I remember seeing how all of the women were sitting in one line, peeling off the olives using their nails. It took a lot of time and energy to do it.\n",
      "The next day, we went to an olive mill where they make oil from the olives. We got to see every step in the process - I was fascinated! You can still buy olive oil from there today.\n",
      "My family is so close and always has been - we are very tight-knit. Even though my mom died when I was young, that didn't change how close we were.\n",
      "What's your favorite dish?\n",
      "I like anything with a lot of flavor, such as pasta carbonara or risotto.\n",
      "I also love the taste of fresh herbs from the garden - especially basil and parsley!\n",
      "If you could cook for someone famous, who would it be? Why?\n",
      "Elon Musk. I am fascinated by his ideas and what he has achieved so far! He is a very interesting person to me, because he is not afraid to try new things.\n",
      "Do you have any tips or tricks for cooking or being in the kitchen?\n",
      "The best tip that I can give someone who wants to be good at cooking is: Don't be scared of trying something new!\n",
      "I know that many people are afraid of making mistakes when they cook, but there is no need for it. You should just try your best and if it doesn't work out - then you learn from the experience.\n",
      "Another tip would be to have all the ingredients ready before you start cooking. It's much easier than rushing around trying to find something while you are cooking!\n",
      "What do you like most about cooking?\n",
      "The feeling of satisfaction when I make something delicious! I think that people who enjoy cooking feel a lot more satisfied than someone who doesn't.\n",
      "It is also nice to be able to give your family and friends homemade food. You can see how much they appreciate it - it makes me happy!\n",
      "What is the best piece of kitchen equipment you own? Why?\n",
      "I love my KitchenAid mixer! I use it all the time when I bake cakes or make bread.\n",
      "My mom bought me this beautiful appliance as a gift for my 21st birthday - she knows that I am obsessed with baking and cooking. It was such a thoughtful present!\n",
      "What's your favorite kitchen tool?\n",
      "It's definitely my KitchenAid stand mixer! I use it all the time when I bake cakes or make bread.\n",
      "My mom bought me this beautiful appliance as a gift for my 21st birthday - she knows that I am obsessed with baking and cooking. It was such a thoughtful present!\n",
      "What is your most-used cookbook?\n",
      "The most used cookbook in our home would be \"The Joy of Cooking\" by Irma Rombauer. We have had this book since we were kids, so it has been around for quite some time now! There are many different editions available - mine is from 1997.\n",
      "It's an amazing cookbook with lots of recipes that you can cook in no time at all. It also includes a lot of tips and tricks on how to make your food taste even better!\n",
      "What's your favorite kitchen gadget?\n",
      "I love my KitchenAid stand mixer! I use it all the time when I bake cakes or make bread.\n",
      "My mom bought me this beautiful appliance as a gift for my 21st birthday - she knows that I am obsessed with baking and cooking. It was such a thoughtful present!\n",
      "What's your favorite kitchen utensil?\n",
      "I love my KitchenAid stand mixer! I use it all the time when I bake cakes or make bread.\n",
      "My mom bought me this beautiful appliance as a gift for my 21st birthday - she knows that I am obsessed with baking and cooking. It was such a thoughtful present!\n",
      "What's your favorite kitchen gadget?\n",
      "I love my KitchenAid stand mixer! I use it all the time when I bake cakes or make bread.\n",
      "My mom bought me this beautiful appliance as a gift for my 21st birthday - she knows that I am obsessed with baking and cooking. It was such a thoughtful present!\n",
      "What's your favorite kitchen utensil?\n",
      "I love my KitchenAid stand mixer! I use it all the time when I bake cakes or make bread.\n",
      "My mom bought me this beautiful appliance as a gift for my 21st birthday - she knows that I am obsessed with baking and cooking. It was such a thoughtful present!\n",
      "What's your favorite kitchen gadget?\n",
      "I love my KitchenAid stand mixer! I use it all the time when I bake cakes or make bread.\n",
      "My mom bought me this beautiful appliance as a gift for my 21st birthday - she knows that I am obsessed with baking and cooking. It was such a thoughtful present!\n",
      "What's your favorite kitchen utensil?\n",
      "I love my KitchenAid stand mixer! I use it all the time when I bake cakes or make bread.\n",
      "My mom bought me this beautiful appliance as a gift for my 21st birthday - she knows that I am obsessed with baking and cooking. It was such a thoughtful present!\n",
      "What's your favorite kitchen gadget?\n",
      "I love my KitchenAid stand mixer! I use it all the time when I bake cakes or make bread.\n",
      "My mom bought me this beautiful appliance as a gift for my 21st birthday - she knows that I am obsessed with baking and cooking. It was such a thoughtful present!\n",
      "What's your favorite kitchen utensil?\n",
      "I love my KitchenAid stand mixer! I use it all the time when I bake cakes or make bread.\n",
      "My mom bought me this beautiful appliance as a gift for my 21st birthday - she knows that I am obsessed with baking and cooking. It was such a thoughtful present!\n",
      "What's your favorite kitchen gadget?\n",
      "I love my KitchenAid stand mixer! I use it all the time when I bake cakes or make bread.\n",
      "My mom bought me this beautiful appliance as a gift for my 21st birthday - she knows that I am obsessed with baking and cooking. It was such a thoughtful present!\n",
      "What's your favorite kitchen utensil?\n",
      "I love my KitchenAid stand mixer! I use it all the time when I bake cakes or make bread.\n",
      "My mom bought me this beautiful appliance as a gift for my 21st birthday - she knows that I am obsessed with baking and cooking. It was such a thoughtful present!\n",
      "What's your favorite kitchen gadget?\n",
      "I love my KitchenAid stand mixer! I use it all the time when I bake cakes or make bread.\n",
      "My mom bought me this beautiful appliance as a gift for my 21st birthday - she knows that I am obsessed with baking and cooking. It was such a thoughtful present!\n",
      "What's your favorite kitchen utensil?\n",
      "I love my KitchenAid stand mixer! I use it all the time when I bake cakes or make bread.\n",
      "My mom bought me this beautiful appliance as a gift for my 21st birthday - she knows that I am obsessed with baking and cooking. It was such a thoughtful present!\n",
      "What's your favorite kitchen gadget?\n",
      "I love my KitchenAid stand mixer! I use it all the time when I bake cakes or make bread.\n",
      "My mom bought me this beautiful appliance as a gift for my 21st birthday - she knows that I am obsessed with baking and cooking. It was such a thoughtful present!\n",
      "What's your favorite kitchen utensil?\n",
      "I love my KitchenAid stand mixer! I use it all the time when I bake cakes or make bread.\n",
      "My mom bought me this beautiful appliance as a gift for my 21st birthday - she knows that I am obsessed with baking and cooking. It was such a thoughtful present!\n",
      "What's your favorite kitchen gadget?\n",
      "I love my KitchenAid stand mixer! I use it all the time when I bake cakes or make bread.\n",
      "My mom bought me this beautiful appliance as a gift for my 21st birthday - she knows that I am obsessed with baking and cooking. It was such a thoughtful present!\n",
      "What's your favorite kitchen utensil?\n",
      "I love my KitchenAid stand mixer! I use it all the time when I bake cakes or make bread.\n",
      "My mom bought me this beautiful appliance as a gift for my 21st birthday - she knows that I am obsessed with baking and cooking. It was such a thoughtful present!\n",
      "What's your favorite kitchen gadget?\n",
      "I love my KitchenAid stand mixer! I use it all the time when I bake cakes or make bread.\n",
      "My mom bought me this beautiful appliance as a gift for my 21st birthday - she knows that I am obsessed with baking and cooking. It was such a thoughtful present!\n",
      "What's your favorite kitchen utensil?\n",
      "I love my KitchenAid stand mixer! I use it all the time when I bake cakes or make bread.\n",
      "My mom bought me this beautiful appliance as a gift for my 21\n"
     ]
    }
   ],
   "source": [
    "prompt = f\"\"\"\n",
    "I thought about how to proceed...\n",
    "\"\"\"\n",
    "\n",
    "# Text\n",
    "response_text = get_completion(prompt, \"llama3:text\")\n",
    "print(response_text)"
   ]
  },
  {
   "cell_type": "markdown",
   "id": "a6f19892-9d85-427d-aa30-610d9d3cbba5",
   "metadata": {},
   "source": [
    "#### Instruct"
   ]
  },
  {
   "cell_type": "code",
   "execution_count": 79,
   "id": "6b9d8c3e-7314-44ba-9423-57eaeffa6cfe",
   "metadata": {},
   "outputs": [
    {
     "name": "stdout",
     "output_type": "stream",
     "text": [
      " That's great! Taking the time to think and plan out your next steps can be very beneficial. It allows you to consider different options, weigh the potential outcomes, and make a more informed decision. Is there something specific that you are trying to decide on? I'm here to help if you want to talk through your thoughts or get some input.\n"
     ]
    }
   ],
   "source": [
    "# Instruct\n",
    "response_instruct = get_completion(prompt, \"llama3\")\n",
    "print(response_instruct)"
   ]
  }
 ],
 "metadata": {
  "kernelspec": {
   "display_name": "Python 3 (ipykernel)",
   "language": "python",
   "name": "python3"
  },
  "language_info": {
   "codemirror_mode": {
    "name": "ipython",
    "version": 3
   },
   "file_extension": ".py",
   "mimetype": "text/x-python",
   "name": "python",
   "nbconvert_exporter": "python",
   "pygments_lexer": "ipython3",
   "version": "3.8.9"
  }
 },
 "nbformat": 4,
 "nbformat_minor": 5
}
