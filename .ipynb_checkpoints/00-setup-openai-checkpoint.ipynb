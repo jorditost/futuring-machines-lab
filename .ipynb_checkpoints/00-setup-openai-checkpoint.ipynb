{
 "cells": [
  {
   "cell_type": "markdown",
   "id": "d965793a-da38-4d06-8114-d477db060fd7",
   "metadata": {
    "tags": []
   },
   "source": [
    "# Setup OpenAI\n",
    "\n",
    "In this notebook you'll see how to load the OpenAI library and use a helper function.\n",
    "\n",
    "### Load the API key and relevant Python libaries."
   ]
  },
  {
   "cell_type": "code",
   "execution_count": 2,
   "id": "fa2dc66e-e8f3-48c3-bdf6-b77cba3caaed",
   "metadata": {},
   "outputs": [],
   "source": [
    "import openai\n",
    "import os\n",
    "\n",
    "from dotenv import load_dotenv, find_dotenv\n",
    "_ = load_dotenv(find_dotenv())\n",
    "\n",
    "openai.api_key  = os.getenv('OPENAI_API_KEY')"
   ]
  },
  {
   "cell_type": "markdown",
   "id": "5ca0c572-38a7-4fad-ae7c-e219f52ff1ad",
   "metadata": {},
   "source": [
    "### OpenAI model and library version\n",
    "\n",
    "This all and all other lab notebooks uses OpenAI's `gpt-3.5-turbo` model and the [chat completions endpoint](https://platform.openai.com/docs/guides/chat).\n",
    "\n",
    "This and all other lab notebooks use OpenAI library version `1.0.0`\n",
    "\n",
    "### Helper Function\n",
    "\n",
    "This helper function will make it easier to use prompts and look at the generated outputs."
   ]
  },
  {
   "cell_type": "code",
   "execution_count": 3,
   "id": "b9a1d68f-2831-4581-8f3c-a094ed5ebf27",
   "metadata": {},
   "outputs": [],
   "source": [
    "# OpenAI client\n",
    "client = openai.OpenAI()\n",
    "\n",
    "# Helper function\n",
    "def get_completion_gpt(prompt, temperature=0, model=\"gpt-3.5-turbo\"):\n",
    "    messages = [{\"role\": \"user\", \"content\": prompt}]\n",
    "    response = client.chat.completions.create(\n",
    "        model=model,\n",
    "        messages=messages,\n",
    "        temperature=temperature\n",
    "    )\n",
    "    return response.choices[0].message.content"
   ]
  },
  {
   "cell_type": "markdown",
   "id": "e75ebb10-d06a-4df2-aeda-74608514be01",
   "metadata": {},
   "source": [
    "### Example"
   ]
  },
  {
   "cell_type": "code",
   "execution_count": null,
   "id": "01f8a65b-941d-405a-b6de-18486774fe76",
   "metadata": {},
   "outputs": [],
   "source": [
    "prompt = f\"\"\"\n",
    "Write a title for a speculative short story about a near future in which \\\n",
    "humans collaborate with AI assistants and together develop more diverse futures.\n",
    "\"\"\"\n",
    "response = get_completion_gpt(prompt)\n",
    "print(response)"
   ]
  },
  {
   "cell_type": "markdown",
   "id": "09a34b5f-a396-4f94-83f2-d3f6fa037444",
   "metadata": {},
   "source": [
    "### Notes on using the OpenAI API\n",
    "\n",
    "To install the OpenAI Python library:\n",
    "    \n",
    "```\n",
    "!pip install openai\n",
    "```\n",
    "\n",
    "The library needs to be configured with your account's secret key, which is available on the [website](https://platform.openai.com/account/api-keys).\n",
    "\n",
    "You can either set it as the `OPENAI_API_KEY` environment variable before using the library (learn how to in this [quickstart tutorial](https://platform.openai.com/docs/quickstart/step-2-set-up-your-api-key).):\n",
    " ```\n",
    " !export OPENAI_API_KEY='sk-...'\n",
    " ```\n",
    "\n",
    "Or, set `openai.api_key` to its value:\n",
    "\n",
    "```\n",
    "import openai\n",
    "openai.api_key = \"sk-...\"\n",
    "```"
   ]
  }
 ],
 "metadata": {
  "kernelspec": {
   "display_name": "Python 3 (ipykernel)",
   "language": "python",
   "name": "python3"
  },
  "language_info": {
   "codemirror_mode": {
    "name": "ipython",
    "version": 3
   },
   "file_extension": ".py",
   "mimetype": "text/x-python",
   "name": "python",
   "nbconvert_exporter": "python",
   "pygments_lexer": "ipython3",
   "version": "3.8.9"
  }
 },
 "nbformat": 4,
 "nbformat_minor": 5
}
