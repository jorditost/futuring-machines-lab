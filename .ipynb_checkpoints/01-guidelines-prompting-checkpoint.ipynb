{
 "cells": [
  {
   "cell_type": "markdown",
   "id": "d965793a-da38-4d06-8114-d477db060fd7",
   "metadata": {},
   "source": [
    "# Guidelines for Prompting\n",
    "\n",
    "In this notebook you'll practice two prompting principles and their related tactics in order to write effective prompts for large language models.\n",
    "\n",
    "## Setup"
   ]
  },
  {
   "cell_type": "code",
   "execution_count": null,
   "id": "fa2dc66e-e8f3-48c3-bdf6-b77cba3caaed",
   "metadata": {},
   "outputs": [],
   "source": [
    "import ollama\n",
    "\n",
    "def get_completion(prompt, model=\"mistral\"):\n",
    "    messages = [{\"role\": \"user\", \"content\": prompt}]\n",
    "    response = ollama.chat(\n",
    "        model=model,\n",
    "        messages=messages\n",
    "    )\n",
    "    return response['message']['content']"
   ]
  },
  {
   "cell_type": "markdown",
   "id": "4ccf394c-7acb-4a3f-8542-98315b306816",
   "metadata": {},
   "source": [
    "## Summarize the text"
   ]
  },
  {
   "cell_type": "code",
   "execution_count": null,
   "id": "8ab219a0-d1ec-4379-bed2-8d93cc45d7d1",
   "metadata": {},
   "outputs": [],
   "source": [
    "text = f\"\"\"\n",
    "You should express what you want a model to do by \\ \n",
    "providing instructions that are as clear and \\ \n",
    "specific as you can possibly make them. \\ \n",
    "This will guide the model towards the desired output, \\ \n",
    "and reduce the chances of receiving irrelevant \\ \n",
    "or incorrect responses. Don't confuse writing a \\ \n",
    "clear prompt with writing a short prompt. \\ \n",
    "In many cases, longer prompts provide more clarity \\ \n",
    "and context for the model, which can lead to \\ \n",
    "more detailed and relevant outputs.\n",
    "\"\"\"\n",
    "prompt = f\"\"\"\n",
    "Summarize the text delimited by triple backticks \\ \n",
    "into a single sentence.\n",
    "```{text}```\n",
    "\"\"\"\n",
    "response = get_completion(prompt)\n",
    "print(response)"
   ]
  }
 ],
 "metadata": {
  "kernelspec": {
   "display_name": "Python 3 (ipykernel)",
   "language": "python",
   "name": "python3"
  },
  "language_info": {
   "codemirror_mode": {
    "name": "ipython",
    "version": 3
   },
   "file_extension": ".py",
   "mimetype": "text/x-python",
   "name": "python",
   "nbconvert_exporter": "python",
   "pygments_lexer": "ipython3",
   "version": "3.8.9"
  }
 },
 "nbformat": 4,
 "nbformat_minor": 5
}
