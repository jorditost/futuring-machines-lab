{
 "cells": [
  {
   "cell_type": "markdown",
   "id": "83041ab6-2cfe-40f3-a9db-e13935806e27",
   "metadata": {},
   "source": [
    "# Format responses\n",
    "\n",
    "In this notebook there are collected some snippets that will be helpful to format / limit / control the responses of the model."
   ]
  },
  {
   "cell_type": "markdown",
   "id": "22140892-2a06-4bcd-a68e-9d3581f17ccf",
   "metadata": {},
   "source": [
    "## Enter text\n",
    "\n",
    "```\n",
    "The text is delimited with triple backticks. \\\n",
    "```\n",
    "then\n",
    "\n",
    "```\n",
    "Story: ```{story}```\n",
    "```\n",
    "\n",
    "## Limit response length\n",
    "\n",
    "```\n",
    "\"Use at most 50 words.\"\n",
    "\"Use at most 3 sentences.\"\n",
    "\"Use at most 280 characters.\"\n",
    "\"Make your response as short as possible.\"\n",
    "```\n",
    "\n",
    "## Limit paragraph length\n",
    "\n",
    "```\n",
    "Each paragraph should be no more than five sentences long.\n",
    "```\n",
    "\n",
    "## Output as JSON object\n",
    "\n",
    "```\n",
    "\"Format your response as a JSON object.\"\n",
    "\n",
    "Format your response as a JSON object \\\n",
    "with \"key1\", \"key2\", \"key3\" as the keys. \\\n",
    "If the information isn't present, use \\\n",
    "\"unknown\" as the value.\n",
    "```"
   ]
  },
  {
   "cell_type": "code",
   "execution_count": null,
   "id": "a7979974-a7fd-48a7-94fd-f65458fa223f",
   "metadata": {},
   "outputs": [],
   "source": []
  }
 ],
 "metadata": {
  "kernelspec": {
   "display_name": "Python 3 (ipykernel)",
   "language": "python",
   "name": "python3"
  },
  "language_info": {
   "codemirror_mode": {
    "name": "ipython",
    "version": 3
   },
   "file_extension": ".py",
   "mimetype": "text/x-python",
   "name": "python",
   "nbconvert_exporter": "python",
   "pygments_lexer": "ipython3",
   "version": "3.8.9"
  }
 },
 "nbformat": 4,
 "nbformat_minor": 5
}
