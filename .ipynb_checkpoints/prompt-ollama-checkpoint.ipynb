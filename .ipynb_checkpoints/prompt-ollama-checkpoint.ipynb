{
 "cells": [
  {
   "cell_type": "markdown",
   "id": "d965793a-da38-4d06-8114-d477db060fd7",
   "metadata": {
    "tags": []
   },
   "source": [
    "# Just a playground for prompts using Ollama"
   ]
  },
  {
   "cell_type": "code",
   "execution_count": null,
   "id": "fa2dc66e-e8f3-48c3-bdf6-b77cba3caaed",
   "metadata": {},
   "outputs": [],
   "source": [
    "import ollama\n",
    "\n",
    "# Load ollama API URL\n",
    "import os\n",
    "from dotenv import load_dotenv, find_dotenv\n",
    "_ = load_dotenv(find_dotenv())\n",
    "\n",
    "api_url  = os.getenv('API_URL')"
   ]
  },
  {
   "cell_type": "markdown",
   "id": "8a308e9b-aab4-4bd2-8748-037eeea66dcb",
   "metadata": {},
   "source": [
    "#### Stream"
   ]
  },
  {
   "cell_type": "code",
   "execution_count": 10,
   "id": "b736aee7-2097-48df-8d71-8831ddcae3ae",
   "metadata": {},
   "outputs": [
    {
     "name": "stdout",
     "output_type": "stream",
     "text": [
      " Lila sprinted down the polished marble corridors of the Spellman Academy for Gifted Youth, her long black hair streaming behind her like a banner. The castle-like building bustled with students darting to their next class, but she barely noticed them. Her heart pounded in her chest as she clutched a hastily scrawled note, her professor's words echoing in her mind: \"See me after class.\"\n",
      "\n",
      "She burst into Professor Ambrose's office, out of breath and trying to hide her anxiety. The room was filled with towering bookshelves and the faint smell of old parchment. A fire crackled merrily in the hearth, casting flickering shadows on the walls.\n",
      "\n",
      "\"Ah, Lila!\" Professor Ambrose looked up from his desk, a kindly smile on his weathered face. \"You're just in time. I have something important to discuss with you.\"\n",
      "\n",
      "Lila swallowed hard, her thoughts racing. Had she finally done it? Had she failed at something so spectacularly that even the notoriously patient Professor Ambrose had lost his temper?\n",
      "\n",
      "\"Before we start,\" she blurted out, \"I just wanted to say that I've been practicing every day. I know I haven't mastered levitation yet, but—\"\n",
      "\n",
      "Professor Ambrose held up a hand to stop her. \"This isn't about your progress in class, Lila. It's about something much more exciting.\"\n",
      "\n",
      "A wave of relief washed over her, followed by a surge of curiosity. She leaned forward, eager to hear what he had to say.\n",
      "\n",
      "At that moment, Max burst into the room, panting and disheveled. \"Lila! I've been looking everywhere for you!\"\n",
      "\n",
      "Max, Lila's best friend and roommate, was a study in contrasts: tall where Lila was short, freckled where she was olive-skinned, outgoing where she was reserved. They had been inseparable since their first day at Spellman Academy, sharing secrets, laughter, and the occasional tear.\n",
      "\n",
      "\"What's going on?\" Max asked, looking from Lila to Professor Ambrose and back again.\n",
      "\n",
      "Professor Ambrose beamed at them both. \"I'm glad you're both here. I have an opportunity that I think will interest you immensely.\"\n",
      "\n",
      "Lila felt her heart leap with anticipation. What could it be?\n",
      "\n",
      "As if reading her mind, Professor Ambrose continued, \"You see, every year the school sends a select group of students on a special mission to retrieve a rare and powerful magical artifact. And this year, I believe that Lila and Max are ready for this challenge.\"\n",
      "\n",
      "Lila's eyes widened with shock and excitement. Was he serious? She glanced at Max, who looked equally stunned.\n",
      "\n",
      "\"We accept!\" they chorused, their voices filled with determination and a hint of fear.\n",
      "\n",
      "Professor Ambrose nodded solemnly. \"I thought you might. You leave for the enchanted forest tomorrow at dawn.\"\n",
      "\n",
      "As Lila and Max left the office, arm in arm, Lila couldn't help but feel a mix of emotions. She was thrilled at the prospect of this adventure, but she also knew that it would be dangerous and difficult. And yet, there was something deep within her that whispered that she was ready for this challenge. That she had been waiting for it all her life.\n",
      "\n",
      "As they made their way back to their shared dorm room, Lila couldn't help but reflect on how far she had come since arriving at Spellman Academy as a shy and uncertain 12-year-old. Back then, she had been plagued by doubts about her magical abilities and her place in the world. But now, at 14, she felt stronger, more confident, and ready to take on whatever challenges lay ahead.\n",
      "\n",
      "She just hoped that she wouldn't let herself—or Max—down."
     ]
    }
   ],
   "source": [
    "prompt = f\"\"\"Act as a bestselling author. \n",
    "\n",
    "I'm writing a fantasy novel where the protagonist is a 14-year-old girl named Lila who has just discovered she has magical powers.\n",
    "\n",
    "Following Blake Snyder's Save The Cat method, write a 200-word Setup Scene that:\n",
    "\n",
    "1) Shows Lila in her everyday life as a student at a prestigious magic academy\n",
    "2) Hints at her desire to prove herself and her fear of failure with a glimpse into her past\n",
    "3) Introduces her best friend and roommate, Max, and gives a sense of their relationship dynamic\n",
    "\n",
    "Use vivid sensory details and bits of dialogue to bring the scene to life.\"\"\"\n",
    "\n",
    "from ollama import Client\n",
    "client = Client(host=api_url) #api_url set before as env variable\n",
    "response = client.generate(\n",
    "    model=\"mixtral\", \n",
    "    prompt=prompt,\n",
    "    stream=True\n",
    ")\n",
    "\n",
    "for part in response :\n",
    "  print(part['response'], end='', flush=True)"
   ]
  },
  {
   "cell_type": "markdown",
   "id": "4e812e6a-c4e8-4b38-9868-117914562229",
   "metadata": {},
   "source": [
    "#### Custom API + System Prompt"
   ]
  },
  {
   "cell_type": "code",
   "execution_count": 20,
   "id": "810b3222-c9a2-4a50-be64-5e7ffdb92859",
   "metadata": {},
   "outputs": [
    {
     "name": "stdout",
     "output_type": "stream",
     "text": [
      "Ursula pushed her walker through the community's garden gate, Carrie slung over her shoulder like a trusted companion. The bag's canvas creaked as she shifted her weight, accustomed to Ursula's rhythmic pace.\n",
      "\n",
      "As they walked, the scent of ripening vegetables and fresh bread wafted from the communal kitchen. \"Morning, Ursula!\" someone called out. She smiled, exchanging pleasantries with a few neighbors, but her eyes strayed to the young couple who'd moved in last week. They were now part of the community's planning committee.\n",
      "\n",
      "In the garden, Carrie's contents – tools and baskets – clattered against each other as Ursula set them down beside a weathered wooden table. \"Time for me to start harvesting, Carrie,\" she said, running her fingers over the bag's worn strap. \"You ready?\"\n",
      "\n",
      "Carrie hung limp from her shoulder, but Ursula knew that was just her way of saying she was always ready. As they worked together, the silence between them was a comfortable familiarity. But beneath the surface, a faint tremble in Carrie seemed to echo the quiet unease that had been growing inside Ursula since the community's plans for 'smart living' were announced."
     ]
    }
   ],
   "source": [
    "systemPrompt = f\"\"\"\n",
    "Act as a bestselling author and specialize in fantasy novel.\n",
    "Do not add any comment or note of your own in the responses. \n",
    "Just write text for the story.\n",
    "\"\"\"\n",
    "\n",
    "prompt = f\"\"\"\n",
    "I'm writing a short speculative story.\n",
    "\n",
    "The story is placed in 2050 in a small city in Brandengurg, Germany, called Herzberg (Elster).\n",
    "The protagonist is a 84-year-old woman named Ursula.\n",
    "Ursula lives in a community with other people. Her best friend is a smart carrier bag called Carrie. \n",
    "Carrie is important to Ursula because it helps her to carry heavy stuff during harvest.\n",
    "Ursula wants that people in town, of all ages, live together, all contributing to what they can.\n",
    "Ursula is though scared that all technology and coliving with young people exclude elderly like her.\n",
    "\n",
    "Following Blake Snyder's Save The Cat method, write a 100-word Setup Scene that:\n",
    "\n",
    "1) Shows the protagonist in their everyday life in a normal daily situation, showing where they live.\n",
    "2) Introduces their best friend and gives a sense of their relationship dynamic\n",
    "\n",
    "Use vivid sensory details and bits of dialogue to bring the scene to life.\"\"\"\n",
    "\n",
    "from ollama import Client\n",
    "client = Client(host=api_url)\n",
    "response = client.generate(\n",
    "    model='llama3.1:8b', # llama3.1:8b // mixtral\n",
    "    system=systemPrompt,\n",
    "    prompt=prompt,\n",
    "    stream=True\n",
    ")\n",
    "for part in response :\n",
    "  print(part['response'], end='', flush=True)"
   ]
  },
  {
   "cell_type": "markdown",
   "id": "c5d490b7-f39c-4835-bda7-8a1035484c6a",
   "metadata": {},
   "source": [
    "### Add some style instructions"
   ]
  },
  {
   "cell_type": "code",
   "execution_count": null,
   "id": "fc171be7-d473-4be6-a5c0-2df108ddc05f",
   "metadata": {},
   "outputs": [],
   "source": [
    "systemPrompt = f\"\"\"\n",
    "Act as a bestselling author and specialize in fantasy novel.\n",
    "Do not add any comment or note of your own in the responses. \n",
    "Just write text for the story.\n",
    "\"\"\"\n",
    "\n",
    "prompt = f\"\"\"\n",
    "I'm writing a short speculative story.\n",
    "\n",
    "The story is placed in 2050 in a small city in Brandengurg, Germany, called Herzberg (Elster).\n",
    "The protagonist is a 84-year-old woman named Ursula.\n",
    "Ursula lives in a community with other people. Her best friend is a smart carrier bag called Carrie. \n",
    "Carrie is important to Ursula because it helps her to carry heavy stuff during harvest.\n",
    "Ursula wants that people in town, of all ages, live together, all contributing to what they can.\n",
    "Ursula is though scared that all technology and coliving with young people exclude elderly like her.\n",
    "\n",
    "Following Blake Snyder's Save The Cat method, write a 100-word Setup Scene that:\n",
    "\n",
    "1) Shows the protagonist in their everyday life in a normal daily situation, showing where they live.\n",
    "2) Introduces their best friend and gives a sense of their relationship dynamic\n",
    "\n",
    "The setup scene should: \n",
    "\n",
    "1. Use a clear, concise and direct language.\n",
    "2. Imply a much larger narrative.\n",
    "3. Use concrete nouns and strong verbs.\n",
    "4. Avoid using too many adjectives and adverbs.\n",
    "5. Create a sense of tension or conflict. \n",
    "6. Do not be too direct: Imply the conflict rather than state it.\n",
    "6. Leave room for reader interpretation.\n",
    "8. Add an emotional undercurrent without being explicit.\n",
    "9. Avoid being wordy. Make it minimal, allowing the reader to infer the deeper meaning.\n",
    "\n",
    "Use vivid sensory details and bits of dialogue to bring the scene to life.\"\"\"\n",
    "\n",
    "from ollama import Client\n",
    "client = Client(host=api_url)\n",
    "response = client.generate(\n",
    "    model='llama3.1:8b', # llama3.1:8b // mixtral\n",
    "    system=systemPrompt,\n",
    "    prompt=prompt,\n",
    "    stream=True\n",
    ")\n",
    "for part in response :\n",
    "  print(part['response'], end='', flush=True)"
   ]
  }
 ],
 "metadata": {
  "kernelspec": {
   "display_name": "Python 3 (ipykernel)",
   "language": "python",
   "name": "python3"
  },
  "language_info": {
   "codemirror_mode": {
    "name": "ipython",
    "version": 3
   },
   "file_extension": ".py",
   "mimetype": "text/x-python",
   "name": "python",
   "nbconvert_exporter": "python",
   "pygments_lexer": "ipython3",
   "version": "3.8.9"
  }
 },
 "nbformat": 4,
 "nbformat_minor": 5
}
