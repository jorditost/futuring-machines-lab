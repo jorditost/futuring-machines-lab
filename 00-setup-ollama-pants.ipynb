{
 "cells": [
  {
   "cell_type": "markdown",
   "id": "d965793a-da38-4d06-8114-d477db060fd7",
   "metadata": {
    "tags": []
   },
   "source": [
    "# Setup Ollama\n",
    "\n",
    "In this notebook you'll see how to load the Ollama API library and use a helper function.\n",
    "\n",
    "### Install the Ollama Python library\n",
    "    \n",
    "```\n",
    "pip install ollama\n",
    "```\n",
    "\n",
    "### Load the Python libary"
   ]
  },
  {
   "cell_type": "code",
   "execution_count": 6,
   "id": "fa2dc66e-e8f3-48c3-bdf6-b77cba3caaed",
   "metadata": {},
   "outputs": [],
   "source": [
    "import ollama"
   ]
  },
  {
   "cell_type": "markdown",
   "id": "5ca0c572-38a7-4fad-ae7c-e219f52ff1ad",
   "metadata": {},
   "source": [
    "### Helper Function\n",
    "\n",
    "This helper function will make it easier to use prompts and look at the generated outputs."
   ]
  },
  {
   "cell_type": "code",
   "execution_count": 7,
   "id": "b9a1d68f-2831-4581-8f3c-a094ed5ebf27",
   "metadata": {},
   "outputs": [],
   "source": [
    "# Helper function\n",
    "def get_completion(prompt, model=\"mistral\"):\n",
    "    messages = [{\"role\": \"user\", \"content\": prompt}]\n",
    "    response = ollama.chat(\n",
    "        model=model,\n",
    "        messages=messages\n",
    "    )\n",
    "    return response['message']['content']"
   ]
  },
  {
   "cell_type": "markdown",
   "id": "e75ebb10-d06a-4df2-aeda-74608514be01",
   "metadata": {},
   "source": [
    "### Example"
   ]
  },
  {
   "cell_type": "code",
   "execution_count": 9,
   "id": "01f8a65b-941d-405a-b6de-18486774fe76",
   "metadata": {},
   "outputs": [
    {
     "name": "stdout",
     "output_type": "stream",
     "text": [
      "=============Prompt: Respond kindly to the child: i really hate zucchini. why should i eat it?=============\n",
      " I understand that you don't like zucchini right now, and it's okay to have preferences when it comes to food. However, eating a variety of foods is important for our health and well-being. Zucchini is a nutritious vegetable that provides essential vitamins and minerals. Maybe we could try preparing it in different ways to see if you change your mind? For example, we could slice it into rounds, roast it with some parmesan cheese, or grate it into zoodles for pasta dishes. You might find that you enjoy it more when prepared in a way that suits your taste buds! If not, it's still important to remember that everyone has food preferences and it's normal not to like every single food. But let's keep trying new things, because you never know when you might discover a new favorite!\n",
      "=============Prompt: <s>[INST] Respond kindly to the child: i really hate zucchini. why should i eat it? [/INST]=============\n",
      " I'm glad you shared that you don't enjoy zucchini, and it's important to listen to your preferences when it comes to food. However, there are some reasons why eating a variety of fruits and vegetables, including ones we might not initially like, is beneficial for our health. Zucchini is rich in essential nutrients such as vitamins A, C, and K, potassium, and folate. These nutrients contribute to maintaining good overall health and can help support strong bones, a healthy immune system, and proper brain function. You might consider trying different cooking methods or adding flavors you enjoy to make zucchini dishes more appealing to your taste buds. If you're open to it, I'd be happy to help explore some delicious zucchini recipes or suggest alternatives if needed!\n"
     ]
    }
   ],
   "source": [
    "# Prompt with pants: f\"<s>[INST] {prompt} [/INST]\"\n",
    "\n",
    "prompt = \"Respond kindly to the child: i really hate zucchini. why should i eat it?\"\n",
    "\n",
    "print(f\"=============Prompt: {prompt}=============\")\n",
    "print(get_completion(prompt))\n",
    "\n",
    "print(f\"=============Prompt: <s>[INST] {prompt} [/INST]=============\")\n",
    "print(get_completion(f\"<s>[INST] {prompt} [/INST]\"))"
   ]
  },
  {
   "cell_type": "code",
   "execution_count": 10,
   "id": "cc3cd6fd-f5dc-4a2a-b613-455925706172",
   "metadata": {},
   "outputs": [
    {
     "name": "stdout",
     "output_type": "stream",
     "text": [
      "=============Prompt: You are a healths food nut. I'm drinking green juice=============\n",
      " I'm glad to hear that you're enjoying a green juice! Green juices are an excellent way to get a large amount of nutrients from fruits and vegetables in one serving. They're also a great way to increase your intake of essential vitamins, minerals, and antioxidants. Some common ingredients in green juices include kale, spinach, cucumber, apple, celery, ginger, lemon, and parsley. These foods are rich in fiber, chlorophyll, and other important phytonutrients that support good health. If you're new to green juicing, I would recommend starting with a milder blend of fruits and vegetables and gradually adding more leafy greens as your palate adjusts. Enjoy your healthy beverage!\n",
      "=============Prompt: <s>[INST] You are a healths food nut. I'm drinking green juice [/INST]=============\n",
      " That's great to hear that you're enjoying a green juice! Green juices are an excellent way to get a large amount of vitamins, minerals, and phytochemicals from fruits and vegetables in one serving. The dark leafy greens like kale, spinach, and Swiss chard provide an abundance of fiber, calcium, iron, and magnesium. Fruits add natural sweetness, antioxidants, and electrolytes.\n",
      "\n",
      "If you're looking for ways to enhance your green juice experience or if you'd like some suggestions on ingredients, feel free to ask! Some common add-ins are ginger for a boost of immunity, lemon or lime for flavor and detoxification, and beets or carrots for an extra dose of nutrients.\n",
      "\n",
      "Cheers to your health and wellness journey! Is there anything specific you would like to know about green juicing?\n"
     ]
    }
   ],
   "source": [
    "# Prompt with pants: f\"<s>[INST] {prompt} [/INST]\"\n",
    "\n",
    "prompt = \"You are a healths food nut. I'm drinking green juice\"\n",
    "\n",
    "print(f\"=============Prompt: {prompt}=============\")\n",
    "print(get_completion(prompt))\n",
    "\n",
    "print(f\"=============Prompt: <s>[INST] {prompt} [/INST]=============\")\n",
    "print(get_completion(f\"<s>[INST] {prompt} [/INST]\"))"
   ]
  }
 ],
 "metadata": {
  "kernelspec": {
   "display_name": "Python 3 (ipykernel)",
   "language": "python",
   "name": "python3"
  },
  "language_info": {
   "codemirror_mode": {
    "name": "ipython",
    "version": 3
   },
   "file_extension": ".py",
   "mimetype": "text/x-python",
   "name": "python",
   "nbconvert_exporter": "python",
   "pygments_lexer": "ipython3",
   "version": "3.8.9"
  }
 },
 "nbformat": 4,
 "nbformat_minor": 5
}
