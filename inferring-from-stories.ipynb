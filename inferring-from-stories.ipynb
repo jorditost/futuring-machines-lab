{
 "cells": [
  {
   "cell_type": "markdown",
   "id": "ad0c5572-51ab-40d2-a56c-03056ba46819",
   "metadata": {},
   "source": [
    "# Inferring + Story\n",
    "\n",
    "In this notebook, we infer sentiment and different topics from a short fiction story.\n",
    "\n",
    "## Setup"
   ]
  },
  {
   "cell_type": "code",
   "execution_count": 6,
   "id": "3c0db0ae-a2a2-41dc-a8a2-a1d2d9176c4d",
   "metadata": {},
   "outputs": [],
   "source": [
    "# Ollama\n",
    "import ollama\n",
    "def get_completion(prompt, model=\"mistral\"):\n",
    "    messages = [{\"role\": \"user\", \"content\": prompt}]\n",
    "    response = ollama.chat(\n",
    "        model=model,\n",
    "        messages=messages\n",
    "    )\n",
    "    return response['message']['content']"
   ]
  },
  {
   "cell_type": "markdown",
   "id": "19512a06-62fb-4a2c-927c-d07abfdad012",
   "metadata": {
    "tags": []
   },
   "source": [
    "## Story"
   ]
  },
  {
   "cell_type": "code",
   "execution_count": 2,
   "id": "e2111564-0439-4b73-9514-c6ccd7831c7c",
   "metadata": {},
   "outputs": [],
   "source": [
    "story = \"\"\"\n",
    "Herbert is a senior citizen who is friendly and open to his \\\n",
    "fellow human beings. He really wanted to move into one of \\\n",
    "these smart houses. They are called \"Homes for Life\". \\\n",
    "The house is not a single apartment, but it's not a care \\\n",
    "home either, so there's no hanging around with just old people. \\\n",
    "There's no bingo. Oh God he hates bingo! But what he does love \\\n",
    "is every morning going for a walk in the woods. He likes to be \\\n",
    "in company, but also enjoys time on his own. Then he feels \\\n",
    "autonomous and independent. Although sometimes he is afraid of \\\n",
    "getting lost. Especially after being diagnosed with dementia. \\\n",
    "The home itself diagnosed him shortly after he moved in. He was \\\n",
    "then given smart shoes for his walks to help him stay fit. \\\n",
    "The smart shoes can also show him the safest route with the \\\n",
    "smart laces or notify his housemates if he gets lost. \n",
    "\"\"\""
   ]
  },
  {
   "cell_type": "markdown",
   "id": "9d7d04b6-7d11-44d4-bed9-e2ae41f6d934",
   "metadata": {},
   "source": [
    "## Sentiment\n",
    "\n",
    "### Sentiment (without response format)\n",
    "\n",
    "Let's just ask, without concretising how do we want the response."
   ]
  },
  {
   "cell_type": "code",
   "execution_count": 4,
   "id": "bba4ca54-6cbb-40a6-a445-fae51136d6a0",
   "metadata": {},
   "outputs": [
    {
     "name": "stdout",
     "output_type": "stream",
     "text": [
      " The sentiment of the story is generally positive. The main character, Herbert, is portrayed as a friendly and independent senior citizen who values his autonomy and independence, but also appreciates the supportive features of the \"Homes for Life\" community that helps him navigate his daily life with dementia and ensure his safety during his walks in the woods. The story emphasizes his love for nature, companionship, and desire to stay active. Overall, it presents a compassionate and understanding depiction of aging and the challenges faced by seniors with cognitive impairments.\n"
     ]
    }
   ],
   "source": [
    "# Sentiment\n",
    "prompt = f\"\"\"\n",
    "What is the sentiment of the following story, \n",
    "which is delimited with triple backticks?\n",
    "\n",
    "Story: ```{story}```\n",
    "\"\"\"\n",
    "\n",
    "response = get_completion(prompt)\n",
    "print(response)"
   ]
  },
  {
   "cell_type": "markdown",
   "id": "9b4f01a4-16b8-4bda-8229-7aec3f55b1e5",
   "metadata": {},
   "source": [
    "### Sentiment (positive / negative)"
   ]
  },
  {
   "cell_type": "code",
   "execution_count": 5,
   "id": "39b10a37-dc7a-447d-b50b-1426609a12ad",
   "metadata": {},
   "outputs": [
    {
     "name": "stdout",
     "output_type": "stream",
     "text": [
      " Positive. The story describes Herbert's desire to live independently in a smart home that caters to his needs and helps him maintain his autonomy despite his diagnosis of dementia. The presence of technology, such as the smart shoes, is portrayed as beneficial and supportive rather than restrictive or negative.\n"
     ]
    }
   ],
   "source": [
    "# Sentiment (positive / negative)\n",
    "prompt = f\"\"\"\n",
    "What is the sentiment of the following story, \n",
    "which is delimited with triple backticks?\n",
    "\n",
    "Give your answer as a single word, either \"positive\" \\\n",
    "or \"negative\".\n",
    "\n",
    "Story: ```{story}```\n",
    "\"\"\"\n",
    "response = get_completion(prompt)\n",
    "print(response)"
   ]
  },
  {
   "cell_type": "markdown",
   "id": "1a89fc94-3785-459a-9b7a-e119e8c85d65",
   "metadata": {},
   "source": [
    "### Sentiment (optimistic / pessimistic / critical / fearful)\n",
    "\n",
    "**Note:** The prompt seems to give more than a single word. Maybe this is because the answer is ambivalent, the model returns a response that reasons why the result is \"optimistic\" despite the negative parts of the story (the dementia diagnosis)."
   ]
  },
  {
   "cell_type": "code",
   "execution_count": null,
   "id": "0e864a24-a3aa-47f5-ab42-44d960c97c3b",
   "metadata": {},
   "outputs": [],
   "source": [
    "# Sentiment (optimistic / pessimistic / critical / fearful)\n",
    "prompt = f\"\"\"\n",
    "What is the sentiment of the following story \\\n",
    "which is delimited with triple backticks?\n",
    "\n",
    "Give your answer as a single word, either \"optimistic\", \\\n",
    "\"pessimistic\", \"critical\" or \"fearful\".\n",
    "\n",
    "Story: ```{story}```\n",
    "\"\"\"\n",
    "response = get_completion(prompt)\n",
    "print(response)"
   ]
  },
  {
   "cell_type": "markdown",
   "id": "45f59aa9-27d5-41ef-8c66-a9842fb71291",
   "metadata": {},
   "source": [
    "### Sentiment towards the future (optimistic / pessimistic / critical / fearful)"
   ]
  },
  {
   "cell_type": "code",
   "execution_count": null,
   "id": "badea385-3bfa-4679-a30f-861d5487f6e6",
   "metadata": {},
   "outputs": [],
   "source": [
    "# Sentiment (optimistic / pessimistic / critical / fearful)\n",
    "prompt = f\"\"\"\n",
    "What is the sentiment in relation to the future of the \\\n",
    "following story which is delimited with triple backticks?\n",
    "\n",
    "Give your answer as a single word, either \"optimistic\", \\\n",
    "\"pessimistic\", \"critical\" or \"fearful\".\n",
    "\n",
    "Story: ```{story}```\n",
    "\"\"\"\n",
    "response = get_completion(prompt)\n",
    "print(response)"
   ]
  },
  {
   "cell_type": "markdown",
   "id": "eb788024-2d20-438d-8c77-1e5f0fe745dc",
   "metadata": {},
   "source": [
    "## Identify types of emotions in the story\n",
    "\n",
    "**Note:** From the perspective of the writer, the emotions doesn’t seem to give much information. At least with this prompt. It could be interesting though to further explore this view.\n",
    "\n",
    "### From the writer's point of view"
   ]
  },
  {
   "cell_type": "code",
   "execution_count": null,
   "id": "fecda723-0e09-4d30-a11f-55c97011ad8d",
   "metadata": {},
   "outputs": [],
   "source": [
    "# Extract types of emotions in the story (expressed by the writer)\n",
    "prompt = f\"\"\"\n",
    "Identify a list of emotions that the writer of \\\n",
    "the following story is expressing.\n",
    "\n",
    "Include no more than five items in the list.\n",
    "Format your answer as a list of lower-case words separated by commas.\n",
    "\n",
    "Story: ```{story}```\n",
    "\"\"\"\n",
    "response = get_completion(prompt)\n",
    "print(response)"
   ]
  },
  {
   "cell_type": "markdown",
   "id": "0a2cc729-0ae2-482f-a0ac-f6ca3b9f9185",
   "metadata": {},
   "source": [
    "### From the character's point of view\n",
    "\n",
    "**Note:** interesting than changing the perspective to the “main character” the model gives slightly differebt (more relevant?) results. It would be interesting to see what is interpreting by the writer, if it's more about the content of the story or the writing style."
   ]
  },
  {
   "cell_type": "code",
   "execution_count": 7,
   "id": "9dff2875-7fc1-47c8-bf46-36e050c485ff",
   "metadata": {},
   "outputs": [
    {
     "name": "stdout",
     "output_type": "stream",
     "text": [
      " fear, happiness (from moving into the \"Homes for Life\" house), love (for going for walks in the woods), autonomy, independence\n"
     ]
    }
   ],
   "source": [
    "# Extract types of emotions in the story (from the character)\n",
    "prompt = f\"\"\"\n",
    "Identify a list of emotions that the main character of \\\n",
    "the following story is expressing.\n",
    "\n",
    "Include no more than five items in the list.\n",
    "Format your answer as a list of lower-case words separated by commas.\n",
    "\n",
    "Story: ```{story}```\n",
    "\"\"\"\n",
    "response = get_completion(prompt)\n",
    "print(response)"
   ]
  },
  {
   "cell_type": "markdown",
   "id": "9c645103-7009-4f9b-b21d-0cb22d229bae",
   "metadata": {},
   "source": [
    "## Identify needs in the story"
   ]
  },
  {
   "cell_type": "code",
   "execution_count": 8,
   "id": "a5599593-8145-43a6-a556-2c626db77d40",
   "metadata": {},
   "outputs": [
    {
     "name": "stdout",
     "output_type": "stream",
     "text": [
      " 1. desire for independence and autonomy,\n",
      "2. need for companionship,\n",
      "3. safety and security during outdoor activities,\n",
      "4. support for navigational needs due to dementia,\n",
      "5. access to care and medical diagnosis.\n"
     ]
    }
   ],
   "source": [
    "# Extract needs in the story (character perspective)\n",
    "prompt = f\"\"\"\n",
    "Identify a list of needs that the character of the \\\n",
    "following story is expressing. \n",
    "\n",
    "Include no more than five items in the list. \n",
    "Format your answer as a list of lower-case words \\\n",
    "separated by commas.\n",
    "\n",
    "Story: ```{story}```\n",
    "\"\"\"\n",
    "response = get_completion(prompt)\n",
    "print(response)"
   ]
  },
  {
   "cell_type": "markdown",
   "id": "2a8f73f0-3464-4a54-9277-99345e8ea402",
   "metadata": {},
   "source": [
    "## Infer topics of the story\n",
    "\n",
    "**Note:** The response includes topics in general, not only related to technology, fututures or people's needs in relation to them. It would be interesting to find a way to fine-tune this (*Update:* first attempt below)."
   ]
  },
  {
   "cell_type": "code",
   "execution_count": null,
   "id": "6c653294-84db-4740-88ab-5171c7d78336",
   "metadata": {},
   "outputs": [],
   "source": [
    "# Extract 5 topics from the story\n",
    "prompt = f\"\"\"\n",
    "Determine five topics that are being discussed in the \\\n",
    "following story, which is delimited by triple backticks.\n",
    "Focus on topics at the interesection between technology, \\\n",
    "futures and personal and societal needs.\n",
    "\n",
    "Make each item one or two words long. \n",
    "\n",
    "Format your response with the topics as lower-case words \\\n",
    "separated by commas.\n",
    "\n",
    "Story: ```{story}```\n",
    "\"\"\"\n",
    "\n",
    "response = get_completion(prompt)\n",
    "print(response)"
   ]
  },
  {
   "cell_type": "markdown",
   "id": "0c1ff571-9842-430f-ae21-6c305ff8b9f6",
   "metadata": {},
   "source": [
    "## Doing multiple tasks at once"
   ]
  },
  {
   "cell_type": "code",
   "execution_count": null,
   "id": "d6c70204-e585-4853-beb2-cb8f0f8b5826",
   "metadata": {},
   "outputs": [],
   "source": [
    "prompt = f\"\"\"\n",
    "Identify the following items from the story: \n",
    "- Perspective towards the future (optimistic, pessimistic, critical, fearful)\n",
    "– Topics discussed\n",
    "– Needs expressed by the character\n",
    "- Name of the main character\n",
    "– Aproximate age of the main character\n",
    "- Item that the character is using\n",
    "– Description of the item that the character is using\n",
    "- Living environment of the character\n",
    "– Description of the living environment of the character\n",
    "\n",
    "The story is delimited with triple backticks. \\\n",
    "Format your response as a JSON object with \\\n",
    "\"Perspective\", \"Topics\", \"Needs\", Name\", \"Age\", \"Item\", \\\n",
    "\"Item description\", \"Living environment\", \\\n",
    "\"Living environment description\" as the keys. \n",
    "If the information isn't present, use \"unknown\" \\\n",
    "as the value. Make your response as short as possible.\n",
    "\n",
    "Story: ```{story}```\n",
    "\"\"\"\n",
    "response = get_completion(prompt)\n",
    "print(response)"
   ]
  },
  {
   "cell_type": "markdown",
   "id": "f0e44d53-0493-49c3-9210-ae3e354c2ba0",
   "metadata": {},
   "source": [
    "## When does the story take place?\n",
    "\n",
    "### Open instruction"
   ]
  },
  {
   "cell_type": "code",
   "execution_count": null,
   "id": "c1a161fd-d4d0-4b1e-bd68-56f8937f12a0",
   "metadata": {},
   "outputs": [],
   "source": [
    "# Determine when the story takes place (open instruction)\n",
    "prompt = f\"\"\"\n",
    "Determine when does the following story take place, \\\n",
    "which is delimited with triple backticks?\n",
    "\n",
    "Story: ```{story}```\n",
    "\"\"\"\n",
    "response = get_completion(prompt)\n",
    "print(response)"
   ]
  },
  {
   "cell_type": "markdown",
   "id": "d2082420-8c62-434c-b3e8-04ecaad1a326",
   "metadata": {},
   "source": [
    "### Specify aspects to consider (e.g. technology, events)"
   ]
  },
  {
   "cell_type": "code",
   "execution_count": null,
   "id": "671a6100-e460-45d4-b375-7a9ab6c9ef2f",
   "metadata": {},
   "outputs": [],
   "source": [
    "# Determine when the story takes place (give some aspects to consider)\n",
    "prompt = f\"\"\"\n",
    "Determine when does the following story take place, \\\n",
    "considering aspects of the story such as mentioned \\\n",
    "technologies or other relevant events.\n",
    "The story is delimited with triple backticks.\n",
    "\n",
    "Story: ```{story}```\n",
    "\"\"\"\n",
    "response = get_completion(prompt)\n",
    "print(response)"
   ]
  },
  {
   "cell_type": "markdown",
   "id": "22802c33-e5d1-421b-a8ee-ee0c9cff9d0a",
   "metadata": {},
   "source": [
    "### Present, near-future, far-future"
   ]
  },
  {
   "cell_type": "code",
   "execution_count": null,
   "id": "5222cd64-ef7e-473a-ae8a-e6fbfd9eadf8",
   "metadata": {},
   "outputs": [],
   "source": [
    "# Determine when the story takes place: present, near-future, far-future\n",
    "prompt = f\"\"\"\n",
    "Determine when does the following story take place, \\\n",
    "which is delimited with triple backticks?\n",
    "\n",
    "Give your answer as a single word, either \"present\", \\\n",
    "\"near future\" or \"far future\".\n",
    "\n",
    "Story: ```{story}```\n",
    "\"\"\"\n",
    "response = get_completion(prompt)\n",
    "print(response)"
   ]
  },
  {
   "cell_type": "markdown",
   "id": "6b217669-31e7-4c74-b640-695503517062",
   "metadata": {},
   "source": [
    "### Test: Far future story #1\n",
    "\n",
    "We add some more futuristic aspects (*\"He lives in an exoplanet some light years away from planet Earth, where he was born.\"*) to the story in order to see how do the prompts work."
   ]
  },
  {
   "cell_type": "code",
   "execution_count": null,
   "id": "9fd68dda-358c-4880-986a-91601632bcee",
   "metadata": {},
   "outputs": [],
   "source": [
    "story_far = \"\"\"\n",
    "Herbert is a senior citizen who is friendly and open to his \\\n",
    "fellow human beings. He lives in an exoplanet some light years \\\n",
    "away from planet Earth, where he was born. He really wanted to move \\\n",
    "into one of these smart houses. They are called \"Homes for Life\". \\\n",
    "The house is not a single apartment, but it's not a care \\\n",
    "home either, so there's no hanging around with just old people. \\\n",
    "There's no bingo. Oh God he hates bingo! But what he does love \\\n",
    "is every morning going for a walk in the woods. He likes to be \\\n",
    "in company, but also enjoys time on his own. Then he feels \\\n",
    "autonomous and independent. Although sometimes he is afraid of \\\n",
    "getting lost. Especially after being diagnosed with dementia. \\\n",
    "The home itself diagnosed him shortly after he moved in. He was \\\n",
    "then given smart shoes for his walks to help him stay fit. \\\n",
    "The smart shoes can also show him the safest route with the \\\n",
    "smart laces or notify his housemates if he gets lost. \n",
    "\"\"\"\n",
    "\n",
    "# Determine when the story takes place: present, near-future, far-future\n",
    "prompt = f\"\"\"\n",
    "Determine when does the following story take place, \\\n",
    "which is delimited with triple backticks?\n",
    "\n",
    "Give your answer as a single word, either \"present\", \\\n",
    "\"near future\" or \"far future\".\n",
    "\n",
    "Story: ```{story_far}```\n",
    "\"\"\"\n",
    "response = get_completion(prompt)\n",
    "print(response)"
   ]
  },
  {
   "cell_type": "markdown",
   "id": "ac078153-0635-450d-a0d5-b195b363ec7d",
   "metadata": {},
   "source": [
    "### Test: Far future story #2\n",
    "\n",
    "Let's try with another context: *\"Different ages and also different species cohabit together in the same environment. That was possible after all technological advances in brain interfaces that allowed humans, animals and plants to communicate to each other. Symbiotic co-living they call it.\"*\n",
    "\n",
    "**Note:** Not sure if it should be rather a far future!"
   ]
  },
  {
   "cell_type": "code",
   "execution_count": null,
   "id": "21e31675-6bab-467a-9515-703da6afa4a6",
   "metadata": {},
   "outputs": [],
   "source": [
    "story_far = \"\"\"\n",
    "Herbert is a senior citizen who is friendly and open to his \\\n",
    "fellow human beings. He really wanted to move \\\n",
    "into one of these smart houses. They are called \"Homes for Life\". \\\n",
    "The house is not a single apartment, but it's not a care \\\n",
    "home either, so there's no hanging around with just old people. \\\n",
    "Different ages and also different species cohabit together in the same \\\n",
    "environment. That was possible after all technological advances in \\\n",
    "brain interfaces that allowed humans, animals and plants to communicate \\\n",
    "to each other. Symbiotic co-living they call it. Anyway, there's no bingo. \\\n",
    "Oh God he hates bingo! But what he does love \\\n",
    "is every morning going for a walk in the woods. He likes to be \\\n",
    "in company, but also enjoys time on his own. Then he feels \\\n",
    "autonomous and independent. Although sometimes he is afraid of \\\n",
    "getting lost. Especially after being diagnosed with dementia. \\\n",
    "The home itself diagnosed him shortly after he moved in. He was \\\n",
    "then given smart shoes for his walks to help him stay fit. \\\n",
    "The smart shoes can also show him the safest route with the \\\n",
    "smart laces or notify his housemates if he gets lost. \n",
    "\"\"\"\n",
    "\n",
    "# Determine when the story takes place: present, near-future, far-future\n",
    "prompt = f\"\"\"\n",
    "Determine when does the following story take place, \\\n",
    "which is delimited with triple backticks?\n",
    "\n",
    "Give your answer as a single word, either \"present\", \\\n",
    "\"near future\" or \"far future\".\n",
    "\n",
    "Story: ```{story_far}```\n",
    "\"\"\"\n",
    "response = get_completion(prompt)\n",
    "print(response)"
   ]
  },
  {
   "cell_type": "markdown",
   "id": "5a1265c5-2ca7-4f90-87c2-a5cfe7fd3099",
   "metadata": {},
   "source": [
    "## Infer technologies addressed"
   ]
  },
  {
   "cell_type": "code",
   "execution_count": 9,
   "id": "a22a3e07-8555-422a-9aaf-6c39d4b8ab98",
   "metadata": {},
   "outputs": [
    {
     "name": "stdout",
     "output_type": "stream",
     "text": [
      " smart houses, Homes for Life, dementia diagnosis, smart shoes, smart laces\n"
     ]
    }
   ],
   "source": [
    "# Extract technologies\n",
    "prompt = f\"\"\"\n",
    "Determine novel technologies and technological developments \\\n",
    "that are addressed in the following story, which is delimited \\\n",
    "by triple backticks.\n",
    "\n",
    "Make each item one or two words long. \n",
    "\n",
    "Format your response as lower-case words \\\n",
    "separated by commas.\n",
    "\n",
    "\n",
    "Story: ```{story}```\n",
    "\"\"\"\n",
    "\n",
    "response = get_completion(prompt)\n",
    "print(response)"
   ]
  },
  {
   "cell_type": "markdown",
   "id": "2c8c2b3d-c6ae-4605-b48e-1a9bf6b758bf",
   "metadata": {},
   "source": [
    "## Further inferences that could be addressed\n",
    "\n",
    "Try it out!\n",
    "\n",
    "- Creative ideas\n",
    "- Values\n",
    "- Fears\n",
    "- Wishes\n",
    "- Mood of the story\n",
    "- Mindsets\n",
    "- Attitude towards technology / futures \n",
    "- \"Questions to the future\""
   ]
  }
 ],
 "metadata": {
  "kernelspec": {
   "display_name": "Python 3 (ipykernel)",
   "language": "python",
   "name": "python3"
  },
  "language_info": {
   "codemirror_mode": {
    "name": "ipython",
    "version": 3
   },
   "file_extension": ".py",
   "mimetype": "text/x-python",
   "name": "python",
   "nbconvert_exporter": "python",
   "pygments_lexer": "ipython3",
   "version": "3.8.9"
  }
 },
 "nbformat": 4,
 "nbformat_minor": 5
}
