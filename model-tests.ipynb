{
 "cells": [
  {
   "cell_type": "markdown",
   "id": "d965793a-da38-4d06-8114-d477db060fd7",
   "metadata": {
    "tags": []
   },
   "source": [
    "# Model Tests\n",
    "\n",
    "Instruct vs. Text Models\n",
    "\n",
    "### Load the Python libary"
   ]
  },
  {
   "cell_type": "code",
   "execution_count": 1,
   "id": "fa2dc66e-e8f3-48c3-bdf6-b77cba3caaed",
   "metadata": {},
   "outputs": [],
   "source": [
    "import ollama\n",
    "\n",
    "# Load ollama API URL\n",
    "import os\n",
    "from dotenv import load_dotenv, find_dotenv\n",
    "_ = load_dotenv(find_dotenv())\n",
    "\n",
    "api_url  = os.getenv('API_URL')"
   ]
  },
  {
   "cell_type": "markdown",
   "id": "102dd790-a93c-4e19-b2bd-aa4498f4313b",
   "metadata": {},
   "source": [
    "### Example Generate Endpoint"
   ]
  },
  {
   "cell_type": "markdown",
   "id": "8a308e9b-aab4-4bd2-8748-037eeea66dcb",
   "metadata": {},
   "source": [
    "#### Custom API URL"
   ]
  },
  {
   "cell_type": "code",
   "execution_count": null,
   "id": "b736aee7-2097-48df-8d71-8831ddcae3ae",
   "metadata": {},
   "outputs": [],
   "source": [
    "from ollama import Client\n",
    "client = Client(host=api_url)\n",
    "response = client.generate(model='mistral', prompt='Why is the sky blue?')\n",
    "print(response['response'])"
   ]
  },
  {
   "cell_type": "markdown",
   "id": "0e919e0a-e183-4e7d-87d6-945421292aa8",
   "metadata": {},
   "source": [
    "#### Custom API URL Stream"
   ]
  },
  {
   "cell_type": "code",
   "execution_count": null,
   "id": "2cbf1e02-684c-48f4-800e-922ef9b515cd",
   "metadata": {},
   "outputs": [],
   "source": [
    "from ollama import Client\n",
    "client = Client(host=api_url)\n",
    "\n",
    "response = client.generate(model='mistral', prompt='Why is the sky blue?', stream=True)\n",
    "\n",
    "for part in response :\n",
    "  print(part['response'], end='', flush=True)"
   ]
  },
  {
   "cell_type": "markdown",
   "id": "5ca0c572-38a7-4fad-ae7c-e219f52ff1ad",
   "metadata": {},
   "source": [
    "### Helper Function\n",
    "\n",
    "This helper function will make it easier to use prompts and look at the generated outputs."
   ]
  },
  {
   "cell_type": "code",
   "execution_count": 6,
   "id": "3fce1a03-7ef6-4838-b794-d73a8421f33f",
   "metadata": {},
   "outputs": [],
   "source": [
    "# Load ollama client\n",
    "from ollama import Client\n",
    "def get_completion(prompt, model=\"mistral\"):\n",
    "    client = Client(host=api_url)\n",
    "    response = client.generate(model=model, prompt=prompt)\n",
    "    return response['response']"
   ]
  },
  {
   "cell_type": "markdown",
   "id": "9099d6e1-864a-4567-87de-49716fcb4579",
   "metadata": {},
   "source": [
    "## Story + Prompt"
   ]
  },
  {
   "cell_type": "code",
   "execution_count": 5,
   "id": "f4d41ef8-fc76-4b73-a374-56950f38ccba",
   "metadata": {},
   "outputs": [],
   "source": [
    "story = f\"\"\"\n",
    "Herbert is a senior citizen who is friendly and open to his \\\n",
    "fellow human beings. He really wanted to move into one of \\\n",
    "these smart houses. They are called \"Homes for Life\". \\\n",
    "The house is not a single apartment, but it's not a care \\\n",
    "home either, so there's no hanging around with just old people.\n",
    "\"\"\"\n",
    "\n",
    "prompt = f\"\"\"\n",
    "Continue the following story, which is delimited with triple backticks.\n",
    "Consider to follow up the event prompted in the last sentence or paragraph or \\\n",
    "just go for a complete different and unexpected direction.\n",
    "\n",
    "Continue the story in a narrative way, keeping the style of the story. \n",
    "Keep your answer as short as possible and use one short sentence.\n",
    "\n",
    "Story: ```{story}```\n",
    "\"\"\""
   ]
  },
  {
   "cell_type": "markdown",
   "id": "28eb97a6-b773-448d-a034-4733c93680a6",
   "metadata": {},
   "source": [
    "## Instruct vs. Text Models\n",
    "\n",
    "#### Text: using story as only input"
   ]
  },
  {
   "cell_type": "code",
   "execution_count": 20,
   "id": "82e16f21-0cf6-46a3-a3cf-5c00e91d7794",
   "metadata": {},
   "outputs": [
    {
     "name": "stdout",
     "output_type": "stream",
     "text": [
      "Herbert is looking at some pictures of the apartments that he could have lived in.\n",
      "He likes this one...\n",
      "But then something happens...\n"
     ]
    }
   ],
   "source": [
    "# Text: Story as input\n",
    "response_text = get_completion(story, \"llama3:text\")\n",
    "print(response_text)"
   ]
  },
  {
   "cell_type": "code",
   "execution_count": 11,
   "id": "e6cd4bc3-43ce-45ce-a07a-fe7bc8204eaa",
   "metadata": {},
   "outputs": [
    {
     "name": "stdout",
     "output_type": "stream",
     "text": [
      "\n",
      "Answer: \n",
      "\n",
      "\n",
      "# Story Part 2\n",
      "\n",
      "Herbert moved in and was very excited to get to know his new neighbours. He wanted to befriend everyone at all costs. When Herbert got out of bed, he found a note on his table. It said \"Dear neighbour! Please could you call me? I'd like to have a chat about the building.\"\n",
      "\n",
      "Herbert went to the elevator and pushed the button. After some time, there was no sign of life, so he just took the stairs. When he got down, he found a man standing in front of him. He had dark hair and a beard. He seemed like an old hippie. The man asked Herbert where the building manager's office was located.\n",
      "\n",
      "\"You mean this guy?\" Herbert asked while pointing at himself. \"I am the manager.\"\n",
      "\n",
      "The man looked surprised, but then he smiled. He said \"Oh sorry! I must have misunderstood something!\"\n"
     ]
    }
   ],
   "source": [
    "# Text: Prompt as input\n",
    "response_text = get_completion(prompt, \"mistral:text\")\n",
    "print(response_text)"
   ]
  },
  {
   "cell_type": "markdown",
   "id": "a6f19892-9d85-427d-aa30-610d9d3cbba5",
   "metadata": {},
   "source": [
    "#### Instruct"
   ]
  },
  {
   "cell_type": "code",
   "execution_count": 8,
   "id": "6b9d8c3e-7314-44ba-9423-57eaeffa6cfe",
   "metadata": {},
   "outputs": [
    {
     "name": "stdout",
     "output_type": "stream",
     "text": [
      " Herbert finally moved into the Homes for Life community, excited to live amongst technologically advanced homes.\n"
     ]
    }
   ],
   "source": [
    "# Instruct\n",
    "response_instruct = get_completion(prompt, \"mistral\")\n",
    "print(response_instruct)"
   ]
  }
 ],
 "metadata": {
  "kernelspec": {
   "display_name": "Python 3 (ipykernel)",
   "language": "python",
   "name": "python3"
  },
  "language_info": {
   "codemirror_mode": {
    "name": "ipython",
    "version": 3
   },
   "file_extension": ".py",
   "mimetype": "text/x-python",
   "name": "python",
   "nbconvert_exporter": "python",
   "pygments_lexer": "ipython3",
   "version": "3.8.9"
  }
 },
 "nbformat": 4,
 "nbformat_minor": 5
}
