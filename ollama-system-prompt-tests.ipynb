{
 "cells": [
  {
   "cell_type": "markdown",
   "id": "636081c7-7c49-4501-b9b7-3a6c1fc6c9ae",
   "metadata": {},
   "source": [
    "# Ollama Tests"
   ]
  },
  {
   "cell_type": "code",
   "execution_count": 17,
   "id": "c27c3570-6ff6-42b3-8cdc-edb0003ad551",
   "metadata": {},
   "outputs": [],
   "source": [
    "# Load ollama\n",
    "import ollama\n",
    "\n",
    "# Load ollama API URL\n",
    "import os\n",
    "from dotenv import load_dotenv, find_dotenv\n",
    "_ = load_dotenv(find_dotenv())\n",
    "\n",
    "api_url  = os.getenv('API_URL')"
   ]
  },
  {
   "cell_type": "markdown",
   "id": "798e4f89-ada1-4401-864c-f7d97083b210",
   "metadata": {},
   "source": [
    "## Localhost Client (Generate)"
   ]
  },
  {
   "cell_type": "code",
   "execution_count": 7,
   "id": "e1c5d1e8-342a-4427-9801-fbc8f4b55228",
   "metadata": {},
   "outputs": [
    {
     "name": "stdout",
     "output_type": "stream",
     "text": [
      " The color of the sky appears blue due to a process called Rayleigh scattering. As sunlight reaches Earth's atmosphere, it interacts with molecules and tiny particles in the air, causing the scattering of light in all directions. Blue light is scattered more easily than other colors because it has shorter wavelengths. Therefore, when we look up at the sky, we predominantly see the scattered blue light. However, during sunrise or sunset, the sky can appear red, pink, orange, or purple due to the scattering of longer wavelengths of light by larger particles in the atmosphere.\n"
     ]
    }
   ],
   "source": [
    "from ollama import Client\n",
    "client = Client(host='http://localhost:11434')\n",
    "response = client.generate(model='mistral', prompt='Why is the sky blue?')\n",
    "print(response['response'])"
   ]
  },
  {
   "cell_type": "markdown",
   "id": "30053172-a4a7-4041-b983-4cc3bed527ff",
   "metadata": {},
   "source": [
    "## Custom API (Generate) – Mixtral"
   ]
  },
  {
   "cell_type": "code",
   "execution_count": 18,
   "id": "fa8537cd-2cc0-43f7-9823-b7d84e827688",
   "metadata": {},
   "outputs": [
    {
     "name": "stdout",
     "output_type": "stream",
     "text": [
      " The phenomenon that causes the sky to appear blue is known as Rayleigh scattering. As sunlight reaches Earth's atmosphere, it is made up of different colors, which are essentially different wavelengths of light. Shorter wavelengths (like blue and violet) are scattered in all directions more than longer wavelengths (like red, orange, and yellow).\n",
      "\n",
      "Even though violet light is scattered more than blue light, the sky appears blue rather than violet because our eyes are more sensitive to blue light and because sunlight reaches us with less violet to start with. Additionally, some of the violet light gets absorbed by the ozone layer in the atmosphere. This combination of factors results in the sky we typically observe as blue.\n"
     ]
    }
   ],
   "source": [
    "from ollama import Client\n",
    "client = Client(host=api_url)\n",
    "response = client.generate(model='mixtral', prompt='Why is the sky blue?')\n",
    "print(response['response'])"
   ]
  },
  {
   "cell_type": "markdown",
   "id": "2a081e21-bcaf-4a0b-a35c-08243a2c73d5",
   "metadata": {},
   "source": [
    "## Custom API (Generate) – Llama 3.1"
   ]
  },
  {
   "cell_type": "code",
   "execution_count": 19,
   "id": "e8deb0ec-e4de-4740-8c0b-4acee850d8a2",
   "metadata": {},
   "outputs": [
    {
     "name": "stdout",
     "output_type": "stream",
     "text": [
      "Scattered sunlight by tiny molecules of gases in atmosphere.\n"
     ]
    }
   ],
   "source": [
    "from ollama import Client\n",
    "client = Client(host=api_url)\n",
    "response = client.generate(model='llama3.1:8b', prompt='Why is the sky blue? Respond in up to 10 words.')\n",
    "print(response['response'])"
   ]
  },
  {
   "cell_type": "markdown",
   "id": "865fcf79-e7ef-4217-ac71-8d0d28a845ef",
   "metadata": {},
   "source": [
    "## Custom API + System Prompt"
   ]
  },
  {
   "cell_type": "code",
   "execution_count": 22,
   "id": "97c2a224-d116-42d9-93c3-b7384a774541",
   "metadata": {},
   "outputs": [
    {
     "name": "stdout",
     "output_type": "stream",
     "text": [
      "Because sunlight scatters shorter wavelengths of light into view.\n"
     ]
    }
   ],
   "source": [
    "from ollama import Client\n",
    "client = Client(host=api_url)\n",
    "response = client.generate(\n",
    "    model='llama3.1:8b',\n",
    "    system='Always begin with the word \"Because\".',\n",
    "    prompt='Why is the sky blue? Respond in up to 10 words.'\n",
    ")\n",
    "print(response['response'])"
   ]
  },
  {
   "cell_type": "markdown",
   "id": "1677172e-1ad3-4117-8146-8e909df7a8bf",
   "metadata": {},
   "source": [
    "## Helper function"
   ]
  },
  {
   "cell_type": "code",
   "execution_count": 33,
   "id": "6b33d4f7-729b-4641-b9d5-775775399ce5",
   "metadata": {},
   "outputs": [
    {
     "name": "stdout",
     "output_type": "stream",
     "text": [
      " Science explains: Rayleigh scattering, not mere caprice. Très cool!\n"
     ]
    }
   ],
   "source": [
    "def get_completion(prompt, system='', model='mixtral'):\n",
    "    client = Client(host=api_url)\n",
    "    response = client.generate(\n",
    "        model=model,\n",
    "        system=system,\n",
    "        prompt=prompt\n",
    "    )\n",
    "    return response['response']\n",
    "\n",
    "# System prompt\n",
    "systemPrompt=f\"\"\"\n",
    "Respond in up to 10 words. Use some french word to sound cooler.\n",
    "\"\"\"\n",
    "\n",
    "# Just the prompt\n",
    "prompt=f\"\"\"\n",
    "Why is the sky blue?\n",
    "\"\"\"\n",
    "response = get_completion(prompt, systemPrompt)\n",
    "print(response)"
   ]
  }
 ],
 "metadata": {
  "kernelspec": {
   "display_name": "Python 3 (ipykernel)",
   "language": "python",
   "name": "python3"
  },
  "language_info": {
   "codemirror_mode": {
    "name": "ipython",
    "version": 3
   },
   "file_extension": ".py",
   "mimetype": "text/x-python",
   "name": "python",
   "nbconvert_exporter": "python",
   "pygments_lexer": "ipython3",
   "version": "3.8.9"
  }
 },
 "nbformat": 4,
 "nbformat_minor": 5
}
