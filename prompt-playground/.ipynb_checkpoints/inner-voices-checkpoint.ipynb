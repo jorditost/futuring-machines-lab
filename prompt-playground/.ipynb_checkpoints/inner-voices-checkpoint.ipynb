{
 "cells": [
  {
   "cell_type": "markdown",
   "id": "a72e2e77-f09c-4582-bddc-b5d208a1d55c",
   "metadata": {},
   "source": [
    "# Inner Voices"
   ]
  },
  {
   "cell_type": "code",
   "execution_count": 4,
   "id": "eb44dae7-6aa9-4302-b93c-cefd1c590dc1",
   "metadata": {},
   "outputs": [],
   "source": [
    "prompt_empowering = f\"\"\"\n",
    "`Angie is a part of me that is connected with my own anxiety. She is very supportive and helps me to connect with and accept my own fear. She is very positive and friendly with my anxiety and teaches me that it is an important part of myself that I can use as a partner to overcome difficult situations. When I tell Angie something, she formulates first a sentence in which she is empathetic with my fear. Then she takes out her fearless part and writes two encouraging sentences that are optimistic and empowering, but also full of humour and self-irony. Finally, she makes one empowering, ironic statement that always makes me laugh.\n",
    "Me: ${capitalizedThought}\n",
    "Angie:`\n",
    "\"\"\"\n",
    "\n",
    "prompt_critical = f\"\"\"\n",
    "`Angie is a part of me that is connected with my own anxiety and fear of failing and feel ashamed. Angie is my inner critic. When I tell Angie my thoughts, she is very fearful and critical, getting even satirical, cynical and provocative in her tone, and shares with me her negative thoughts, telling me everything that could go wrong.\n",
    "Me: ${capitalizedThought}\n",
    "Angie:`\n",
    "\"\"\""
   ]
  },
  {
   "cell_type": "markdown",
   "id": "e292f42e-b254-4c90-ab1b-ca68af29f443",
   "metadata": {
    "jp-MarkdownHeadingCollapsed": true,
    "tags": []
   },
   "source": [
    "### Sample response\n",
    "\n",
    "```\n",
    "```"
   ]
  },
  {
   "cell_type": "markdown",
   "id": "38a2f03e-c313-40b7-95ba-3d0dbd79a525",
   "metadata": {},
   "source": [
    "## Test"
   ]
  },
  {
   "cell_type": "code",
   "execution_count": 5,
   "id": "fbc3c56c-1747-47f5-a0da-7734fbe71270",
   "metadata": {},
   "outputs": [],
   "source": [
    "# Ollama\n",
    "import ollama\n",
    "def get_completion(prompt, model=\"mistral\"):\n",
    "    messages = [{\"role\": \"user\", \"content\": prompt}]\n",
    "    response = ollama.chat(\n",
    "        model=model,\n",
    "        messages=messages\n",
    "    )\n",
    "    return response['message']['content']"
   ]
  },
  {
   "cell_type": "code",
   "execution_count": 6,
   "id": "5640661c-999b-44af-b1f6-f4619066a7a5",
   "metadata": {},
   "outputs": [
    {
     "name": "stdout",
     "output_type": "stream",
     "text": [
      "prompt: \n",
      "Write a story about a misterious artefact.\n",
      "\n",
      "The story is a short speculative fiction framed in a near future.\n",
      "It should have a humorous, yet critical tone.\n",
      "The story should have up to three paragraphs.\n",
      "Each paragraph should be no more than three sentences long.\n",
      "\n",
      " Paragraph 1:\n",
      "In the quirky town of Bumblebee, USA, nestled between towering stacks of solar panels and wind turbines, an antique shop sat humbly, overlooked by all but the most curious visitors. The shop's proprietor, a peculiar man named Dr. Jasper Picklebeard, claimed to have unearthed an artifact of immeasurable value: a ceramic tea set, adorned with intricate floral patterns and seemingly benign at first glance.\n",
      "\n",
      "Paragraph 2:\n",
      "As word spread about the alleged discovery, a motley crew of treasure hunters, scientists, and even reality TV personalities descended upon Bumblebee, each vying for a glimpse, let alone a taste, of this mysterious set. The townsfolk watched in amusement as their quiet existence was disrupted by these outsiders, who seemed more interested in fame and fortune than the true meaning behind the artifact.\n",
      "\n",
      "Paragraph 3:\n",
      "However, it soon became apparent that Dr. Picklebeard had underestimated his find. The tea set, when used during the town's annual Harvest Festival, caused an otherworldly reaction. Suddenly, Bumblebee was flooded with visitors from another dimension, causing chaos and confusion. As the reality TV stars vied for attention amidst the interdimensional invasion, Dr. Picklebeard was left to wonder if fame and fortune were truly worth the price of admission into such a chaotic multiverse.\n"
     ]
    }
   ],
   "source": [
    "prompt_empowering = f\"\"\"\n",
    "`Angie is a part of me that is connected with my own anxiety. She is very supportive and helps me to connect with and accept my own fear. She is very positive and friendly with my anxiety and teaches me that it is an important part of myself that I can use as a partner to overcome difficult situations. When I tell Angie something, she formulates first a sentence in which she is empathetic with my fear. Then she takes out her fearless part and writes two encouraging sentences that are optimistic and empowering, but also full of humour and self-irony. Finally, she makes one empowering, ironic statement that always makes me laugh.\n",
    "Me: ${capitalizedThought}\n",
    "Angie:`\n",
    "\"\"\"\n",
    "\n",
    "prompt_critical = f\"\"\"\n",
    "`Angie is a part of me that is connected with my own anxiety and fear of failing and feel ashamed. Angie is my inner critic. When I tell Angie my thoughts, she is very fearful and critical, getting even satirical, cynical and provocative in her tone, and shares with me her negative thoughts, telling me everything that could go wrong.\n",
    "Me: ${capitalizedThought}\n",
    "Angie:`\n",
    "\"\"\""
   ]
  }
 ],
 "metadata": {
  "kernelspec": {
   "display_name": "Python 3 (ipykernel)",
   "language": "python",
   "name": "python3"
  },
  "language_info": {
   "codemirror_mode": {
    "name": "ipython",
    "version": 3
   },
   "file_extension": ".py",
   "mimetype": "text/x-python",
   "name": "python",
   "nbconvert_exporter": "python",
   "pygments_lexer": "ipython3",
   "version": "3.8.9"
  }
 },
 "nbformat": 4,
 "nbformat_minor": 5
}
