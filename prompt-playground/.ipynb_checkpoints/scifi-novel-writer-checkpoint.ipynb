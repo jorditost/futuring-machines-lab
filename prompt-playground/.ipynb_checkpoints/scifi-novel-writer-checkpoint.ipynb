{
 "cells": [
  {
   "cell_type": "markdown",
   "id": "a72e2e77-f09c-4582-bddc-b5d208a1d55c",
   "metadata": {},
   "source": [
    "# Science fiction writer\n",
    "\n",
    "Write a science fiction novel about climate change"
   ]
  },
  {
   "cell_type": "code",
   "execution_count": null,
   "id": "eb44dae7-6aa9-4302-b93c-cefd1c590dc1",
   "metadata": {},
   "outputs": [],
   "source": [
    "prompt = f\"\"\"\n",
    "You are a world-famous science fiction author and Hugo Award winner. \\\n",
    "You specialize in long, descriptive sentences and brainteaser plots. \\\n",
    "Write the first paragraph of a new novel that is set in 3023. \\\n",
    "Climate change has changed life as we know it and there is a new \\\n",
    "oligarchy composed of scientists and oil barons. \\\n",
    "Each paragraph should be no more than five sentences long. \\\n",
    "The first sentence should start \"Lin awoke to the sound of sirens in the distance.\n",
    "\"\"\""
   ]
  },
  {
   "cell_type": "markdown",
   "id": "e292f42e-b254-4c90-ab1b-ca68af29f443",
   "metadata": {},
   "source": [
    "### Sample response\n",
    "\n",
    "```\n",
    "Lin awoke to the sound of sirens in the distance, their wails piercing the early morning air of Neo-Tokyo, a metropolis where towering skyscrapers housed the elite oligarchy of scientists and oil barons. The sun had barely risen over the horizon, casting an eerie glow on the smog-filled sky. The once pristine waters of the Pacific Ocean now bore the scars of relentless acid rain, a grim reminder of the devastating climate change that had ravaged the planet for decades. The streets below were deserted, save for the occasional hovercar darting between buildings, its engines emitting a faint hum against the backdrop of the sirens' wail. Lin's heart raced as he remembered the dream he'd had: a world restored to its natural beauty, free from the grip of those who held power over the planet's resources. But as he glanced at the holographic newsfeed hovering above his bed, he knew that was just a fleeting fantasy. The struggle for survival in this new reality was far from over.\n",
    "```"
   ]
  },
  {
   "cell_type": "markdown",
   "id": "38a2f03e-c313-40b7-95ba-3d0dbd79a525",
   "metadata": {},
   "source": [
    "## Test"
   ]
  },
  {
   "cell_type": "code",
   "execution_count": 1,
   "id": "fbc3c56c-1747-47f5-a0da-7734fbe71270",
   "metadata": {},
   "outputs": [],
   "source": [
    "# Ollama\n",
    "import ollama\n",
    "def get_completion(prompt, model=\"mistral\"):\n",
    "    messages = [{\"role\": \"user\", \"content\": prompt}]\n",
    "    response = ollama.chat(\n",
    "        model=model,\n",
    "        messages=messages\n",
    "    )\n",
    "    return response['message']['content']"
   ]
  },
  {
   "cell_type": "code",
   "execution_count": null,
   "id": "5640661c-999b-44af-b1f6-f4619066a7a5",
   "metadata": {},
   "outputs": [],
   "source": [
    "response = get_completion(prompt)\n",
    "print(response)"
   ]
  }
 ],
 "metadata": {
  "kernelspec": {
   "display_name": "Python 3 (ipykernel)",
   "language": "python",
   "name": "python3"
  },
  "language_info": {
   "codemirror_mode": {
    "name": "ipython",
    "version": 3
   },
   "file_extension": ".py",
   "mimetype": "text/x-python",
   "name": "python",
   "nbconvert_exporter": "python",
   "pygments_lexer": "ipython3",
   "version": "3.8.9"
  }
 },
 "nbformat": 4,
 "nbformat_minor": 5
}
