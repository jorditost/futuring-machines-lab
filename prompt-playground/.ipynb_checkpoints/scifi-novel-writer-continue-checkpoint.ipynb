{
 "cells": [
  {
   "cell_type": "markdown",
   "id": "a72e2e77-f09c-4582-bddc-b5d208a1d55c",
   "metadata": {},
   "source": [
    "# Science fiction writer – Continue\n",
    "\n",
    "Continue a story given some parameters."
   ]
  },
  {
   "cell_type": "code",
   "execution_count": null,
   "id": "eb44dae7-6aa9-4302-b93c-cefd1c590dc1",
   "metadata": {},
   "outputs": [],
   "source": [
    "prompt = f\"\"\"\n",
    "You are a world-famous science fiction author and Hugo Award winner. \\\n",
    "You specialize in long, descriptive sentences and brainteaser plots. \\\n",
    "Write the next paragraph of the following story that is set in a near \\ \n",
    "future. The paragraph should be no more than three sentences long. \\\n",
    "You change your viewpoint to an inner monologue of the main character.\n",
    "You write with a humorous, yet critical tone.\n",
    "\n",
    "Story: ```{story}```\n",
    "\"\"\""
   ]
  },
  {
   "cell_type": "markdown",
   "id": "e292f42e-b254-4c90-ab1b-ca68af29f443",
   "metadata": {},
   "source": [
    "### Sample response\n",
    "\n",
    "```\n",
    "Lin awoke to the sound of sirens in the distance, their wails piercing the early morning air of Neo-Tokyo, a metropolis where towering skyscrapers housed the elite oligarchy of scientists and oil barons. The sun had barely risen over the horizon, casting an eerie glow on the smog-filled sky. The once pristine waters of the Pacific Ocean now bore the scars of relentless acid rain, a grim reminder of the devastating climate change that had ravaged the planet for decades. The streets below were deserted, save for the occasional hovercar darting between buildings, its engines emitting a faint hum against the backdrop of the sirens' wail. Lin's heart raced as he remembered the dream he'd had: a world restored to its natural beauty, free from the grip of those who held power over the planet's resources. But as he glanced at the holographic newsfeed hovering above his bed, he knew that was just a fleeting fantasy. The struggle for survival in this new reality was far from over.\n",
    "```"
   ]
  },
  {
   "cell_type": "markdown",
   "id": "38a2f03e-c313-40b7-95ba-3d0dbd79a525",
   "metadata": {},
   "source": [
    "## Test"
   ]
  },
  {
   "cell_type": "code",
   "execution_count": 1,
   "id": "fbc3c56c-1747-47f5-a0da-7734fbe71270",
   "metadata": {},
   "outputs": [],
   "source": [
    "# Ollama\n",
    "import ollama\n",
    "def get_completion(prompt, model=\"mistral\"):\n",
    "    messages = [{\"role\": \"user\", \"content\": prompt}]\n",
    "    response = ollama.chat(\n",
    "        model=model,\n",
    "        messages=messages\n",
    "    )\n",
    "    return response['message']['content']"
   ]
  },
  {
   "cell_type": "code",
   "execution_count": null,
   "id": "5640661c-999b-44af-b1f6-f4619066a7a5",
   "metadata": {},
   "outputs": [],
   "source": [
    "response = get_completion(prompt)\n",
    "print(response)"
   ]
  },
  {
   "cell_type": "markdown",
   "id": "803d3bc2-c518-49c5-9719-7b403944e80c",
   "metadata": {},
   "source": [
    "### Test story continuation"
   ]
  },
  {
   "cell_type": "code",
   "execution_count": 2,
   "id": "b834c821-b8a8-484e-910e-7e10b701d438",
   "metadata": {},
   "outputs": [
    {
     "name": "stdout",
     "output_type": "stream",
     "text": [
      " (Inner monologue of Herbert)\n",
      "\"I suppose I should be grateful for these fancy shoes, but seriously, who needs a pair that thinks it knows better than me? 'Stay on the path, old man,' they seem to chide. Well, I've been on this earth longer than most of these gadgets have even existed. I don't need constant supervision, or reminders of my own forgetfulness. And as for the safest route, who decides that? I used to wander off the beaten track, discover new trails, breathe in the scent of wildflowers. Now it feels like I'm being led by the hand, or rather, the shoe.\"\n"
     ]
    }
   ],
   "source": [
    "story_homes = \"\"\"\n",
    "Herbert is a senior citizen who is friendly and open to his \\\n",
    "fellow human beings. He really wanted to move into one of \\\n",
    "these smart houses. They are called \"Homes for Life\". \\\n",
    "The house is not a single apartment, but it's not a care \\\n",
    "home either, so there's no hanging around with just old people. \\\n",
    "There's no bingo. Oh God he hates bingo! But what he does love \\\n",
    "is every morning going for a walk in the woods. He likes to be \\\n",
    "in company, but also enjoys time on his own. Then he feels \\\n",
    "autonomous and independent. Although sometimes he is afraid of \\\n",
    "getting lost. Especially after being diagnosed with dementia. \\\n",
    "The home itself diagnosed him shortly after he moved in. He was \\\n",
    "then given smart shoes for his walks to help him stay fit. \\\n",
    "The smart shoes can also show him the safest route with the \\\n",
    "smart laces or notify his housemates if he gets lost. \n",
    "\"\"\"\n",
    "\n",
    "prompt = f\"\"\"\n",
    "You are a world-famous science fiction author and Hugo Award winner. \\\n",
    "You specialize in long, descriptive sentences and brainteaser plots. \\\n",
    "Write the next paragraph of the following story that is set in a near \\ \n",
    "future. The paragraph should be no more than three sentences long. \\\n",
    "You change your viewpoint to an inner monologue of the main character.\n",
    "You write with a humorous, yet critical tone.\n",
    "\n",
    "Story: ```{story_homes}```\n",
    "\"\"\"\n",
    "\n",
    "response = get_completion(prompt)\n",
    "print(response)"
   ]
  }
 ],
 "metadata": {
  "kernelspec": {
   "display_name": "Python 3 (ipykernel)",
   "language": "python",
   "name": "python3"
  },
  "language_info": {
   "codemirror_mode": {
    "name": "ipython",
    "version": 3
   },
   "file_extension": ".py",
   "mimetype": "text/x-python",
   "name": "python",
   "nbconvert_exporter": "python",
   "pygments_lexer": "ipython3",
   "version": "3.8.9"
  }
 },
 "nbformat": 4,
 "nbformat_minor": 5
}
