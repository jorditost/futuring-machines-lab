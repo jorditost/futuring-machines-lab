{
 "cells": [
  {
   "cell_type": "markdown",
   "id": "d965793a-da38-4d06-8114-d477db060fd7",
   "metadata": {
    "tags": []
   },
   "source": [
    "# Writing style transfer\n",
    "\n",
    "Rewrite a story in the style of another author."
   ]
  },
  {
   "cell_type": "code",
   "execution_count": 6,
   "id": "2301ef63-81ae-421d-bb2c-5d9a51353fb4",
   "metadata": {},
   "outputs": [],
   "source": [
    "prompt = f\"\"\"\n",
    "Rewrite the following text in the style of [AUTHOR_NAME].\n",
    "\"\"\""
   ]
  },
  {
   "cell_type": "markdown",
   "id": "0e95ca23-147c-42be-903e-75ff8c2a0bef",
   "metadata": {
    "jp-MarkdownHeadingCollapsed": true,
    "tags": []
   },
   "source": [
    "### Sample responses"
   ]
  },
  {
   "cell_type": "markdown",
   "id": "71c0802a-35e0-45e0-9d5b-901df432d030",
   "metadata": {},
   "source": [
    "Terry Pratchet:\n",
    "\n",
    "```\n",
    "In the whimsical realm of Discworld, there resided an unassuming senior citizen named Herbert. Known far and wide for his amicable disposition towards all manner of creatures, both human and otherwise, old Herb harboured a most peculiar desire: to dwell within one of those fabled abodes known as \"Homes for Life\". These were no ordinary dwellings, you see, but rather residences that struck a perfect balance between sociable companionship and solitary sanctuary. They were not nursing homes, mind you, filled with the incessant chatter of bingo and the pungent aroma of stewed tea. No, dear reader, Herb longed for the simple pleasures of his daily woodland strolls.\n",
    "\n",
    "Now, as a man of advanced age, Herb cherished the company of others - the shared laughter, the wisdom exchanged, the camaraderie that comes with a shared existence. Yet, he also craved moments of solitude, to ponder life's mysteries and marvel at nature's splendour in quiet reflection. And so, the Homes for Life seemed like the perfect solution: a harmonious blend of companionship and autonomy.\n",
    "\n",
    "But alas! Old Herb was not without his fears. For, as fate would have it, he had recently been diagnosed with a most unwelcome guest - dementia. This uninvited visitor cast a shadow over Herb's once steadfast memory and left him feeling rather lost in the labyrinth of his own mind. Thus, when Herbert moved into his new abode, the Home for Life itself extended an unexpected greeting: a pair of smart shoes.\n",
    "\n",
    "These were no ordinary footwear, oh no! These smart shoes came equipped with laces imbued with magical wisdom, able to guide Herb along the safest woodland paths. They could also notify his housemates if he ever strayed too far from the familiar. And so, old Herb set out on his daily adventures, confident that these enchanted shoes would keep him safe and independent, even as the shadows of dementia began to encroach upon the edges of his memory.\n",
    "\n",
    "Thus, with a twinkle in his eye and a song in his heart, our dear friend Herb continued to embrace life, one woodland stroll at a time, all the while knowing that his Homes for Life would always be there, providing him with companionship and independence in equal measure.\n",
    "\n",
    "```"
   ]
  },
  {
   "cell_type": "markdown",
   "id": "44d3d363-7b7c-4def-92b5-f819dd20740f",
   "metadata": {},
   "source": [
    "Agatha Christie:\n",
    "\n",
    "```\n",
    " In the quaint English village of Wisteria Close, resided a dear elderly gentleman by the name of Herbert. A man of great charm and affability, he was well-liked by all in the community. Yet, as age began to creep up on him, his once vibrant spirit longed for a new abode that could cater to his evolving needs. Enter \"Homes for Life\", an innovative concept neither an apartment nor a care home, but rather a haven designed specifically for senior citizens who retained their zest for life and independence.\n",
    "\n",
    "Herbert, however, harboured a deep aversion to the monotonous routine of bingo games and the constant companionship of his contemporaries. Instead, he cherished the simple pleasure of embarking on a daily walk in the verdant woods that surrounded his prospective residence. Alone yet not lonely, he relished the solitude while also enjoying the camaraderie of fellow residents. But alas, with the recent diagnosis of early-onset dementia, he grew increasingly apprehensive about venturing into the woods alone, for fear of becoming disoriented and lost.\n",
    "\n",
    "Upon moving into Homes for Life, he received a most intriguing gift - a pair of smart shoes. These shoes, emblazoned with the latest technology, promised to keep him safe and agile during his woodland walks. The smart laces would guide him through the safest pathways, while a discreet communication system within the soles ensured that his housemates were always informed of his location. A sense of relief washed over Herbert as he slipped into the shoes, feeling not only the familiar crunch of leaves beneath his feet but also the comforting embrace of modern-day security.\n",
    "\n",
    "As the sun began to set on this picturesque village, one could only imagine the tranquillity that enveloped dear old Herbert and his fellow residents. The woods whispered tales of adventure and discovery, while their quaint little homes bustled with life, offering a perfect blend of companionship and solitude - the epitome of Agatha Christie's England.\n",
    "```"
   ]
  },
  {
   "cell_type": "markdown",
   "id": "8b00dc54-e275-4be4-802f-d937ef8347a3",
   "metadata": {
    "tags": []
   },
   "source": [
    "## Test"
   ]
  },
  {
   "cell_type": "markdown",
   "id": "d50f7a87-58da-4ea2-9ede-bb750dcacd26",
   "metadata": {
    "tags": []
   },
   "source": [
    "### API + Helper Functions"
   ]
  },
  {
   "cell_type": "code",
   "execution_count": 7,
   "id": "fa2dc66e-e8f3-48c3-bdf6-b77cba3caaed",
   "metadata": {},
   "outputs": [],
   "source": [
    "# Ollama\n",
    "import ollama\n",
    "\n",
    "# Helper function\n",
    "def get_completion(prompt, model=\"mistral\"):\n",
    "    messages = [{\"role\": \"user\", \"content\": prompt}]\n",
    "    response = ollama.chat(\n",
    "        model=model,\n",
    "        messages=messages\n",
    "    )\n",
    "    return response['message']['content']"
   ]
  },
  {
   "cell_type": "code",
   "execution_count": 8,
   "id": "5584d2eb-a1bb-4ef8-92b6-57d824984a34",
   "metadata": {},
   "outputs": [],
   "source": [
    "# GPT\n",
    "import openai\n",
    "import os\n",
    "\n",
    "from dotenv import load_dotenv, find_dotenv\n",
    "_ = load_dotenv(find_dotenv())\n",
    "\n",
    "# OpenAI Key\n",
    "openai.api_key  = os.getenv('OPENAI_API_KEY')\n",
    "\n",
    "# OpenAI client\n",
    "client = openai.OpenAI()\n",
    "\n",
    "# Helper function\n",
    "def get_completion_gpt(prompt, temperature=0, model=\"gpt-3.5-turbo\"):\n",
    "    messages = [{\"role\": \"user\", \"content\": prompt}]\n",
    "    response = client.chat.completions.create(\n",
    "        model=model,\n",
    "        messages=messages,\n",
    "        temperature=temperature\n",
    "    )\n",
    "    return response.choices[0].message.content"
   ]
  },
  {
   "cell_type": "markdown",
   "id": "e75ebb10-d06a-4df2-aeda-74608514be01",
   "metadata": {
    "tags": []
   },
   "source": [
    "### Example"
   ]
  },
  {
   "cell_type": "code",
   "execution_count": null,
   "id": "01f8a65b-941d-405a-b6de-18486774fe76",
   "metadata": {},
   "outputs": [],
   "source": [
    "text = f\"\"\"\n",
    "Herbert is a senior citizen who is friendly and open to his \\\n",
    "fellow human beings. He really wanted to move into one of \\\n",
    "these smart houses. They are called \"Homes for Life\". \\\n",
    "The house is not a single apartment, but it's not a care \\\n",
    "home either, so there's no hanging around with just old people. \\\n",
    "There's no bingo. Oh God he hates bingo! But what he does love \\\n",
    "is every morning going for a walk in the woods. He likes to be \\\n",
    "in company, but also enjoys time on his own. Then he feels \\\n",
    "autonomous and independent. Although sometimes he is afraid of \\\n",
    "getting lost. Especially after being diagnosed with dementia. \\\n",
    "The home itself diagnosed him shortly after he moved in. He was \\\n",
    "then given smart shoes for his walks to help him stay fit. \\\n",
    "The smart shoes can also show him the safest route with the \\\n",
    "smart laces or notify his housemates if he gets lost. \n",
    "\"\"\"\n",
    "\n",
    "# Style of Terry Pratchett\n",
    "prompt = f\"\"\"\n",
    "Rewrite the following text in the style of Terry Pratchett.\n",
    "\n",
    "Text: ```{text}```\n",
    "\"\"\"\n",
    "response = get_completion(prompt)\n",
    "print(response)"
   ]
  },
  {
   "cell_type": "code",
   "execution_count": 9,
   "id": "0290dcdf-f7bc-4f62-b1e5-5bdb8f599e92",
   "metadata": {},
   "outputs": [
    {
     "ename": "NameError",
     "evalue": "name 'text' is not defined",
     "output_type": "error",
     "traceback": [
      "\u001b[0;31m---------------------------------------------------------------------------\u001b[0m",
      "\u001b[0;31mNameError\u001b[0m                                 Traceback (most recent call last)",
      "Cell \u001b[0;32mIn [9], line 5\u001b[0m\n\u001b[1;32m      1\u001b[0m \u001b[38;5;66;03m# Style of Agatha Christie\u001b[39;00m\n\u001b[1;32m      2\u001b[0m prompt \u001b[38;5;241m=\u001b[39m \u001b[38;5;124mf\u001b[39m\u001b[38;5;124m\"\"\"\u001b[39m\n\u001b[1;32m      3\u001b[0m \u001b[38;5;124mRewrite the following text in the style of Agatha Christie.\u001b[39m\n\u001b[1;32m      4\u001b[0m \n\u001b[0;32m----> 5\u001b[0m \u001b[38;5;124mText: ```\u001b[39m\u001b[38;5;132;01m{\u001b[39;00mtext\u001b[38;5;132;01m}\u001b[39;00m\u001b[38;5;124m```\u001b[39m\n\u001b[1;32m      6\u001b[0m \u001b[38;5;124m\"\"\"\u001b[39m\n\u001b[1;32m      7\u001b[0m response \u001b[38;5;241m=\u001b[39m get_completion(prompt)\n\u001b[1;32m      8\u001b[0m \u001b[38;5;28mprint\u001b[39m(response)\n",
      "\u001b[0;31mNameError\u001b[0m: name 'text' is not defined"
     ]
    }
   ],
   "source": [
    "# Style of Agatha Christie\n",
    "prompt = f\"\"\"\n",
    "Rewrite the following text in the style of Agatha Christie.\n",
    "\n",
    "Text: ```{text}```\n",
    "\"\"\"\n",
    "response = get_completion(prompt)\n",
    "print(response)"
   ]
  },
  {
   "cell_type": "code",
   "execution_count": 12,
   "id": "3dd46d4e-14b4-4634-bf4d-a3b9f286b25b",
   "metadata": {},
   "outputs": [
    {
     "name": "stdout",
     "output_type": "stream",
     "text": [
      " As he looked down, they came undone again.\n"
     ]
    }
   ],
   "source": [
    "story = f\"\"\"\n",
    "In the communal dwelling of Eldercare 7, Herbert shuffled with his Smart Shoes guiding each step. The AI-enhanced residence hummed reassuringly as it anticipated his needs, but the faint flicker of confusion in Herbert's eyes hinted at a mind longing for something more. Herbert tripped as his laces were undone. \n",
    "\"\"\"\n",
    "\n",
    "prompt = f\"\"\"\n",
    "Given a story, write the next words of the next sentence but leave the sentence unfinished. \n",
    "You should write no more than one sentence, which must be short.\n",
    "Your writing style is direct and simple.\n",
    "Follow up the event prompted in the last sentence or paragraph, keeping the thread ambivalent.\n",
    "\n",
    "Unfinished sentence: One of a sudden, one day\n",
    "Unfinished sentence: Laura opened her drawer and \n",
    "Unfinished sentence: When he woke up,\n",
    "\n",
    "Story: ```{story}```\n",
    "\n",
    "Unfinished sentence: \n",
    "\"\"\"\n",
    "response = get_completion(prompt)\n",
    "print(response)"
   ]
  },
  {
   "cell_type": "code",
   "execution_count": 15,
   "id": "109998bf-2451-4e75-b59e-913d01e79741",
   "metadata": {},
   "outputs": [
    {
     "name": "stdout",
     "output_type": "stream",
     "text": [
      " The sun began to set, painting the sky with hues of orange and pink, but suddenly... (continued)\n",
      "\n",
      "Unfinished sentence: Laura opened her drawer and reached for an old, dusty photo album, but as she leafed through the pages, she felt a pang of nostalgia. (continued)\n",
      "\n",
      "Unfinished sentence: When he woke up, his head throbbed with pain and confusion filled him as he tried to remember what had happened the night before. (continued)\n"
     ]
    }
   ],
   "source": [
    "prompt = f\"\"\"\n",
    "Generate an unfinished sentence.\n",
    "\n",
    "Unfinished sentence: One of a sudden, one day\n",
    "Unfinished sentence: Laura opened her drawer and \n",
    "Unfinished sentence: When he woke up,\n",
    "\n",
    "Unfinished sentence: \n",
    "\"\"\"\n",
    "response = get_completion(prompt)\n",
    "print(response)"
   ]
  }
 ],
 "metadata": {
  "kernelspec": {
   "display_name": "Python 3 (ipykernel)",
   "language": "python",
   "name": "python3"
  },
  "language_info": {
   "codemirror_mode": {
    "name": "ipython",
    "version": 3
   },
   "file_extension": ".py",
   "mimetype": "text/x-python",
   "name": "python",
   "nbconvert_exporter": "python",
   "pygments_lexer": "ipython3",
   "version": "3.8.9"
  }
 },
 "nbformat": 4,
 "nbformat_minor": 5
}
