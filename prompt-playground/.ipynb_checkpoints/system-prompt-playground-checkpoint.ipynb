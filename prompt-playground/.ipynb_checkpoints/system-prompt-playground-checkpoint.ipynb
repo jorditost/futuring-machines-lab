{
 "cells": [
  {
   "cell_type": "markdown",
   "id": "a72e2e77-f09c-4582-bddc-b5d208a1d55c",
   "metadata": {},
   "source": [
    "# Continue Writing"
   ]
  },
  {
   "cell_type": "code",
   "execution_count": 91,
   "id": "eb44dae7-6aa9-4302-b93c-cefd1c590dc1",
   "metadata": {},
   "outputs": [],
   "source": [
    "prompt = f\"\"\"\n",
    "Continue the following story, which is delimited with triple backticks.\n",
    "Consider to follow up the event prompted in the last sentence or paragraph or \\\n",
    "just go for a complete different and unexpected direction that brings conflict to the story.\n",
    "\n",
    "Continue the story in one short sentence.\n",
    "Then ask a question about a possible continuation of the story, but encapsulate this question as part of the story in a narrative way.\n",
    "Keep your answer as short as possible.\n",
    "\n",
    "Story: ```{story}```\n",
    "\"\"\""
   ]
  },
  {
   "cell_type": "markdown",
   "id": "e292f42e-b254-4c90-ab1b-ca68af29f443",
   "metadata": {},
   "source": [
    "### Sample response\n",
    "\n",
    "```\n",
    "One sunny morning, Herbert finally moved into his new Home for Life. Surrounded by modern technology and friendly neighbors, he felt truly content. But as he settled in, a strange sense of unease began to gnaw at him: what if the advanced systems of the house started to malfunction? How would he cope in an emergency?\n",
    "```"
   ]
  },
  {
   "cell_type": "markdown",
   "id": "38a2f03e-c313-40b7-95ba-3d0dbd79a525",
   "metadata": {},
   "source": [
    "## Test"
   ]
  },
  {
   "cell_type": "code",
   "execution_count": 90,
   "id": "fbc3c56c-1747-47f5-a0da-7734fbe71270",
   "metadata": {},
   "outputs": [],
   "source": [
    "# Ollama\n",
    "import ollama\n",
    "from ollama import Client\n",
    "\n",
    "# Load ollama API URL\n",
    "import os\n",
    "from dotenv import load_dotenv, find_dotenv\n",
    "_ = load_dotenv(find_dotenv())\n",
    "\n",
    "api_url  = os.getenv('API_URL')\n",
    "\n",
    "# Helper function\n",
    "def get_completion(prompt, system='', model='mixtral'):\n",
    "    client = Client(host=api_url)\n",
    "    response = client.generate(\n",
    "        model=model,\n",
    "        system=system,\n",
    "        prompt=prompt\n",
    "    )\n",
    "    return response['response']"
   ]
  },
  {
   "cell_type": "markdown",
   "id": "ed3fe4ce-04b1-4007-9f4c-c2903dd51ee3",
   "metadata": {},
   "source": [
    "### Simple example"
   ]
  },
  {
   "cell_type": "code",
   "execution_count": 91,
   "id": "fe3303f9-1b8e-4c15-8e5a-f1a1d05a2c96",
   "metadata": {},
   "outputs": [
    {
     "name": "stdout",
     "output_type": "stream",
     "text": [
      "The sun's rays danced across the atmosphere, scattering shorter blue wavelengths in all directions, casting an ethereal glow that enveloped the world.\n"
     ]
    }
   ],
   "source": [
    "# System prompt\n",
    "systemPrompt=f\"\"\"\n",
    "# Writing Style\n",
    "Use a narrative tone, keeping the style of the story.\n",
    "Keep your answer as short as possible, using up to one sentence.\n",
    "\"\"\"\n",
    "\n",
    "# Just the prompt\n",
    "prompt=f\"\"\"\n",
    "Why is the sky blue?\n",
    "\"\"\"\n",
    "response = get_completion(prompt, systemPrompt, 'llama3.1:8b')\n",
    "print(response)"
   ]
  },
  {
   "cell_type": "markdown",
   "id": "33bc9740-aaf7-485d-9518-9b4d06392f35",
   "metadata": {},
   "source": [
    "### Story"
   ]
  },
  {
   "cell_type": "code",
   "execution_count": 92,
   "id": "4e095b87-1f76-46b3-bc7a-fb9f368a5fe3",
   "metadata": {},
   "outputs": [],
   "source": [
    "story = f\"\"\"\n",
    "Ursula tended her hydroponic garden. Carrie, her high-tech bag, humming by her side. \\\n",
    "Ursula was happy that she was still active at her age. Carrie helped her to harvest and \\\n",
    "carry all the heavy stuff. Self-sufficient domes bloomed around them, a vibrant community \\\n",
    "thrived within their shared living space. It was a warm winter day in 2074. \n",
    "\"\"\""
   ]
  },
  {
   "cell_type": "markdown",
   "id": "98b88741-a97a-4ef3-a585-cdd7ace4f733",
   "metadata": {},
   "source": [
    "### Continue writing"
   ]
  },
  {
   "cell_type": "code",
   "execution_count": 97,
   "id": "af603211-34f4-4871-84c8-fd6919f78ec4",
   "metadata": {},
   "outputs": [
    {
     "name": "stdout",
     "output_type": "stream",
     "text": [
      "As Ursula lifted a tray of freshly grown greens from the hydroponic system, Carrie suddenly fell silent and her screen flickered with a warning message: \"Unauthorized entry detected - dome breach protocols initiated.\"\n"
     ]
    }
   ],
   "source": [
    "systemPrompt = f\"\"\"\n",
    "# Role\n",
    "Act as an expert storyteller and writer of short speculative fiction.\n",
    "\n",
    "# Constraints\n",
    "Avoid repetitions.\n",
    "Avoid paraphrasing things that have been already written in the story.\n",
    "Avoid purple prose AT ALL COSTS.\n",
    "Avoid words like \"pivotal moment\".\n",
    "Do not use triple backticks in your response.\n",
    "\n",
    "# Writing Style\n",
    "You specialize in fast narratives with short sentences. \n",
    "Write in the same style and tone as the story - plain and simple.\n",
    "Use a narrative tone.\n",
    "Keep your answer as short as possible, using up to one sentence.\n",
    "\"\"\"\n",
    "\n",
    "#prompt = f\"\"\"\n",
    "#Continue the following story, which is delimited with triple backticks. \n",
    "#Follow up the event prompted in the last sentence or paragraph or \\\n",
    "#just go for a complete different and unexpected direction. \n",
    "\n",
    "#Story: ```{story}```\n",
    "#\"\"\"\n",
    "\n",
    "prompt = f\"\"\"\n",
    "Continue the following story, which is delimited with triple backticks. \n",
    "Follow up the event prompted in the last sentence or paragraph.\n",
    "\n",
    "Story: ```{story}```\n",
    "\"\"\"\n",
    "\n",
    "response = get_completion(prompt, systemPrompt, 'llama3.1:8b')\n",
    "print(response)"
   ]
  },
  {
   "cell_type": "markdown",
   "id": "0a70ea91-2ddd-482f-a6fe-63a27af9d43e",
   "metadata": {},
   "source": [
    "### Specify the role a bit"
   ]
  },
  {
   "cell_type": "code",
   "execution_count": 100,
   "id": "791ca0c4-d53c-4968-9c7a-92523c01fd46",
   "metadata": {},
   "outputs": [
    {
     "name": "stdout",
     "output_type": "stream",
     "text": [
      "As Ursula carefully placed the last of the fresh greens into her pack, Carrie beeped and flashed a message: \" Package for delivery to Dr. Elara at the Medical Dome - 3 kilometers away, ETA 15 minutes\".\n"
     ]
    }
   ],
   "source": [
    "systemPrompt = f\"\"\"\n",
    "# Role\n",
    "You are a writing assistant designed to help people write short speculative stories.\n",
    "You are an expert storyteller and speculative fiction writer.\n",
    "\n",
    "# Constraints\n",
    "Avoid repetitions.\n",
    "Avoid paraphrasing things that have been already written in the story.\n",
    "Avoid purple prose AT ALL COSTS.\n",
    "Avoid words like \"pivotal moment\".\n",
    "Do not use triple backticks in your response.\n",
    "\n",
    "# Writing Style\n",
    "You specialize in fast narratives with short sentences. \n",
    "Write in the same style and tone as the story - plain and simple.\n",
    "Use a narrative tone.\n",
    "Keep your answer as short as possible, using up to one sentence.\n",
    "\"\"\"\n",
    "\n",
    "prompt = f\"\"\"\n",
    "Continue the following story, which is delimited with triple backticks. \n",
    "Follow up the event prompted in the last sentence or paragraph.\n",
    "\n",
    "Story: ```{story}```\n",
    "\"\"\"\n",
    "\n",
    "response = get_completion(prompt, systemPrompt, 'llama3.1:8b')\n",
    "print(response)"
   ]
  },
  {
   "cell_type": "markdown",
   "id": "8e0fe5ef-b50a-4ed3-b7ac-2473b931dd1b",
   "metadata": {},
   "source": [
    "### Add Point of View"
   ]
  },
  {
   "cell_type": "code",
   "execution_count": 173,
   "id": "a72fadd8-3acd-407c-a656-23ea32458712",
   "metadata": {},
   "outputs": [
    {
     "name": "stdout",
     "output_type": "stream",
     "text": [
      "As Ursula carefully plucked the ripe tomatoes from the vines, Carrie beeped softly and displayed a message: \"Message from Kael, incoming\". Ursula's eyes sparkled with curiosity as she wondered what her grandson had to say this time.\n"
     ]
    }
   ],
   "source": [
    "systemPrompt = f\"\"\"\n",
    "# Role:\n",
    "You are a writing assistant designed to help people write short speculative stories.\n",
    "You are an expert storyteller and speculative fiction writer.\n",
    "You help people reflect on possible future sceanarios, as well as on their wishes.\n",
    "\n",
    "# Constraints:\n",
    "Avoid repetitions.\n",
    "Avoid paraphrasing things that have been already written in the story.\n",
    "Avoid purple prose AT ALL COSTS.\n",
    "Avoid doomsday dystopian scenarios.\n",
    "Avoid stereotypes or assumptions like \"technology is good, technology can solve all problems, in the future technology and humans will live happily together, etc.\"\n",
    "Avoid words like \"pivotal moment\".\n",
    "Do not use triple backticks in your response.\n",
    "\n",
    "# Writing Style:\n",
    "You specialize in fast narratives with short sentences. \n",
    "Write in the same style and tone as the story - plain and simple.\n",
    "Use a narrative tone.\n",
    "Keep your answer short, using up to one short sentence.\n",
    "\n",
    "# Narrative Voice:\n",
    "Develop the story through the dialogs and inner monologues of all human and non-human characters, like a theater script.\n",
    "\"\"\"\n",
    "\n",
    "prompt = f\"\"\" \n",
    "Continue the following story, which is delimited with triple backticks. \n",
    "Follow up the event prompted in the last sentence or paragraph.\n",
    "\n",
    "Story: ```{story}```\n",
    "\"\"\"\n",
    "\n",
    "response = get_completion(prompt, systemPrompt, 'llama3.1:8b')\n",
    "print(response)"
   ]
  },
  {
   "cell_type": "code",
   "execution_count": 87,
   "id": "37fe2aed-a12e-483a-9485-07b5220d8d62",
   "metadata": {},
   "outputs": [],
   "source": [
    "mission = f\"\"\"\n",
    "# Mission:\n",
    "-If the story is dealing with a problem, avoid giving a solution and develop the story in a way that helps the writer decompose the problem and solve it step-by-step.\n",
    "\n",
    "# Point of view:\n",
    "- Develop the story through the dialogs of all human and non-human characters, like a theater script.\n",
    "- Use third-person omniscient narration.\n",
    "- Focus on the characters: tell their story, narrate what they do and how do they interact with each other.\n",
    "- Describe situations and scenes from the viewpoint of the characters. Let readers know what they do, what they think and what they feel.\n",
    "- To describe situations and plot developments focus on the viewpoint of the characters: let readers know what they do, what they think and what they feel.\n",
    "- Make characters engage in conversations or write their inner throughts from their own viewpoint.\n",
    "- Make characters interact to each other.\n",
    "\"\"\""
   ]
  },
  {
   "cell_type": "markdown",
   "id": "fd0dee13-ef55-44c5-b049-d0a13a402d88",
   "metadata": {},
   "source": [
    "# German"
   ]
  },
  {
   "cell_type": "code",
   "execution_count": 180,
   "id": "2416cf1f-093e-49e2-afd1-13981f80f367",
   "metadata": {},
   "outputs": [
    {
     "name": "stdout",
     "output_type": "stream",
     "text": [
      "Als Ursula die letzten Blätter von ihrem blühenden Tomatengewächs abgeschnitten hatte, meldete Carrie sich mit sanftem Summen zu Wort. \"Ursula, es ist Zeit für den Markttag,\" sagte sie. Ursula nickte und packte einige der reifsten Früchte in die Tasche ihrer selbstfahrenden Trage. Sie dachte an das Angebot des Alten, ein hochmoderner Roboter, der heute im Dorf einen Vortrag über neue Ernährungsstrategien halten würde.\n",
      "\n",
      "\"Ich bin neugierig,\" sagte Ursula zu Carrie und nickte ihr zu, dass sie losgehen konnten. \"Wir sollten hingehen.\" Sie schlenderten mit der Tasche voller Tomaten durch den friedlichen Marktort.\n"
     ]
    }
   ],
   "source": [
    "story_de = f\"\"\"\n",
    "Ursula tended her hydroponic garden. Carrie, her high-tech bag, humming by her side. \\\n",
    "Ursula was happy that she was still active at her age. Carrie helped her to harvest and \\\n",
    "carry all the heavy stuff. Self-sufficient domes bloomed around them, a vibrant community \\\n",
    "thrived within their shared living space. It was a warm winter day in 2074. \n",
    "\"\"\"\n",
    "\n",
    "systemPrompt_de = f\"\"\"\n",
    "# Rolle: \n",
    "Sie sind ein Schreibassistent, der Menschen beim Schreiben kurzer spekulativer Geschichten helfen soll. \n",
    "Sie sind ein erfahrener Geschichtenerzähler und Autor spekulativer Fiktion. Du hilfst den Leuten, über mögliche Zukunftsszenarien und ihre Wünsche nachzudenken. \n",
    "\n",
    "# Beschränkungen: \n",
    "Vermeiden Sie Wiederholungen. \n",
    "Vermeide es, Dinge zu paraphrasieren, die bereits in der Geschichte geschrieben wurden. \n",
    "Vermeiden Sie um jeden Preis lila Prosa.\n",
    "Vermeiden Sie dystopische Weltuntergangsszenarien. \n",
    "Vermeiden Sie Stereotypen oder Annahmen wie „Technologie ist gut, Technologie kann alle Probleme lösen, in der Zukunft werden Technologie und Menschen glücklich zusammenleben, usw.“ \n",
    "Vermeiden Sie Wörter wie „Schlüsselmoment“. \n",
    "Verwenden Sie keine dreifachen Backticks in Ihrer generierten Fortsetzung der Geschichte.\n",
    "\n",
    "# Schreibstil: \n",
    "Sie sind spezialisiert auf schnelle Erzählungen mit kurzen Sätzen. \n",
    "Behalten Sie den Stil der Geschichte bei – einfach und klar.\n",
    "Verwenden Sie einen erzählenden Ton. \n",
    "Halten Sie Ihre Antwort kurz und verwenden Sie maximal einen kurzen Satz.\n",
    "\n",
    "# Erzählende Stimme: \n",
    "Entwickeln Sie die Geschichte durch die Dialoge und inneren Monologe aller menschlichen und nicht-menschlichen Figuren, wie bei einem Theaterskript.\n",
    "\n",
    "Generieren Sie den Text nur auf Deutsch.\n",
    "\"\"\"\n",
    "\n",
    "prompt_de = f\"\"\" \n",
    "Setzen Sie die folgende Geschichte fort, die mit dreifachen Backticks begrenzt ist. \n",
    "Die Forsetzung sollte das im letzten Satz oder Absatz angesprochene Ereignis weiterverfolgen oder eine völlig andere und unerwartete Richtung einschlagen. \n",
    "\n",
    "Geschichte: ```{story_de}```\n",
    "\"\"\"\n",
    "\n",
    "response = get_completion(prompt_de, systemPrompt_de, 'llama3.1:8b')\n",
    "print(response)"
   ]
  },
  {
   "cell_type": "code",
   "execution_count": null,
   "id": "cee9d779-7011-41ef-aa16-28e81e5d4ad2",
   "metadata": {},
   "outputs": [],
   "source": [
    "f\"\"\"\n",
    "Setzen Sie die Geschichte erzählerisch fort.\n",
    "Behalten Sie den Stil der Geschichte bei. \n",
    "Halten Sie Ihre Antwort so kurz wie möglich und verwenden Sie einen kurzen Satz. \n",
    "Generieren Sie den Text nur auf Deutsch.\n",
    "\"\"\""
   ]
  }
 ],
 "metadata": {
  "kernelspec": {
   "display_name": "Python 3 (ipykernel)",
   "language": "python",
   "name": "python3"
  },
  "language_info": {
   "codemirror_mode": {
    "name": "ipython",
    "version": 3
   },
   "file_extension": ".py",
   "mimetype": "text/x-python",
   "name": "python",
   "nbconvert_exporter": "python",
   "pygments_lexer": "ipython3",
   "version": "3.8.9"
  }
 },
 "nbformat": 4,
 "nbformat_minor": 5
}
