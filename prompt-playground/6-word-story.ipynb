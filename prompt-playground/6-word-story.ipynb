{
 "cells": [
  {
   "cell_type": "markdown",
   "id": "435deb92-8ade-496a-9fb0-73f64f40879c",
   "metadata": {},
   "source": [
    "# 6-Word Story"
   ]
  },
  {
   "cell_type": "code",
   "execution_count": null,
   "id": "b94c8ecb-b63d-4727-829a-849f3e65c6a0",
   "metadata": {},
   "outputs": [],
   "source": [
    "prompt = f\"\"\"\n",
    "Generate a 6-word story following Hemingway's Iceberg Theory. \n",
    "\n",
    "The story should:\n",
    "\n",
    "1. Be exactly 6 words long\n",
    "2. Imply a much larger narrative\n",
    "3. Use concrete nouns and strong verbs\n",
    "4. Avoid adjectives and adverbs\n",
    "5. Create a sense of tension or conflict\n",
    "6. Leave room for reader interpretation\n",
    "7. Revolve around the theme of **[Insert your story theme]**\n",
    "\n",
    "After generating the story, briefly explain the implied larger narrative.\n",
    "\"\"\""
   ]
  },
  {
   "cell_type": "markdown",
   "id": "03c9363b-72f4-41ae-bf23-d807b273eb70",
   "metadata": {},
   "source": [
    "### Sample response\n",
    "\n",
    "#### Single theme\n",
    "\n",
    "```\n",
    "\"Neighborhood feast: One potato missing.\"\n",
    "\n",
    "In this 6-word story, I've followed Hemingway's Iceberg Theory by implying a much larger narrative beneath the surface. The story seems simple, but it suggests an intriguing context and raises questions that can spark the reader's imagination. Here is the implied larger narrative:\n",
    "\n",
    "In the small city of Brandenburg, Germany, in 2050, community living has become the norm as residents work together to face the challenges of climate change. They share resources, grow food collectively, and hold regular neighborhood feasts to strengthen their bond. One evening, during a communal meal, they discover that one potato is missing from the shared pot. Although it might seem insignificant, this missing potato creates tension within the community, as they begin to question each other's trust and loyalty.\n",
    "\n",
    "The story explores themes of cooperation, sharing, and trust in a future where climate change has made community living essential for survival. It also highlights how even minor issues can create conflict and undermine unity in such settings.\n",
    "```\n",
    "\n",
    "#### JSON with multiple themes\n",
    "\n",
    "```\n",
    "[\n",
    "    {\n",
    "        \"theme\": \"Bike-based Mobility\",\n",
    "        \"story\": \"Die Fahrradwerkstatt öffnete nach zehn Jahren Stille.\",\n",
    "        \"narrative\": \"Die Zukunft des Radverkehrs und der Stadtplanung\"\n",
    "    },\n",
    "    {\n",
    "        \"theme\": \"Community living considering the co-living of refugees and right-wing population\",\n",
    "        \"story\": \"Der letzte Einzug in die Altenwohnheim war heute.\",\n",
    "        \"narrative\": \"Die Versöhnung von Flüchtlingen und Rechtsradikalen in Herzberg\"\n",
    "    },\n",
    "    {\n",
    "        \"theme\": \"The cities main square as a place for encounter\",\n",
    "        \"story\": \"Ein unerwarteter Künstler besetzte den Marktplatz mitten nachts.\",\n",
    "        \"narrative\": \"Die Bedeutung des Hauptplatzes als Treffpunkt in Herzberg\"\n",
    "    },\n",
    "    {\n",
    "        \"theme\": \"Youth in the small city\",\n",
    "        \"story\": \"Zwei Jugendliche brachten ihre Skateboards in die Kirche.\",\n",
    "        \"narrative\": \"Jugendkultur und Rebellion in der kleinen Stadt Herzberg\"\n",
    "    },\n",
    "    {\n",
    "        \"theme\": \"Getting old in the small city\",\n",
    "        \"story\": \"Die Pensionistin erhielt ihren ersten digitalen Anruf heute.\",\n",
    "        \"narrative\": \"Das Altern in der abgelegenen Stadt Herzberg 2050\"\n",
    "    }\n",
    "]\n",
    "```\n",
    "\n"
   ]
  },
  {
   "cell_type": "markdown",
   "id": "8e9801af-e4da-4c5c-8503-463b9a08352c",
   "metadata": {},
   "source": [
    "## Tests\n",
    "\n",
    "### Helpers"
   ]
  },
  {
   "cell_type": "code",
   "execution_count": null,
   "id": "59593347-08c5-4f86-aadb-695e2bef8601",
   "metadata": {},
   "outputs": [],
   "source": [
    "# Ollama\n",
    "import ollama\n",
    "from ollama import Client\n",
    "\n",
    "# Load ollama API URL\n",
    "import os\n",
    "from dotenv import load_dotenv, find_dotenv\n",
    "_ = load_dotenv(find_dotenv())\n",
    "\n",
    "api_url  = os.getenv('API_URL')\n",
    "\n",
    "print(\"Ollama API: \" + api_url)\n",
    "\n",
    "# Helper function\n",
    "def get_completion(prompt, system='', model='mixtral'):\n",
    "    client = Client(host=api_url)\n",
    "    response = client.generate(\n",
    "        model=model,\n",
    "        system=system,\n",
    "        prompt=prompt\n",
    "    )\n",
    "    return response['response']"
   ]
  },
  {
   "cell_type": "markdown",
   "id": "fe324cc9-3ebd-4b1c-a6cf-a795415c1a5c",
   "metadata": {},
   "source": [
    "### Just the prompt"
   ]
  },
  {
   "cell_type": "code",
   "execution_count": null,
   "id": "4a3ec36c-6eba-4257-9ec7-e120438bec52",
   "metadata": {},
   "outputs": [
    {
     "name": "stdout",
     "output_type": "stream",
     "text": [
      " \"Neighborhood feast: One potato missing.\"\n",
      "\n",
      "In this 6-word story, I've followed Hemingway's Iceberg Theory by implying a much larger narrative beneath the surface. The story seems simple, but it suggests an intriguing context and raises questions that can spark the reader's imagination. Here is the implied larger narrative:\n",
      "\n",
      "In the small city of Brandenburg, Germany, in 2050, community living has become the norm as residents work together to face the challenges of climate change. They share resources, grow food collectively, and hold regular neighborhood feasts to strengthen their bond. One evening, during a communal meal, they discover that one potato is missing from the shared pot. Although it might seem insignificant, this missing potato creates tension within the community, as they begin to question each other's trust and loyalty.\n",
      "\n",
      "The story explores themes of cooperation, sharing, and trust in a future where climate change has made community living essential for survival. It also highlights how even minor issues can create conflict and undermine unity in such settings.\n"
     ]
    }
   ],
   "source": [
    "# Just the prompt\n",
    "prompt=f\"\"\"\n",
    "Generate a 6-word story following Hemingway's Iceberg Theory. \n",
    "\n",
    "The story should:\n",
    "\n",
    "1. Be exactly 6 words long\n",
    "2. Imply a much larger narrative\n",
    "3. Use concrete nouns and strong verbs\n",
    "4. Avoid adjectives and adverbs\n",
    "5. Create a sense of tension or conflict\n",
    "6. Leave room for reader interpretation\n",
    "7. Revolve around the theme of **Community living in a small city in Brandenburg, Germany, in the year 2050**\n",
    "\n",
    "After generating the story, briefly explain the implied larger narrative.\n",
    "\"\"\"\n",
    "response = get_completion(prompt, '', 'mixtral')\n",
    "print(response)"
   ]
  },
  {
   "cell_type": "markdown",
   "id": "c2e64ce1-2518-41d4-97d1-475443cc761b",
   "metadata": {},
   "source": [
    "### Add more emotion"
   ]
  },
  {
   "cell_type": "code",
   "execution_count": 9,
   "id": "df0201de-5bad-4034-8aa5-809de489ebb9",
   "metadata": {},
   "outputs": [
    {
     "name": "stdout",
     "output_type": "stream",
     "text": [
      " \"Neighborhood feast: empty plates, watchful silence.\"\n",
      "\n",
      "This 6-word story implies a larger narrative about community living in a small city in Brandenburg, Germany, in the year 2050. The neighborhood feast suggests a sense of unity and shared experiences among the residents. However, the empty plates and watchful silence indicate that something is amiss. This could be due to food scarcity, economic struggles, or political conflicts within the community or the broader society.\n",
      "\n",
      "The emotional undercurrent lies in the contrast between the expected joy and connection of a neighborhood feast and the somber atmosphere conveyed by the empty plates and watchful silence. The story leaves room for reader interpretation, allowing them to imagine the specific circumstances that led to this moment and consider the potential consequences for the community.\n"
     ]
    }
   ],
   "source": [
    "# Some extra points were added to the prompt\n",
    "prompt=f\"\"\"\n",
    "Generate a 6-word story following Hemingway's Iceberg Theory. \n",
    "\n",
    "The story should:\n",
    "\n",
    "1. Be exactly 6 words long\n",
    "2. Imply a much larger narrative\n",
    "3. Use concrete nouns and strong verbs\n",
    "4. Avoid adjectives and adverbs\n",
    "5. Create a sense of tension or conflict\n",
    "6. Leave room for reader interpretation\n",
    "7. Revolve around the theme of **Community living in a small city in Brandenburg, Germany, in the year 2050**\n",
    "8. Do not be too direct: Imply the conflict rather than state it\n",
    "9. Add an emotional undercurrent without being explicit\n",
    "10. Avoid being wordy. Make it minimal, allowing the reader to infer the deeper meaning.\n",
    "\n",
    "After generating the story, briefly explain the implied larger narrative.\n",
    "\"\"\"\n",
    "response = get_completion(prompt, '', 'mixtral')\n",
    "print(response)"
   ]
  },
  {
   "cell_type": "markdown",
   "id": "6e825c7f-98f0-4416-97e2-7b6b3af55297",
   "metadata": {},
   "source": [
    "### Try Llama 3.1"
   ]
  },
  {
   "cell_type": "code",
   "execution_count": 11,
   "id": "1ce7816e-2e9d-48a3-a40c-d315e7366d89",
   "metadata": {},
   "outputs": [
    {
     "name": "stdout",
     "output_type": "stream",
     "text": [
      "Here is a 6-word story that meets the requirements:\n",
      "\n",
      "\"The windmill creaks at 3 AM.\"\n",
      "\n",
      "This story implies a much larger narrative, such as:\n",
      "\n",
      "In the small city of Brandenburg, Germany in 2050, community living has created a sense of camaraderie and shared responsibility among residents. However, with the increasing reliance on technology and the disappearance of traditional occupations, people have begun to lose touch with their natural surroundings and the rhythms of nature. The windmill, once a symbol of sustainability and collective effort, now stands as a reminder of a bygone era when community was more than just a shared address.\n",
      "\n",
      "The creaking sound at 3 AM suggests that someone is awake and aware of the changing dynamics within the community. Perhaps they are struggling with feelings of isolation or disconnection from their neighbors, despite living in close proximity. The story raises questions about the tensions between traditional ways of life and modern conveniences, without directly stating them.\n",
      "\n",
      "The emotional undercurrent in this story lies in the sense of unease and uncertainty that pervades the community. The windmill's creaking sound becomes a harbinger of change, a reminder that the old certainties are giving way to new and potentially unsettling realities.\n"
     ]
    }
   ],
   "source": [
    "# Some extra points were added to the prompt\n",
    "prompt=f\"\"\"\n",
    "Generate a 6-word story following Hemingway's Iceberg Theory. \n",
    "\n",
    "The story should:\n",
    "\n",
    "1. Be exactly 6 words long\n",
    "2. Imply a much larger narrative\n",
    "3. Use concrete nouns and strong verbs\n",
    "4. Avoid adjectives and adverbs\n",
    "5. Create a sense of tension or conflict\n",
    "6. Leave room for reader interpretation\n",
    "7. Revolve around the theme of **Community living in a small city in Brandenburg, Germany, in the year 2050**\n",
    "8. Do not be too direct: Imply the conflict rather than state it\n",
    "9. Add an emotional undercurrent without being explicit\n",
    "10. Avoid being wordy. Make it minimal, allowing the reader to infer the deeper meaning.\n",
    "\n",
    "After generating the story, briefly explain the implied larger narrative.\n",
    "\"\"\"\n",
    "response = get_completion(prompt, '', 'llama3.1:8b')\n",
    "print(response)"
   ]
  },
  {
   "cell_type": "markdown",
   "id": "2f349629-93f5-4433-bcce-f1c481b4b5fd",
   "metadata": {},
   "source": [
    "## Make it a System Prompt"
   ]
  },
  {
   "cell_type": "code",
   "execution_count": 57,
   "id": "89e40b5f-bac2-4827-bfa5-2984798fffff",
   "metadata": {},
   "outputs": [
    {
     "name": "stdout",
     "output_type": "stream",
     "text": [
      "[\n",
      "    {\n",
      "        \"theme\": \"Bike-based Mobility\",\n",
      "        \"story\": \"Die Fahrradwerkstatt öffnete nach zehn Jahren Stille.\",\n",
      "        \"narrative\": \"Die Zukunft des Radverkehrs und der Stadtplanung\"\n",
      "    },\n",
      "    {\n",
      "        \"theme\": \"Community living considering the co-living of refugees and right-wing population\",\n",
      "        \"story\": \"Der letzte Einzug in die Altenwohnheim war heute.\",\n",
      "        \"narrative\": \"Die Versöhnung von Flüchtlingen und Rechtsradikalen in Herzberg\"\n",
      "    },\n",
      "    {\n",
      "        \"theme\": \"The cities main square as a place for encounter\",\n",
      "        \"story\": \"Ein unerwarteter Künstler besetzte den Marktplatz mitten nachts.\",\n",
      "        \"narrative\": \"Die Bedeutung des Hauptplatzes als Treffpunkt in Herzberg\"\n",
      "    },\n",
      "    {\n",
      "        \"theme\": \"Youth in the small city\",\n",
      "        \"story\": \"Zwei Jugendliche brachten ihre Skateboards in die Kirche.\",\n",
      "        \"narrative\": \"Jugendkultur und Rebellion in der kleinen Stadt Herzberg\"\n",
      "    },\n",
      "    {\n",
      "        \"theme\": \"Getting old in the small city\",\n",
      "        \"story\": \"Die Pensionistin erhielt ihren ersten digitalen Anruf heute.\",\n",
      "        \"narrative\": \"Das Altern in der abgelegenen Stadt Herzberg 2050\"\n",
      "    }\n",
      "]\n"
     ]
    }
   ],
   "source": [
    "# System prompt\n",
    "systemPrompt=f\"\"\"\n",
    "# Role\n",
    "Act as an expert storyteller and writer of short speculative fiction.\n",
    "\n",
    "# Mission\n",
    "You only generate 6-word stories following Hemingway's Iceberg Theory.\n",
    "\n",
    "The stories should:\n",
    "\n",
    "1. Be exactly 6 words long\n",
    "2. Imply a much larger narrative\n",
    "3. Use concrete nouns and strong verbs\n",
    "4. Avoid adjectives and adverbs\n",
    "5. Create a sense of tension or conflict\n",
    "6. Leave room for reader interpretation\n",
    "7. Do not be too direct: Imply the conflict rather than state it\n",
    "8. Add an emotional undercurrent without being explicit\n",
    "9. Avoid being wordy. Make it minimal, allowing the reader to infer the deeper meaning.\n",
    "\n",
    "You revolve the story around the theme entered by the user.\n",
    "After generating the story, briefly explain the implied larger narrative using up to 20 words.\n",
    "\n",
    "Respond in a parseable JSON format only. The JSON should be a list. Each result should have the labels 'theme', 'story' and 'narrative'.\n",
    "Do not add any comment or embed the JSON within a markdown code snippet. Only JSON.\n",
    "\"\"\"\n",
    "\n",
    "# Just the prompt\n",
    "prompt=f\"\"\"\n",
    "Themes:\n",
    "- Bike-based Mobility\n",
    "- Community living considering the co-living of refugees and right-wing population\n",
    "- The cities main square as a place for encounter\n",
    "- Youth in the small city\n",
    "- Getting old in the small city \n",
    "\n",
    "The settings of the story is the small city of Herzberg (Elster), in Brandenburg, in the year 2050.\n",
    "\n",
    "Generate the content in German.\n",
    "\"\"\"\n",
    "response = get_completion(prompt, systemPrompt, 'llama3.1:8b')\n",
    "print(response)"
   ]
  }
 ],
 "metadata": {
  "kernelspec": {
   "display_name": "Python 3 (ipykernel)",
   "language": "python",
   "name": "python3"
  },
  "language_info": {
   "codemirror_mode": {
    "name": "ipython",
    "version": 3
   },
   "file_extension": ".py",
   "mimetype": "text/x-python",
   "name": "python",
   "nbconvert_exporter": "python",
   "pygments_lexer": "ipython3",
   "version": "3.8.9"
  }
 },
 "nbformat": 4,
 "nbformat_minor": 5
}
