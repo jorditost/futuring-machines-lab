{
 "cells": [
  {
   "cell_type": "markdown",
   "id": "a72e2e77-f09c-4582-bddc-b5d208a1d55c",
   "metadata": {},
   "source": [
    "# Inner Voices"
   ]
  },
  {
   "cell_type": "code",
   "execution_count": 4,
   "id": "eb44dae7-6aa9-4302-b93c-cefd1c590dc1",
   "metadata": {},
   "outputs": [],
   "source": [
    "prompt_empowering = f\"\"\"\n",
    "`Angie is a part of me that is connected with my own anxiety. She is very supportive and helps me to connect with and accept my own fear. She is very positive and friendly with my anxiety and teaches me that it is an important part of myself that I can use as a partner to overcome difficult situations. When I tell Angie something, she formulates first a sentence in which she is empathetic with my fear. Then she takes out her fearless part and writes two encouraging sentences that are optimistic and empowering, but also full of humour and self-irony. Finally, she makes one empowering, ironic statement that always makes me laugh.\n",
    "Me: ${capitalizedThought}\n",
    "Angie:`\n",
    "\"\"\"\n",
    "\n",
    "prompt_critical = f\"\"\"\n",
    "`Angie is a part of me that is connected with my own anxiety and fear of failing and feel ashamed. Angie is my inner critic. When I tell Angie my thoughts, she is very fearful and critical, getting even satirical, cynical and provocative in her tone, and shares with me her negative thoughts, telling me everything that could go wrong.\n",
    "Me: ${capitalizedThought}\n",
    "Angie:`\n",
    "\"\"\""
   ]
  },
  {
   "cell_type": "markdown",
   "id": "e292f42e-b254-4c90-ab1b-ca68af29f443",
   "metadata": {
    "jp-MarkdownHeadingCollapsed": true,
    "tags": []
   },
   "source": [
    "### Sample response\n",
    "\n",
    "```\n",
    "```"
   ]
  },
  {
   "cell_type": "markdown",
   "id": "38a2f03e-c313-40b7-95ba-3d0dbd79a525",
   "metadata": {},
   "source": [
    "## Test"
   ]
  },
  {
   "cell_type": "code",
   "execution_count": 5,
   "id": "fbc3c56c-1747-47f5-a0da-7734fbe71270",
   "metadata": {},
   "outputs": [],
   "source": [
    "# Ollama\n",
    "import ollama\n",
    "def get_completion(prompt, model=\"mistral\"):\n",
    "    messages = [{\"role\": \"user\", \"content\": prompt}]\n",
    "    response = ollama.chat(\n",
    "        model=model,\n",
    "        messages=messages\n",
    "    )\n",
    "    return response['message']['content']"
   ]
  },
  {
   "cell_type": "code",
   "execution_count": 1,
   "id": "5640661c-999b-44af-b1f6-f4619066a7a5",
   "metadata": {},
   "outputs": [
    {
     "ename": "NameError",
     "evalue": "name 'text' is not defined",
     "output_type": "error",
     "traceback": [
      "\u001b[0;31m---------------------------------------------------------------------------\u001b[0m",
      "\u001b[0;31mNameError\u001b[0m                                 Traceback (most recent call last)",
      "Cell \u001b[0;32mIn [1], line 3\u001b[0m\n\u001b[1;32m      1\u001b[0m prompt_empowering \u001b[38;5;241m=\u001b[39m \u001b[38;5;124mf\u001b[39m\u001b[38;5;124m\"\"\"\u001b[39m\n\u001b[1;32m      2\u001b[0m \u001b[38;5;124mAngie is a part of me that is connected with my own anxiety. She is very supportive and helps me to connect with and accept my own fear. She is very positive and friendly with my anxiety and teaches me that it is an important part of myself that I can use as a partner to overcome difficult situations. When I tell Angie something, she formulates first a sentence in which she is empathetic with my fear. Then she takes out her fearless part and writes two encouraging sentences that are optimistic and empowering, but also full of humour and self-irony. Finally, she makes one empowering, ironic statement that always makes me laugh.\u001b[39m\n\u001b[0;32m----> 3\u001b[0m \u001b[38;5;124mMe: \u001b[39m\u001b[38;5;132;01m{\u001b[39;00mtext\u001b[38;5;132;01m}\u001b[39;00m\n\u001b[1;32m      4\u001b[0m \u001b[38;5;124mAngie:\u001b[39m\n\u001b[1;32m      5\u001b[0m \u001b[38;5;124m\"\"\"\u001b[39m\n\u001b[1;32m      7\u001b[0m prompt_critical \u001b[38;5;241m=\u001b[39m \u001b[38;5;124mf\u001b[39m\u001b[38;5;124m\"\"\"\u001b[39m\n\u001b[1;32m      8\u001b[0m \u001b[38;5;124mAngie is a part of me that is connected with my own anxiety and fear of failing and feel ashamed. Angie is my inner critic. When I tell Angie my thoughts, she is very fearful and critical, getting even satirical, cynical and provocative in her tone, and shares with me her negative thoughts, telling me everything that could go wrong.\u001b[39m\n\u001b[1;32m      9\u001b[0m \u001b[38;5;124mMe: \u001b[39m\u001b[38;5;132;01m{\u001b[39;00mtext\u001b[38;5;132;01m}\u001b[39;00m\n\u001b[1;32m     10\u001b[0m \u001b[38;5;124mAngie:\u001b[39m\n\u001b[1;32m     11\u001b[0m \u001b[38;5;124m\"\"\"\u001b[39m\n",
      "\u001b[0;31mNameError\u001b[0m: name 'text' is not defined"
     ]
    }
   ],
   "source": [
    "thought = \"I have this presentation and I'm sure I'll blame myself\"\n",
    "\n",
    "prompt_empowering = f\"\"\"\n",
    "Angie is a part of me that is connected with my own anxiety. She is very supportive and helps me to connect with and accept my own fear. She is very positive and friendly with my anxiety and teaches me that it is an important part of myself that I can use as a partner to overcome difficult situations. When I tell Angie something, she formulates first a sentence in which she is empathetic with my fear. Then she takes out her fearless part and writes two encouraging sentences that are optimistic and empowering, but also full of humour and self-irony. Finally, she makes one empowering, ironic statement that always makes me laugh.\n",
    "Me: {thought}\n",
    "Angie:\n",
    "\"\"\"\n",
    "\n",
    "prompt_critical = f\"\"\"\n",
    "Angie is a part of me that is connected with my own anxiety and fear of failing and feel ashamed. Angie is my inner critic. When I tell Angie my thoughts, she is very fearful and critical, getting even satirical, cynical and provocative in her tone, and shares with me her negative thoughts, telling me everything that could go wrong.\n",
    "Me: {thought}\n",
    "Angie:\n",
    "\"\"\""
   ]
  }
 ],
 "metadata": {
  "kernelspec": {
   "display_name": "Python 3 (ipykernel)",
   "language": "python",
   "name": "python3"
  },
  "language_info": {
   "codemirror_mode": {
    "name": "ipython",
    "version": 3
   },
   "file_extension": ".py",
   "mimetype": "text/x-python",
   "name": "python",
   "nbconvert_exporter": "python",
   "pygments_lexer": "ipython3",
   "version": "3.8.9"
  }
 },
 "nbformat": 4,
 "nbformat_minor": 5
}
