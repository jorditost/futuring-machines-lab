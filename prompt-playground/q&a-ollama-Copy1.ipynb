{
 "cells": [
  {
   "cell_type": "markdown",
   "id": "d965793a-da38-4d06-8114-d477db060fd7",
   "metadata": {
    "tags": []
   },
   "source": [
    "# Q&A using Ollama"
   ]
  },
  {
   "cell_type": "code",
   "execution_count": null,
   "id": "fa2dc66e-e8f3-48c3-bdf6-b77cba3caaed",
   "metadata": {},
   "outputs": [],
   "source": [
    "import ollama\n",
    "\n",
    "# Load ollama API URL\n",
    "import os\n",
    "from dotenv import load_dotenv, find_dotenv\n",
    "_ = load_dotenv(find_dotenv())\n",
    "\n",
    "api_url  = os.getenv('API_URL')"
   ]
  },
  {
   "cell_type": "markdown",
   "id": "8a308e9b-aab4-4bd2-8748-037eeea66dcb",
   "metadata": {},
   "source": [
    "#### Custom API URL"
   ]
  },
  {
   "cell_type": "code",
   "execution_count": 3,
   "id": "b736aee7-2097-48df-8d71-8831ddcae3ae",
   "metadata": {},
   "outputs": [
    {
     "name": "stdout",
     "output_type": "stream",
     "text": [
      " The Save the Cat method is a story structure template with 15 beats, created by screenwriter Blake Snyder.\n"
     ]
    }
   ],
   "source": [
    "from ollama import Client\n",
    "client = Client(host=api_url) #api_url set before as env variable\n",
    "response = client.generate(\n",
    "    model=\"mixtral\", \n",
    "    prompt=\"What is the Blake Snyder's Save The Cat method?. Respond in up to 20 words.\"\n",
    ")\n",
    "\n",
    "print(response['response'])"
   ]
  },
  {
   "cell_type": "markdown",
   "id": "0e919e0a-e183-4e7d-87d6-945421292aa8",
   "metadata": {},
   "source": [
    "#### Custom API URL Stream"
   ]
  },
  {
   "cell_type": "code",
   "execution_count": 4,
   "id": "2cbf1e02-684c-48f4-800e-922ef9b515cd",
   "metadata": {},
   "outputs": [
    {
     "name": "stdout",
     "output_type": "stream",
     "text": [
      " Blake Snyder's Save the Cat method is a step-by-step guide for screenwriting, focusing on story structure, genre, and character development."
     ]
    }
   ],
   "source": [
    "from ollama import Client\n",
    "client = Client(host=api_url)\n",
    "\n",
    "response = client.generate(\n",
    "    model=\"mixtral\", \n",
    "    prompt=\"What is the Blake Snyder's Save The Cat method?. Respond in up to 20 words.\", \n",
    "    stream=True\n",
    ")\n",
    "\n",
    "for part in response :\n",
    "  print(part['response'], end='', flush=True)"
   ]
  },
  {
   "cell_type": "markdown",
   "id": "4e812e6a-c4e8-4b38-9868-117914562229",
   "metadata": {},
   "source": [
    "#### Custom API + System Prompt"
   ]
  },
  {
   "cell_type": "code",
   "execution_count": 6,
   "id": "810b3222-c9a2-4a50-be64-5e7ffdb92859",
   "metadata": {},
   "outputs": [
    {
     "name": "stdout",
     "output_type": "stream",
     "text": [
      "The Save the Cat method, created by Blake Snyder, is a screenwriting structure that breaks down stories into 15 beats.\n"
     ]
    }
   ],
   "source": [
    "from ollama import Client\n",
    "client = Client(host=api_url)\n",
    "response = client.generate(\n",
    "    model='llama3.1:8b', # llama3.1:8b // mixtral\n",
    "    system='Respond in up to 20 words.',\n",
    "    prompt=\"What is the Blake Snyder's Save The Cat method?\"\n",
    ")\n",
    "print(response['response'])"
   ]
  }
 ],
 "metadata": {
  "kernelspec": {
   "display_name": "Python 3 (ipykernel)",
   "language": "python",
   "name": "python3"
  },
  "language_info": {
   "codemirror_mode": {
    "name": "ipython",
    "version": 3
   },
   "file_extension": ".py",
   "mimetype": "text/x-python",
   "name": "python",
   "nbconvert_exporter": "python",
   "pygments_lexer": "ipython3",
   "version": "3.8.9"
  }
 },
 "nbformat": 4,
 "nbformat_minor": 5
}
