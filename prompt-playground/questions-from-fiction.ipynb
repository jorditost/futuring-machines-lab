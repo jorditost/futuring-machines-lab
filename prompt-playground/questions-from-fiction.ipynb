{
 "cells": [
  {
   "cell_type": "markdown",
   "id": "a72e2e77-f09c-4582-bddc-b5d208a1d55c",
   "metadata": {},
   "source": [
    "# Questions from fiction\n",
    "\n",
    "Generate questions for a fictional paragraph."
   ]
  },
  {
   "cell_type": "code",
   "execution_count": null,
   "id": "eb44dae7-6aa9-4302-b93c-cefd1c590dc1",
   "metadata": {},
   "outputs": [],
   "source": [
    "prompt = f\"\"\"\n",
    "Generate some thoughtful and creative questions from the text provided. \\\n",
    "Structure your questions as creative speculations for where the story could go.\n",
    "\"\"\""
   ]
  },
  {
   "cell_type": "markdown",
   "id": "c3a66dad-7e13-4a43-844a-eb7c505c42de",
   "metadata": {},
   "source": [
    "### Prompt responses\n",
    "\n",
    "| Input (Text)                                                                                                                                                                                                                                                                                                                                                                                                         | Output (Questions)                                                                                                                         |\n",
    "|----------------------------------------------------------------------------------------------------------------------------------------------------------------------------------------------------------------------------------------------------------------------------------------------------------------------------------------------------------------------------------------------------------------------|--------------------------------------------------------------------------------------------------------------------------------------------|\n",
    "| Three people walk into a laundromat. The likely parent, a woman enters first, ushering the other two. Next, a young girl jogs to catch up, a grin on her face and holding a strange alien-like purple plushy. Lagging behind, a cloaked teenager in an oversized hoodie waddles back and forth, awkwardly stiff in their gate as to pass the time. The oldest rushes to the back, looking ready to speak to someone. | 1. Is this a family? 2. What is the reason they are in the laundromat? 3. Why is the teenager so annoyed? 4 Who else may be in this scene? |\n",
    "| A brittle and brisk morning, where everything feels weirdly washed out and slightly powder blue. Sarah steps over the threshold, tugging a tan and brown flannel, as she walks out into the tall grass still dripping in morning dew.                                                                                                                                                                                | 1. Who is Sarah? 2. Why did she leave the house? 3. Where is she heading? 4. What kind of place is this? A farm?                           |"
   ]
  },
  {
   "cell_type": "markdown",
   "id": "e292f42e-b254-4c90-ab1b-ca68af29f443",
   "metadata": {},
   "source": [
    "### Sample response\n",
    "\n",
    "```\n",
    "1. Why is this room empty? Was someone here previously?\n",
    "2. Who or what activated the harsh overhead light?\n",
    "3. What could be the purpose of this room in a federal office building?\n",
    "4. Is there any significance to the thin vertical strip of light and the slightly uneven steel door?\n",
    "```\n",
    "\n",
    "### Sample response \"Homes for Life\"\n",
    "\n",
    "```\n",
    "1. How did Herbert come to be diagnosed with dementia?\n",
    "2. What are some of the other features of the \"Homes for Life\" community that cater to the needs and desires of its elderly residents?\n",
    "3. Does Herbert have any companions or friends within the community, or does he mostly keep to himself on his walks in the woods?\n",
    "4. How do the smart shoes and other technology integrated into Herbert's life impact his sense of autonomy and independence?\n",
    "5. What kind of challenges or obstacles might Herbert face during his walks in the woods as he navigates with the help of his smart shoes?\n",
    "```"
   ]
  },
  {
   "cell_type": "markdown",
   "id": "38a2f03e-c313-40b7-95ba-3d0dbd79a525",
   "metadata": {},
   "source": [
    "## Test"
   ]
  },
  {
   "cell_type": "code",
   "execution_count": 2,
   "id": "fbc3c56c-1747-47f5-a0da-7734fbe71270",
   "metadata": {},
   "outputs": [],
   "source": [
    "# Ollama\n",
    "import ollama\n",
    "def get_completion(prompt, model=\"mistral\"):\n",
    "    messages = [{\"role\": \"user\", \"content\": prompt}]\n",
    "    response = ollama.chat(\n",
    "        model=model,\n",
    "        messages=messages\n",
    "    )\n",
    "    return response['message']['content']"
   ]
  },
  {
   "cell_type": "markdown",
   "id": "c821a48a-d8dc-4628-88d7-9b9ce898e2cb",
   "metadata": {},
   "source": [
    "### Stories to analyse"
   ]
  },
  {
   "cell_type": "code",
   "execution_count": 3,
   "id": "91f1ec84-67fa-4bcd-bfc5-04b29de45dde",
   "metadata": {},
   "outputs": [],
   "source": [
    "text = f\"\"\"\n",
    "An empty room, barely any light other than a thin vertical strip where the \\\n",
    "slightly uneven steel door meets up awkwardly with its frame. As your eyes \\\n",
    "adjust, you can see that the walls are simple panels and the floors a standard \\\n",
    "linoleum faux tile look of a federal office building. Suddenly a harsh overhead \\\n",
    "light flashes on, casting you in a dynamic shadows.\n",
    "\"\"\"\n",
    "\n",
    "# Homes for life\n",
    "story_homes = \"\"\"\n",
    "Herbert is a senior citizen who is friendly and open to his \\\n",
    "fellow human beings. He really wanted to move into one of \\\n",
    "these smart houses. They are called \"Homes for Life\". \\\n",
    "The house is not a single apartment, but it's not a care \\\n",
    "home either, so there's no hanging around with just old people. \\\n",
    "There's no bingo. Oh God he hates bingo! But what he does love \\\n",
    "is every morning going for a walk in the woods. He likes to be \\\n",
    "in company, but also enjoys time on his own. Then he feels \\\n",
    "autonomous and independent. Although sometimes he is afraid of \\\n",
    "getting lost. Especially after being diagnosed with dementia. \\\n",
    "The home itself diagnosed him shortly after he moved in. He was \\\n",
    "then given smart shoes for his walks to help him stay fit. \\\n",
    "The smart shoes can also show him the safest route with the \\\n",
    "smart laces or notify his housemates if he gets lost. \n",
    "\"\"\""
   ]
  },
  {
   "cell_type": "markdown",
   "id": "ef40a650-a11e-467e-8bb8-1d0fcdcd2a04",
   "metadata": {},
   "source": [
    "### Zero-shot prompting"
   ]
  },
  {
   "cell_type": "code",
   "execution_count": 4,
   "id": "7551e3f5-8d96-454b-aeff-4de624f224c3",
   "metadata": {},
   "outputs": [
    {
     "name": "stdout",
     "output_type": "stream",
     "text": [
      " 1. What new technologies could be implemented in \"Homes for Life\" to help residents like Herbert navigate their surroundings and alleviate fears of getting lost, beyond smart shoes?\n",
      "2. How might the relationship between Herbert and his housemates develop as they rely on each other for support and companionship while also valuing independence?\n",
      "3. If more seniors are diagnosed with dementia upon moving into \"Homes for Life,\" how would this impact the community and the resources available to them?\n",
      "4. Could there be a potential for intergenerational programs within \"Homes for Life\" to promote social interaction between different age groups and foster mutual learning and growth?\n",
      "5. How does the diagnosis of dementia in Herbert affect his sense of autonomy and independence, and how could \"Homes for Life\" adapt to meet his changing needs?\n",
      "6. In what ways might \"Homes for Life\" address the stigma surrounding dementia and create a supportive environment for those living with the condition?\n",
      "7. Could there be any unintended consequences or ethical dilemmas that arise from the early detection of dementia in residents, such as privacy concerns or the potential for overreliance on technology?\n",
      "8. How would the smart shoes integrate with other aspects of daily life in \"Homes for Life,\" and could they potentially expand to include features beyond safety and navigation?\n"
     ]
    }
   ],
   "source": [
    "prompt = f\"\"\"\n",
    "Generate some thoughtful and creative questions from the text provided. \\\n",
    "Structure your questions as creative speculations for where the story could go.\n",
    "\n",
    "Text: ```{story_homes}```\n",
    "\"\"\"\n",
    "\n",
    "response = get_completion(prompt)\n",
    "print(response)"
   ]
  },
  {
   "cell_type": "markdown",
   "id": "7344c5a2-0125-4614-86f9-b0d7c6e5fb35",
   "metadata": {},
   "source": [
    "### Few-shot prompting\n",
    "\n",
    "Give successful examples of completing tasks. Then ask model to perform the task."
   ]
  },
  {
   "cell_type": "code",
   "execution_count": 5,
   "id": "13d6935e-ef64-448c-ae25-28ce22f9a180",
   "metadata": {},
   "outputs": [
    {
     "name": "stdout",
     "output_type": "stream",
     "text": [
      " 1. How did Herbert come to be diagnosed with dementia?\n",
      "2. What are some of the other features of the \"Homes for Life\" community that cater to the needs and desires of its elderly residents?\n",
      "3. Does Herbert have any companions or friends within the community, or does he mostly keep to himself on his walks in the woods?\n",
      "4. How do the smart shoes and other technology integrated into Herbert's life impact his sense of autonomy and independence?\n",
      "5. What kind of challenges or obstacles might Herbert face during his walks in the woods as he navigates with the help of his smart shoes?\n"
     ]
    }
   ],
   "source": [
    "# Few-shot prompting\n",
    "prompt = f\"\"\"\n",
    "Generate some thoughtful and creative questions from the text provided. \\\n",
    "Structure your questions as creative speculations for where the story could go.\n",
    "\n",
    "<Text>: Three people walk into a laundromat. The likely parent, a woman enters first, \\\n",
    "ushering the other two. Next, a young girl jogs to catch up, a grin on her face and \\\n",
    "holding a strange alien-like purple plushy. Lagging behind, a cloaked teenager in an \\\n",
    "oversized hoodie waddles back and forth, awkwardly stiff in their gate as to pass \\\n",
    "the time. The oldest rushes to the back, looking ready to speak to someone.\n",
    "<Questions>: 1. Is this a family?\n",
    "2. What is the reason they are in the laundromat?\n",
    "3. Why is the teenager so annoyed?\n",
    "4. Who else may be in this scene?\n",
    "\n",
    "<Text>: A brittle and brisk morning, where everything feels weirdly washed out and \\\n",
    "slightly powder blue. Sarah steps over the threshold, tugging a tan and brown flannel, \\\n",
    "as she walks out into the tall grass still dripping in morning dew.\n",
    "<Questions>: 1. Who is Sarah?\n",
    "2. Why did she leave the house?\n",
    "3. Where is she heading?\n",
    "4. What kind of place is this? A farm?\n",
    "\n",
    "<Text>: ```{story_homes}```\n",
    "<Questions>:\n",
    "\"\"\"\n",
    "\n",
    "response = get_completion(prompt)\n",
    "print(response)"
   ]
  }
 ],
 "metadata": {
  "kernelspec": {
   "display_name": "Python 3 (ipykernel)",
   "language": "python",
   "name": "python3"
  },
  "language_info": {
   "codemirror_mode": {
    "name": "ipython",
    "version": 3
   },
   "file_extension": ".py",
   "mimetype": "text/x-python",
   "name": "python",
   "nbconvert_exporter": "python",
   "pygments_lexer": "ipython3",
   "version": "3.8.9"
  }
 },
 "nbformat": 4,
 "nbformat_minor": 5
}
