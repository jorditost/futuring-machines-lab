{
 "cells": [
  {
   "cell_type": "markdown",
   "id": "d965793a-da38-4d06-8114-d477db060fd7",
   "metadata": {
    "tags": []
   },
   "source": [
    "# Writing style transfer\n",
    "\n",
    "Rewrite a story in the style of another author."
   ]
  },
  {
   "cell_type": "code",
   "execution_count": 6,
   "id": "2301ef63-81ae-421d-bb2c-5d9a51353fb4",
   "metadata": {},
   "outputs": [],
   "source": [
    "prompt = f\"\"\"\n",
    "Rewrite the following text in the style of [AUTHOR_NAME].\n",
    "\"\"\""
   ]
  },
  {
   "cell_type": "markdown",
   "id": "0e95ca23-147c-42be-903e-75ff8c2a0bef",
   "metadata": {
    "jp-MarkdownHeadingCollapsed": true,
    "tags": []
   },
   "source": [
    "### Sample responses"
   ]
  },
  {
   "cell_type": "markdown",
   "id": "71c0802a-35e0-45e0-9d5b-901df432d030",
   "metadata": {},
   "source": [
    "Terry Pratchet:\n",
    "\n",
    "```\n",
    "In the whimsical realm of Discworld, there resided an unassuming senior citizen named Herbert. Known far and wide for his amicable disposition towards all manner of creatures, both human and otherwise, old Herb harboured a most peculiar desire: to dwell within one of those fabled abodes known as \"Homes for Life\". These were no ordinary dwellings, you see, but rather residences that struck a perfect balance between sociable companionship and solitary sanctuary. They were not nursing homes, mind you, filled with the incessant chatter of bingo and the pungent aroma of stewed tea. No, dear reader, Herb longed for the simple pleasures of his daily woodland strolls.\n",
    "\n",
    "Now, as a man of advanced age, Herb cherished the company of others - the shared laughter, the wisdom exchanged, the camaraderie that comes with a shared existence. Yet, he also craved moments of solitude, to ponder life's mysteries and marvel at nature's splendour in quiet reflection. And so, the Homes for Life seemed like the perfect solution: a harmonious blend of companionship and autonomy.\n",
    "\n",
    "But alas! Old Herb was not without his fears. For, as fate would have it, he had recently been diagnosed with a most unwelcome guest - dementia. This uninvited visitor cast a shadow over Herb's once steadfast memory and left him feeling rather lost in the labyrinth of his own mind. Thus, when Herbert moved into his new abode, the Home for Life itself extended an unexpected greeting: a pair of smart shoes.\n",
    "\n",
    "These were no ordinary footwear, oh no! These smart shoes came equipped with laces imbued with magical wisdom, able to guide Herb along the safest woodland paths. They could also notify his housemates if he ever strayed too far from the familiar. And so, old Herb set out on his daily adventures, confident that these enchanted shoes would keep him safe and independent, even as the shadows of dementia began to encroach upon the edges of his memory.\n",
    "\n",
    "Thus, with a twinkle in his eye and a song in his heart, our dear friend Herb continued to embrace life, one woodland stroll at a time, all the while knowing that his Homes for Life would always be there, providing him with companionship and independence in equal measure.\n",
    "\n",
    "```"
   ]
  },
  {
   "cell_type": "markdown",
   "id": "44d3d363-7b7c-4def-92b5-f819dd20740f",
   "metadata": {},
   "source": [
    "Agatha Christie:\n",
    "\n",
    "```\n",
    " In the quaint English village of Wisteria Close, resided a dear elderly gentleman by the name of Herbert. A man of great charm and affability, he was well-liked by all in the community. Yet, as age began to creep up on him, his once vibrant spirit longed for a new abode that could cater to his evolving needs. Enter \"Homes for Life\", an innovative concept neither an apartment nor a care home, but rather a haven designed specifically for senior citizens who retained their zest for life and independence.\n",
    "\n",
    "Herbert, however, harboured a deep aversion to the monotonous routine of bingo games and the constant companionship of his contemporaries. Instead, he cherished the simple pleasure of embarking on a daily walk in the verdant woods that surrounded his prospective residence. Alone yet not lonely, he relished the solitude while also enjoying the camaraderie of fellow residents. But alas, with the recent diagnosis of early-onset dementia, he grew increasingly apprehensive about venturing into the woods alone, for fear of becoming disoriented and lost.\n",
    "\n",
    "Upon moving into Homes for Life, he received a most intriguing gift - a pair of smart shoes. These shoes, emblazoned with the latest technology, promised to keep him safe and agile during his woodland walks. The smart laces would guide him through the safest pathways, while a discreet communication system within the soles ensured that his housemates were always informed of his location. A sense of relief washed over Herbert as he slipped into the shoes, feeling not only the familiar crunch of leaves beneath his feet but also the comforting embrace of modern-day security.\n",
    "\n",
    "As the sun began to set on this picturesque village, one could only imagine the tranquillity that enveloped dear old Herbert and his fellow residents. The woods whispered tales of adventure and discovery, while their quaint little homes bustled with life, offering a perfect blend of companionship and solitude - the epitome of Agatha Christie's England.\n",
    "```"
   ]
  },
  {
   "cell_type": "markdown",
   "id": "8b00dc54-e275-4be4-802f-d937ef8347a3",
   "metadata": {
    "tags": []
   },
   "source": [
    "## Test"
   ]
  },
  {
   "cell_type": "markdown",
   "id": "d50f7a87-58da-4ea2-9ede-bb750dcacd26",
   "metadata": {
    "tags": []
   },
   "source": [
    "### API + Helper Functions"
   ]
  },
  {
   "cell_type": "code",
   "execution_count": 11,
   "id": "fa2dc66e-e8f3-48c3-bdf6-b77cba3caaed",
   "metadata": {},
   "outputs": [],
   "source": [
    "# Ollama\n",
    "import ollama\n",
    "\n",
    "# Helper function\n",
    "def get_completion(prompt, model=\"mistral\"):\n",
    "    messages = [{\"role\": \"user\", \"content\": prompt}]\n",
    "    response = ollama.chat(\n",
    "        model=model,\n",
    "        messages=messages\n",
    "    )\n",
    "    return response['message']['content']"
   ]
  },
  {
   "cell_type": "code",
   "execution_count": 12,
   "id": "5584d2eb-a1bb-4ef8-92b6-57d824984a34",
   "metadata": {},
   "outputs": [],
   "source": [
    "# GPT\n",
    "import openai\n",
    "import os\n",
    "\n",
    "from dotenv import load_dotenv, find_dotenv\n",
    "_ = load_dotenv(find_dotenv())\n",
    "\n",
    "# OpenAI Key\n",
    "openai.api_key  = os.getenv('OPENAI_API_KEY')\n",
    "\n",
    "# OpenAI client\n",
    "client = openai.OpenAI()\n",
    "\n",
    "# Helper function\n",
    "def get_completion_gpt(prompt, temperature=0, model=\"gpt-3.5-turbo\"):\n",
    "    messages = [{\"role\": \"user\", \"content\": prompt}]\n",
    "    response = client.chat.completions.create(\n",
    "        model=model,\n",
    "        messages=messages,\n",
    "        temperature=temperature\n",
    "    )\n",
    "    return response.choices[0].message.content"
   ]
  },
  {
   "cell_type": "markdown",
   "id": "e75ebb10-d06a-4df2-aeda-74608514be01",
   "metadata": {
    "tags": []
   },
   "source": [
    "### Example"
   ]
  },
  {
   "cell_type": "code",
   "execution_count": 13,
   "id": "c492124f-77a0-4127-b808-1118ce2a04b5",
   "metadata": {},
   "outputs": [],
   "source": [
    "text = f\"\"\"\n",
    "Herbert is a senior citizen who is friendly and open to his \\\n",
    "fellow human beings. He really wanted to move into one of \\\n",
    "these smart houses. They are called \"Homes for Life\". \\\n",
    "The house is not a single apartment, but it's not a care \\\n",
    "home either, so there's no hanging around with just old people. \\\n",
    "There's no bingo. Oh God he hates bingo! But what he does love \\\n",
    "is every morning going for a walk in the woods. He likes to be \\\n",
    "in company, but also enjoys time on his own. Then he feels \\\n",
    "autonomous and independent. Although sometimes he is afraid of \\\n",
    "getting lost. Especially after being diagnosed with dementia. \\\n",
    "The home itself diagnosed him shortly after he moved in. He was \\\n",
    "then given smart shoes for his walks to help him stay fit. \\\n",
    "The smart shoes can also show him the safest route with the \\\n",
    "smart laces or notify his housemates if he gets lost. \n",
    "\"\"\""
   ]
  },
  {
   "cell_type": "code",
   "execution_count": 14,
   "id": "01f8a65b-941d-405a-b6de-18486774fe76",
   "metadata": {},
   "outputs": [
    {
     "name": "stdout",
     "output_type": "stream",
     "text": [
      " Once upon a time, in the land of Ever-So-Slightly-Confused, lived a chap named Herbert. A senior citizen, yes, but far from the stereotype. He was friendly as a freshly baked scone and open to his fellow human beings like an oyster to a sharp knife. Now, this old lad had a hankering for something modern and marvellous. Something called \"Homes for Life.\" No, not a care home with its constant cacophony of bingo games and tea parties. Nor was it a single apartment, filled with the silent solitude of empty rooms. No, sirree! It was a place where seniors could be among their own kind, but still have their alone time. Alone, yet not alone, if you get my drift.\n",
      "\n",
      "Herbert had a morning ritual. Every day, he'd don his most comfortable trousers and set off on a brisk walk through the Enchanted Woodland. The trees whispered secrets to him, and the flowers giggled as he passed by. He loved being in the company of nature, but also cherished those moments of quiet contemplation when he felt truly... autonomous. Alas, his mind was not as obedient as his heart. You see, Herbert had been visited by that rather unwelcome guest - dementia. And she had a knack for playing tricks on his memory, making him fear the unknown paths of his beloved woodland.\n",
      "\n",
      "Now, this new house of Herbert's, this Home for Life, it was no ordinary dwelling. Upon moving in, it had diagnosed old Herb with its advanced sensors and AI system. It was a bit disconcerting at first, but he soon came to appreciate the perks. For one, they fitted him with a pair of Smart Shoes, each lace embedded with magical powers. These shoes could show him the safest route through the woods, or alert his housemates if ever he strayed too far off the beaten path. A marvel, indeed! And what a relief it was for Herbert to feel safe in the knowledge that he wouldn't get lost, at least not while wearing those enchanted footwear.\n",
      "\n",
      "And so, our dear friend Herbert continued his daily adventures in the Enchanted Woodland, with the help of his Smart Shoes and the loving care of his new friends at the Home for Life. Together they all lived happily ever after, proving that even in the twilight years, life could still be filled with wonder and adventure.\n"
     ]
    }
   ],
   "source": [
    "# Style of Terry Pratchett\n",
    "prompt = f\"\"\"\n",
    "Rewrite the following text in the style of Terry Pratchett.\n",
    "\n",
    "Text: ```{text}```\n",
    "\"\"\"\n",
    "response = get_completion(prompt)\n",
    "print(response)"
   ]
  },
  {
   "cell_type": "code",
   "execution_count": 15,
   "id": "0290dcdf-f7bc-4f62-b1e5-5bdb8f599e92",
   "metadata": {},
   "outputs": [
    {
     "name": "stdout",
     "output_type": "stream",
     "text": [
      "Herbert, a genial senior citizen with a penchant for human interaction, harbored a strong desire to reside in one of the esteemed \"Homes for Life\". These residences, unlike traditional care homes, offered a sense of community without the dreary atmosphere of bingo nights that he abhorred. Instead, Herbert found solace in his daily walks through the woods, relishing both the company of others and the tranquility of solitude.\n",
      "\n",
      "However, the shadow of dementia loomed over Herbert, casting a veil of uncertainty over his cherished walks. The home, with its keen eye for detail, swiftly diagnosed his condition and equipped him with smart shoes to aid in his daily excursions. These shoes, with their innovative technology, not only ensured his physical well-being but also provided a sense of security by guiding him along the safest paths or alerting his housemates in case he wandered off course.\n",
      "\n",
      "As Herbert navigated the delicate balance between autonomy and dependence, the smart shoes became his trusted companions in the ever-changing landscape of his mind. And so, with each step taken in the woods, Herbert found a semblance of freedom amidst the encroaching shadows of his diagnosis.\n"
     ]
    }
   ],
   "source": [
    "# Style of Agatha Christie\n",
    "prompt = f\"\"\"\n",
    "Rewrite the following text in the style of Agatha Christie.\n",
    "\n",
    "Text: ```{text}```\n",
    "\"\"\"\n",
    "response = get_completion_gpt(prompt)\n",
    "print(response)"
   ]
  }
 ],
 "metadata": {
  "kernelspec": {
   "display_name": "Python 3 (ipykernel)",
   "language": "python",
   "name": "python3"
  },
  "language_info": {
   "codemirror_mode": {
    "name": "ipython",
    "version": 3
   },
   "file_extension": ".py",
   "mimetype": "text/x-python",
   "name": "python",
   "nbconvert_exporter": "python",
   "pygments_lexer": "ipython3",
   "version": "3.8.9"
  }
 },
 "nbformat": 4,
 "nbformat_minor": 5
}
