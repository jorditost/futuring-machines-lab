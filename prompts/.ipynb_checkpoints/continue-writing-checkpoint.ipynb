{
 "cells": [
  {
   "cell_type": "markdown",
   "id": "a72e2e77-f09c-4582-bddc-b5d208a1d55c",
   "metadata": {},
   "source": [
    "# Continue Writing"
   ]
  },
  {
   "cell_type": "code",
   "execution_count": 91,
   "id": "eb44dae7-6aa9-4302-b93c-cefd1c590dc1",
   "metadata": {},
   "outputs": [],
   "source": [
    "prompt = f\"\"\"\n",
    "Continue the following story, which is delimited with triple backticks. \n",
    "Follow up the event prompted in the last sentence or paragraph or \\\n",
    "just go for a complete different and unexpected direction. \n",
    "\n",
    "Continue the story in a narrative way, keeping the style of the story. \n",
    "\n",
    "Keep your answer as short as possible and use one short sentence.\n",
    "\n",
    "Story: ```{story}```\n",
    "\"\"\""
   ]
  },
  {
   "cell_type": "markdown",
   "id": "e292f42e-b254-4c90-ab1b-ca68af29f443",
   "metadata": {},
   "source": [
    "### Sample response\n",
    "\n",
    "```\n",
    "One sunny morning, Herbert finally moved into his new Home for Life. Surrounded by modern technology and friendly neighbors, he felt truly content. But as he settled in, a strange sense of unease began to gnaw at him: what if the advanced systems of the house started to malfunction? How would he cope in an emergency?\n",
    "```"
   ]
  },
  {
   "cell_type": "markdown",
   "id": "38a2f03e-c313-40b7-95ba-3d0dbd79a525",
   "metadata": {},
   "source": [
    "## Test"
   ]
  },
  {
   "cell_type": "code",
   "execution_count": 3,
   "id": "fbc3c56c-1747-47f5-a0da-7734fbe71270",
   "metadata": {},
   "outputs": [],
   "source": [
    "# Ollama\n",
    "import ollama\n",
    "from ollama import Client\n",
    "\n",
    "# Load ollama API URL\n",
    "import os\n",
    "from dotenv import load_dotenv, find_dotenv\n",
    "_ = load_dotenv(find_dotenv())\n",
    "\n",
    "api_url  = os.getenv('API_URL')\n",
    "\n",
    "# Helper function\n",
    "def get_completion(prompt, system=\"\", model=\"mixtral\"):\n",
    "    client = Client(host=api_url)\n",
    "    response = client.generate(\n",
    "        model=model,\n",
    "        system=system,\n",
    "        prompt=prompt\n",
    "    )\n",
    "    return print(response['response'])\n",
    "\n",
    "#def get_completion(prompt, model=\"mistral\"):\n",
    "#    client = Client(host='http://localhost:11434')\n",
    "#    messages = [{\"role\": \"user\", \"content\": prompt}]\n",
    "#    response = client.chat(\n",
    "#        model=model, \n",
    "#        messages=messages\n",
    "#    )\n",
    "#    return response['message']['content']"
   ]
  },
  {
   "cell_type": "markdown",
   "id": "33bc9740-aaf7-485d-9518-9b4d06392f35",
   "metadata": {},
   "source": [
    "### Story"
   ]
  },
  {
   "cell_type": "code",
   "execution_count": 1,
   "id": "4e095b87-1f76-46b3-bc7a-fb9f368a5fe3",
   "metadata": {},
   "outputs": [],
   "source": [
    "story = f\"\"\"\n",
    "Herbert is a senior citizen who is friendly and open to his \\\n",
    "fellow human beings. He really wanted to move into one of \\\n",
    "these smart houses. They are called \"Homes for Life\". \\\n",
    "The house is not a single apartment, but it's not a care \\\n",
    "home either, so there's no hanging around with just old people.\n",
    "\"\"\""
   ]
  },
  {
   "cell_type": "markdown",
   "id": "98b88741-a97a-4ef3-a585-cdd7ace4f733",
   "metadata": {},
   "source": [
    "### Continue following up event"
   ]
  },
  {
   "cell_type": "code",
   "execution_count": 29,
   "id": "af603211-34f4-4871-84c8-fd6919f78ec4",
   "metadata": {},
   "outputs": [
    {
     "name": "stdout",
     "output_type": "stream",
     "text": [
      " Herbert finally moved into a Homes for Life community, surrounded by people of all ages and abilities.\n"
     ]
    }
   ],
   "source": [
    "prompt = f\"\"\"\n",
    "Continue the following story, which is delimited with triple backticks.\n",
    "Follow up the event prompted in the last sentence or paragraph.\n",
    "\n",
    "Continue the story in one sentence. Keep it as short as possible.\n",
    "\n",
    "Story: ```{story}```\n",
    "\"\"\"\n",
    "\n",
    "response = get_completion(prompt)\n",
    "print(response)"
   ]
  },
  {
   "cell_type": "markdown",
   "id": "3298fa8e-1e60-4f0c-830d-d978c927133e",
   "metadata": {},
   "source": [
    "### Continue without specifying what to follow up\n",
    "\n",
    "This seems to give more more interesting results."
   ]
  },
  {
   "cell_type": "code",
   "execution_count": 33,
   "id": "e92fbf40-c3f8-4390-b24c-04a0cdf5abc5",
   "metadata": {},
   "outputs": [
    {
     "name": "stdout",
     "output_type": "stream",
     "text": [
      " Herbert finally moved into a \"Home for Life,\" a senior-friendly smart house filled with diverse residents.\n"
     ]
    }
   ],
   "source": [
    "prompt = f\"\"\"\n",
    "Continue the following story, which is delimited with triple backticks.\n",
    "\n",
    "Continue the story in one sentence. Keep it as short as possible.\n",
    "\n",
    "Story: ```{story}```\n",
    "\"\"\"\n",
    "\n",
    "response = get_completion(prompt)\n",
    "print(response)"
   ]
  },
  {
   "cell_type": "markdown",
   "id": "ba372510-95e9-4639-a82f-9d54055a519e",
   "metadata": {},
   "source": [
    "### Continue and ask\n",
    "\n",
    "One question is added to the end as a means to engage reflection."
   ]
  },
  {
   "cell_type": "code",
   "execution_count": 79,
   "id": "f0645240-16e0-4fe4-8fb3-a090b39be5ad",
   "metadata": {},
   "outputs": [
    {
     "name": "stdout",
     "output_type": "stream",
     "text": [
      " As Herbert settled into his new Home for Life, he wondered if the arrival of a young family next door would bring new friendships or challenges to his peaceful retirement.\n"
     ]
    }
   ],
   "source": [
    "prompt = f\"\"\"\n",
    "Continue the following story, which is delimited with triple backticks.\n",
    "\n",
    "Continue the story in one sentence.\n",
    "Then ask a question about a possible continuation of the story, but encapsulate this question as part of the story in a narrative way.\n",
    "Keep your answer as short as possible.\n",
    "\n",
    "Story: ```{story}```\n",
    "\"\"\"\n",
    "\n",
    "response = get_completion(prompt)\n",
    "print(response)"
   ]
  },
  {
   "cell_type": "markdown",
   "id": "f0933212-a857-4bf4-83a2-1c664557f53e",
   "metadata": {},
   "source": [
    "### Continue and ask + Follow up events\n",
    "\n",
    "Seems also to work well. This gives more depth and context to the event from the last sentence (community living). The other option without referenting that event has more potential for unexpected events."
   ]
  },
  {
   "cell_type": "code",
   "execution_count": 90,
   "id": "3ea3bffa-dfcd-4f57-990f-af9b408579bb",
   "metadata": {},
   "outputs": [
    {
     "name": "stdout",
     "output_type": "stream",
     "text": [
      " Herbert finally moved into his new Home for Life and was thrilled to find a community of like-minded seniors. But as he settled in, he began to notice some strange occurrences within the compound. Could these be just coincidences or was there something more sinister at play?\n"
     ]
    }
   ],
   "source": [
    "prompt = f\"\"\"\n",
    "Continue the following story, which is delimited with triple backticks.\n",
    "Follow up the event prompted in the last sentence or paragraph.\n",
    "\n",
    "Continue the story in one short sentence.\n",
    "Then ask a question about a possible continuation of the story, but encapsulate this question as part of the story in a narrative way.\n",
    "Keep your answer as short as possible.\n",
    "\n",
    "Story: ```{story}```\n",
    "\"\"\"\n",
    "\n",
    "response = get_completion(prompt)\n",
    "print(response)"
   ]
  },
  {
   "cell_type": "markdown",
   "id": "767d0cd4-c751-4908-ae20-a5bd68f79b83",
   "metadata": {},
   "source": [
    "### Continue and ask + Go to another direction or add conflict to the story"
   ]
  },
  {
   "cell_type": "code",
   "execution_count": 89,
   "id": "b3edc3dc-cb4e-4b30-8249-7363b9e3ba00",
   "metadata": {},
   "outputs": [
    {
     "name": "stdout",
     "output_type": "stream",
     "text": [
      " One sunny morning, Herbert finally moved into his new Home for Life. Surrounded by modern technology and friendly neighbors, he felt truly content. But as he settled in, a strange sense of unease began to gnaw at him: what if the advanced systems of the house started to malfunction? How would he cope in an emergency?\n"
     ]
    }
   ],
   "source": [
    "prompt = f\"\"\"\n",
    "Continue the following story, which is delimited with triple backticks.\n",
    "Consider to follow up the event prompted in the last sentence or paragraph or \\\n",
    "just go for a complete different and unexpected direction that brings conflict to the story.\n",
    "\n",
    "Continue the story in one short sentence.\n",
    "Then ask a question about a possible continuation of the story, but encapsulate this question as part of the story in a narrative way.\n",
    "Keep your answer as short as possible.\n",
    "\n",
    "Story: ```{story}```\n",
    "\"\"\"\n",
    "\n",
    "response = get_completion(prompt)\n",
    "print(response)"
   ]
  },
  {
   "cell_type": "markdown",
   "id": "adaaac90-226c-43dc-bd52-d448ae3784b4",
   "metadata": {},
   "source": [
    "### Continue and ask + Go to another direction (without conflict)"
   ]
  },
  {
   "cell_type": "code",
   "execution_count": null,
   "id": "3133f9c6-3245-4e31-b537-a7251581d2f6",
   "metadata": {},
   "outputs": [],
   "source": [
    "prompt = f\"\"\"\n",
    "Continue the following story, which is delimited with triple backticks.\n",
    "Consider to follow up the event prompted in the last sentence or paragraph or \\\n",
    "just go for a complete different and unexpected direction.\n",
    "\n",
    "Continue the story in one short sentence.\n",
    "Then ask a question about a possible continuation of the story, but encapsulate this question as part of the story in a narrative way.\n",
    "Keep your answer as short as possible.\n",
    "\n",
    "Story: ```{story}```\n",
    "\"\"\"\n",
    "\n",
    "response = get_completion(prompt)\n",
    "print(response)"
   ]
  },
  {
   "cell_type": "markdown",
   "id": "e0c3c500-3f7b-4305-b5a5-0ada74fc7f36",
   "metadata": {},
   "source": [
    "### Continue without asking"
   ]
  },
  {
   "cell_type": "code",
   "execution_count": null,
   "id": "55d69b6a-5a7a-4d17-a022-8bc2ae5d9efb",
   "metadata": {},
   "outputs": [],
   "source": [
    "prompt = f\"\"\"\n",
    "Continue the following story, which is delimited with triple backticks.\n",
    "Consider to follow up the event prompted in the last sentence or paragraph or \\\n",
    "just go for a complete different and unexpected direction.\n",
    "\n",
    "Continue the story in a narrative way, keeping the style of the story. \n",
    "Keep your answer as short as possible and use one short sentence.\n",
    "\n",
    "Story: ```{story}```\n",
    "\"\"\"\n",
    "\n",
    "response = get_completion(prompt)\n",
    "print(response)"
   ]
  }
 ],
 "metadata": {
  "kernelspec": {
   "display_name": "Python 3 (ipykernel)",
   "language": "python",
   "name": "python3"
  },
  "language_info": {
   "codemirror_mode": {
    "name": "ipython",
    "version": 3
   },
   "file_extension": ".py",
   "mimetype": "text/x-python",
   "name": "python",
   "nbconvert_exporter": "python",
   "pygments_lexer": "ipython3",
   "version": "3.8.9"
  }
 },
 "nbformat": 4,
 "nbformat_minor": 5
}
