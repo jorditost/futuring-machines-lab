{
 "cells": [
  {
   "cell_type": "markdown",
   "id": "a72e2e77-f09c-4582-bddc-b5d208a1d55c",
   "metadata": {},
   "source": [
    "# Diverge – Tone\n",
    "\n",
    "Generate different story continuations for a story given different tones / perspectives: positive, critical, fearful, etc."
   ]
  },
  {
   "cell_type": "code",
   "execution_count": null,
   "id": "eb44dae7-6aa9-4302-b93c-cefd1c590dc1",
   "metadata": {},
   "outputs": [],
   "source": [
    "prompt = f\"\"\"\n",
    "Continue the following story, which is delimited with triple backticks.\n",
    "Generate three different continuations.\n",
    "Each continuation bilds on an unexpected event that brings conflict to the story.\n",
    "\n",
    "Limit the length of each continuation to up to 10 words.\n",
    "\n",
    "Format each continuation as a JSON object with 'title' and 'continuation' as the keys. \n",
    "Format your response as a JSON object with 'cont1', 'cont2' and 'cont3' as the keys.\n",
    "\n",
    "Story: ```{story}```\n",
    "\"\"\""
   ]
  },
  {
   "cell_type": "markdown",
   "id": "e292f42e-b254-4c90-ab1b-ca68af29f443",
   "metadata": {},
   "source": [
    "### Sample response"
   ]
  },
  {
   "cell_type": "markdown",
   "id": "38a2f03e-c313-40b7-95ba-3d0dbd79a525",
   "metadata": {},
   "source": [
    "## Test"
   ]
  },
  {
   "cell_type": "code",
   "execution_count": 1,
   "id": "fbc3c56c-1747-47f5-a0da-7734fbe71270",
   "metadata": {},
   "outputs": [],
   "source": [
    "# Ollama\n",
    "import ollama\n",
    "from ollama import Client\n",
    "\n",
    "def get_completion(prompt, model=\"mistral\"):\n",
    "    client = Client(host='http://webislab31.medien.uni-weimar.de:11434')\n",
    "    messages = [{\"role\": \"user\", \"content\": prompt}]\n",
    "    response = client.chat(\n",
    "        model=model, \n",
    "        messages=messages\n",
    "    )\n",
    "    return response['message']['content']"
   ]
  },
  {
   "cell_type": "markdown",
   "id": "33bc9740-aaf7-485d-9518-9b4d06392f35",
   "metadata": {},
   "source": [
    "### Story"
   ]
  },
  {
   "cell_type": "code",
   "execution_count": 2,
   "id": "4e095b87-1f76-46b3-bc7a-fb9f368a5fe3",
   "metadata": {},
   "outputs": [],
   "source": [
    "story = f\"\"\"\n",
    "Herbert is a senior citizen who is friendly and open to his \\\n",
    "fellow human beings. He really wanted to move into one of \\\n",
    "these smart houses. They are called \"Homes for Life\". \\\n",
    "The house is not a single apartment, but it's not a care \\\n",
    "home either, so there's no hanging around with just old people.\n",
    "\"\"\""
   ]
  },
  {
   "cell_type": "markdown",
   "id": "38dec0da-135e-4bdc-b7e5-0620b2080c04",
   "metadata": {},
   "source": [
    "### Generate continuations with different tones"
   ]
  },
  {
   "cell_type": "code",
   "execution_count": 6,
   "id": "ae65c370-a3e7-4b14-bebb-38d2b2d0ad91",
   "metadata": {},
   "outputs": [
    {
     "name": "stdout",
     "output_type": "stream",
     "text": [
      " {\n",
      "\"cont1\": {\n",
      "\"title\": \"Budget Shortfall\",\n",
      "\"continuation\": \"Suddenly, the Homes for Life development faced a financial crisis and could only accept senior citizens who could pay in full upfront.\"\n",
      "},\n",
      "\"cont2\": {\n",
      "\"title\": \"Unwelcome Neighbor\",\n",
      "\"continuation\": \"As Herbert settled into his new home, he discovered that his next-door neighbor was a grumpy recluse who refused to speak to him.\"\n",
      "},\n",
      "\"cont3\": {\n",
      "\"title\": \"Technological Malfunction\",\n",
      "\"continuation\": \"Despite his excitement, the first day in his new Home for Life ended in frustration as all the smart home technology malfunctioned.\"\n",
      "}\n",
      "}\n"
     ]
    }
   ],
   "source": [
    "tone = \"fearful\"\n",
    "\n",
    "prompt = f\"\"\"\n",
    "Continue the following story, which is delimited with triple backticks.\n",
    "Generate three different continuations. The tone in the development of events should be {tone}.\n",
    "\n",
    "Continuations should be written in a narrative style and use at most 10 words.\n",
    "\n",
    "Format each continuation as a JSON object with 'title' and 'continuation' as the keys. \n",
    "Format your response as a JSON object with 'cont1', 'cont2' and 'cont3' as the keys.\n",
    "\n",
    "Story: ```{story}```\n",
    "\"\"\"\n",
    "\n",
    "response = get_completion(prompt)\n",
    "print(response)"
   ]
  }
 ],
 "metadata": {
  "kernelspec": {
   "display_name": "Python 3 (ipykernel)",
   "language": "python",
   "name": "python3"
  },
  "language_info": {
   "codemirror_mode": {
    "name": "ipython",
    "version": 3
   },
   "file_extension": ".py",
   "mimetype": "text/x-python",
   "name": "python",
   "nbconvert_exporter": "python",
   "pygments_lexer": "ipython3",
   "version": "3.8.9"
  }
 },
 "nbformat": 4,
 "nbformat_minor": 5
}
