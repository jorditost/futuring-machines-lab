{
 "cells": [
  {
   "cell_type": "markdown",
   "id": "a72e2e77-f09c-4582-bddc-b5d208a1d55c",
   "metadata": {},
   "source": [
    "# Elaborate"
   ]
  },
  {
   "cell_type": "code",
   "execution_count": 1,
   "id": "eb44dae7-6aa9-4302-b93c-cefd1c590dc1",
   "metadata": {},
   "outputs": [],
   "source": [
    "prompt = f\"\"\"\n",
    "Continue the following story with up to one sentence. Use at most 20 words.\n",
    "Elaborate the aspect addressed in the following text with a ironical tone. Text: '{selection}'.\n",
    "\n",
    "Story: {story}\n",
    "\"\"\""
   ]
  },
  {
   "cell_type": "markdown",
   "id": "e292f42e-b254-4c90-ab1b-ca68af29f443",
   "metadata": {},
   "source": [
    "### Sample response\n",
    "\n",
    "```\n",
    "Ironically, the 'Home for Life' complex promised more than just an apartment, yet avoided the label of a care home - leaving poor Herbert longing for some company his own age.\n",
    "```"
   ]
  },
  {
   "cell_type": "markdown",
   "id": "38a2f03e-c313-40b7-95ba-3d0dbd79a525",
   "metadata": {},
   "source": [
    "## Test"
   ]
  },
  {
   "cell_type": "code",
   "execution_count": 27,
   "id": "fbc3c56c-1747-47f5-a0da-7734fbe71270",
   "metadata": {},
   "outputs": [],
   "source": [
    "# Ollama\n",
    "import ollama\n",
    "from ollama import Client\n",
    "\n",
    "def get_completion(prompt, model=\"mistral\"):\n",
    "    client = Client(host='http://webislab31.medien.uni-weimar.de:11434')\n",
    "    messages = [{\"role\": \"user\", \"content\": prompt}]\n",
    "    response = client.chat(\n",
    "        model=model, \n",
    "        messages=messages\n",
    "    )\n",
    "    return response['message']['content']"
   ]
  },
  {
   "cell_type": "markdown",
   "id": "33bc9740-aaf7-485d-9518-9b4d06392f35",
   "metadata": {},
   "source": [
    "### Story"
   ]
  },
  {
   "cell_type": "code",
   "execution_count": 28,
   "id": "4e095b87-1f76-46b3-bc7a-fb9f368a5fe3",
   "metadata": {},
   "outputs": [],
   "source": [
    "story = f\"\"\"\n",
    "Herbert is a senior citizen who is friendly and open to his \\\n",
    "fellow human beings. He really wanted to move into one of \\\n",
    "these smart houses. They are called \"Homes for Life\". \\\n",
    "The house is not a single apartment, but it's not a care \\\n",
    "home either, so there's no hanging around with just old people.\n",
    "\"\"\""
   ]
  },
  {
   "cell_type": "markdown",
   "id": "98b88741-a97a-4ef3-a585-cdd7ace4f733",
   "metadata": {},
   "source": [
    "### Elaborate (Initial)"
   ]
  },
  {
   "cell_type": "code",
   "execution_count": 25,
   "id": "63d66f61-3341-4709-9f60-7db867ba8953",
   "metadata": {},
   "outputs": [
    {
     "name": "stdout",
     "output_type": "stream",
     "text": [
      " Oh dear, I suppose that's right, it's just a whole entire house full of random unrelated old people, not like a care home at all. How quaint.\n"
     ]
    }
   ],
   "source": [
    "selection = \"The house is not a single apartment\"\n",
    "\n",
    "prompt = f\"\"\"\n",
    "Continue the following story with up to one sentence. \n",
    "Elaborate the aspect addressed in the following text with a ironical tone. Text: '{selection}'.\n",
    "\n",
    "Story: {story}\n",
    "\"\"\"\n",
    "\n",
    "response = get_completion(prompt)\n",
    "print(response)"
   ]
  },
  {
   "cell_type": "markdown",
   "id": "c5a97ab4-5412-48b3-8e6c-cc8f14df304c",
   "metadata": {},
   "source": [
    "#### Use at most 20 words."
   ]
  },
  {
   "cell_type": "code",
   "execution_count": 29,
   "id": "cb2ba7ee-6118-4660-9d37-0f3a136a9202",
   "metadata": {},
   "outputs": [
    {
     "name": "stdout",
     "output_type": "stream",
     "text": [
      " Ironically, the 'Home for Life' complex promised more than just an apartment, yet avoided the label of a care home - leaving poor Herbert longing for some company his own age.\n"
     ]
    }
   ],
   "source": [
    "selection = \"The house is not a single apartment\"\n",
    "\n",
    "prompt = f\"\"\"\n",
    "Continue the following story with up to one sentence. Use at most 20 words.\n",
    "Elaborate the aspect addressed in the following text with a ironical tone. Text: '{selection}'.\n",
    "\n",
    "Story: {story}\n",
    "\"\"\"\n",
    "\n",
    "response = get_completion(prompt)\n",
    "print(response)"
   ]
  },
  {
   "cell_type": "markdown",
   "id": "30ee97d8-f36a-4da7-abc4-c2ea88f645c0",
   "metadata": {},
   "source": [
    "### Elaborate (modified)"
   ]
  },
  {
   "cell_type": "code",
   "execution_count": 18,
   "id": "af603211-34f4-4871-84c8-fd6919f78ec4",
   "metadata": {},
   "outputs": [
    {
     "name": "stdout",
     "output_type": "stream",
     "text": [
      " Despite the marketing pitch, the \"Homes for Life\" complex wasn't just a senior apartment building.\n"
     ]
    }
   ],
   "source": [
    "selection = \"The house is not a single apartment\"\n",
    "\n",
    "prompt = f\"\"\"\n",
    "Continue the following story, which is delimited with triple backticks.\n",
    "Elaborate the aspect addressed in the following text with a ironical tone, still considering \\\n",
    "all important facts and events of the story. Text: {selection}\n",
    "\n",
    "Continue the story in one short sentence written in a narrative way. Use at most 10 words.\n",
    "Use plain and simple style.\n",
    "Avoid purple prose AT ALL COSTS.\n",
    "\n",
    "Story: ```{story}```\n",
    "\"\"\"\n",
    "\n",
    "response = get_completion(prompt)\n",
    "print(response)"
   ]
  }
 ],
 "metadata": {
  "kernelspec": {
   "display_name": "Python 3 (ipykernel)",
   "language": "python",
   "name": "python3"
  },
  "language_info": {
   "codemirror_mode": {
    "name": "ipython",
    "version": 3
   },
   "file_extension": ".py",
   "mimetype": "text/x-python",
   "name": "python",
   "nbconvert_exporter": "python",
   "pygments_lexer": "ipython3",
   "version": "3.8.9"
  }
 },
 "nbformat": 4,
 "nbformat_minor": 5
}
