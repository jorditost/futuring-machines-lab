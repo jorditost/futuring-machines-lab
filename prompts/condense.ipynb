{
 "cells": [
  {
   "cell_type": "markdown",
   "id": "a72e2e77-f09c-4582-bddc-b5d208a1d55c",
   "metadata": {},
   "source": [
    "# Condense"
   ]
  },
  {
   "cell_type": "code",
   "execution_count": null,
   "id": "eb44dae7-6aa9-4302-b93c-cefd1c590dc1",
   "metadata": {},
   "outputs": [],
   "source": [
    "prompt = f\"\"\"\n",
    "Your task is to shorten a fiction story.\n",
    "\n",
    "Shorten the story below, delimited by triple \n",
    "backticks. Keep the writing style of the story, as well as the mood \\\n",
    "and tone used by the author. Condense the story while retaining \\\n",
    "all important events and characters. Limit to 30 words.\n",
    "\n",
    "Story: ```{story}```\n",
    "\"\"\""
   ]
  },
  {
   "cell_type": "markdown",
   "id": "e292f42e-b254-4c90-ab1b-ca68af29f443",
   "metadata": {},
   "source": [
    "### Sample response\n",
    "\n",
    "```\n",
    "\n",
    "```"
   ]
  },
  {
   "cell_type": "markdown",
   "id": "38a2f03e-c313-40b7-95ba-3d0dbd79a525",
   "metadata": {},
   "source": [
    "## Test"
   ]
  },
  {
   "cell_type": "code",
   "execution_count": 9,
   "id": "fbc3c56c-1747-47f5-a0da-7734fbe71270",
   "metadata": {},
   "outputs": [],
   "source": [
    "# Ollama\n",
    "import ollama\n",
    "from ollama import Client\n",
    "\n",
    "def get_completion(prompt, model=\"mistral\"):\n",
    "    client = Client(host='http://localhost:11434')\n",
    "    messages = [{\"role\": \"user\", \"content\": prompt}]\n",
    "    response = client.chat(\n",
    "        model=model, \n",
    "        messages=messages\n",
    "    )\n",
    "    return response['message']['content']"
   ]
  },
  {
   "cell_type": "markdown",
   "id": "33bc9740-aaf7-485d-9518-9b4d06392f35",
   "metadata": {},
   "source": [
    "### Story"
   ]
  },
  {
   "cell_type": "code",
   "execution_count": 4,
   "id": "4e095b87-1f76-46b3-bc7a-fb9f368a5fe3",
   "metadata": {},
   "outputs": [],
   "source": [
    "story = f\"\"\"\n",
    "Herbert is a senior citizen who is friendly and open to his \\\n",
    "fellow human beings. He really wanted to move into one of \\\n",
    "these smart houses. They are called \"Homes for Life\". \\\n",
    "The house is not a single apartment, but it's not a care \\\n",
    "home either, so there's no hanging around with just old people.\n",
    "\"\"\""
   ]
  },
  {
   "cell_type": "markdown",
   "id": "38dec0da-135e-4bdc-b7e5-0620b2080c04",
   "metadata": {},
   "source": [
    "### Condense"
   ]
  },
  {
   "cell_type": "markdown",
   "id": "c07f4f38-a1b6-48a4-ad5e-1a302f4ed818",
   "metadata": {},
   "source": [
    "#### Give more details"
   ]
  },
  {
   "cell_type": "code",
   "execution_count": 7,
   "id": "b46d54e3-13a3-4b75-a631-6b422fd08f1e",
   "metadata": {},
   "outputs": [
    {
     "name": "stdout",
     "output_type": "stream",
     "text": [
      " Senior Herbert desires a \"Home for Life,\" a smart housing community for seniors. Not an apartment or care home.\n"
     ]
    }
   ],
   "source": [
    "prompt = f\"\"\"\n",
    "\n",
    "Shorten the following text of a fiction story, delimited by triple backticks, in at most 10 words. \n",
    "\n",
    "Text: ```{story}```\n",
    "\"\"\"\n",
    "\n",
    "response = get_completion(prompt)\n",
    "print(response)"
   ]
  },
  {
   "cell_type": "code",
   "execution_count": 8,
   "id": "03aa1d11-ae53-45be-bd16-a9b742f98ec0",
   "metadata": {},
   "outputs": [
    {
     "name": "stdout",
     "output_type": "stream",
     "text": [
      " Senior citizen Herbert desires a \"Home for Life\" - not an apartment nor a care home. (10 words)\n"
     ]
    }
   ],
   "source": [
    "prompt = f\"\"\"\n",
    "Shorten the following text, delimited by triple backticks. \n",
    "The text is part of a fiction story.\n",
    "Keep the writing style of the text, as well as the mood, tone and viewpoint used by the author. \n",
    "Retain all important events and characters. Limit to 10 words.\n",
    "\n",
    "Text: ```{story}```\n",
    "\"\"\"\n",
    "\n",
    "response = get_completion(prompt)\n",
    "print(response)"
   ]
  }
 ],
 "metadata": {
  "kernelspec": {
   "display_name": "Python 3 (ipykernel)",
   "language": "python",
   "name": "python3"
  },
  "language_info": {
   "codemirror_mode": {
    "name": "ipython",
    "version": 3
   },
   "file_extension": ".py",
   "mimetype": "text/x-python",
   "name": "python",
   "nbconvert_exporter": "python",
   "pygments_lexer": "ipython3",
   "version": "3.8.9"
  }
 },
 "nbformat": 4,
 "nbformat_minor": 5
}
