{
 "cells": [
  {
   "cell_type": "markdown",
   "id": "a72e2e77-f09c-4582-bddc-b5d208a1d55c",
   "metadata": {},
   "source": [
    "# Question\n",
    "\n",
    "Generate critical questions from a fiction story, considering implications and consequences. \n",
    "Generat these questions from the perspective of the main character for having a more personal perspective (this can forster empathy and relatedness) and with this, make critical thinking more accessible."
   ]
  },
  {
   "cell_type": "code",
   "execution_count": 7,
   "id": "eb44dae7-6aa9-4302-b93c-cefd1c590dc1",
   "metadata": {},
   "outputs": [],
   "source": [
    "prompt = f\"\"\"\n",
    "Generate three critical questions from the following story, which is delimited with triple backticks.\n",
    "\n",
    "Structure your questions to foster critical reflection on direct and indirect negative future consequences \\\n",
    "of particular trends, events or developments addressed in the story.\n",
    "Each question should use at most 7 words, and be written in a plain and simple style.\n",
    "\n",
    "For each question generate a continuation for the story from the viewpoint of the main character, \\\n",
    "written as an inner monologue. The inner monologue should be written in with a critical tone \\\n",
    "and use at most 10 words. \n",
    "The continuation should have the following format: '<inner monologue>, thought <name of the main character>'.\n",
    "Give the inner monologue within single quotes.\n",
    "\n",
    "Avoid purple prose AT ALL COSTS.\n",
    "Avoid paraphrasing parts of the story.\n",
    "\n",
    "Format each question as a JSON object with 'question' and 'continuation' as the keys. \n",
    "Format your response as a JSON object with 'Q1', 'Q2' and 'Q3' as the keys.\n",
    "\n",
    "Story: ```{story}```\n",
    "\"\"\""
   ]
  },
  {
   "cell_type": "markdown",
   "id": "e292f42e-b254-4c90-ab1b-ca68af29f443",
   "metadata": {},
   "source": [
    "### Sample response\n",
    "\n",
    "```\n",
    " {\n",
    "\"Q1\": {\n",
    "\"question\": \"What if I lose my independence in this 'Home for Life'?\",\n",
    "\"continuation\": \"'I don't want to be a burden on anyone.', thought Herbert\"\n",
    "},\n",
    "\"Q2\": {\n",
    "\"question\": \"Are there hidden costs for these 'Homes for Life'?\",\n",
    "\"continuation\": \"'I hope I won't regret my decision later.', thought Herbert\"\n",
    "},\n",
    "\"Q3\": {\n",
    "\"question\": \"What about privacy in these 'Homes for Life'?\",\n",
    "\"continuation\": \"'I don't want to feel like I'm living in a fishbowl.', thought Herbert\"\n",
    "}\n",
    "}\n",
    "```"
   ]
  },
  {
   "cell_type": "markdown",
   "id": "38a2f03e-c313-40b7-95ba-3d0dbd79a525",
   "metadata": {},
   "source": [
    "## Test"
   ]
  },
  {
   "cell_type": "code",
   "execution_count": 37,
   "id": "fbc3c56c-1747-47f5-a0da-7734fbe71270",
   "metadata": {},
   "outputs": [],
   "source": [
    "# Ollama\n",
    "import ollama\n",
    "from ollama import Client\n",
    "\n",
    "def get_completion(prompt, model=\"mistral\"):\n",
    "    client = Client(host='http://localhost:11434')\n",
    "    messages = [{\"role\": \"user\", \"content\": prompt}]\n",
    "    response = client.chat(\n",
    "        model=model, \n",
    "        messages=messages\n",
    "    )\n",
    "    return response['message']['content']"
   ]
  },
  {
   "cell_type": "markdown",
   "id": "33bc9740-aaf7-485d-9518-9b4d06392f35",
   "metadata": {},
   "source": [
    "### Story"
   ]
  },
  {
   "cell_type": "code",
   "execution_count": 2,
   "id": "4e095b87-1f76-46b3-bc7a-fb9f368a5fe3",
   "metadata": {},
   "outputs": [],
   "source": [
    "story = f\"\"\"\n",
    "Herbert is a senior citizen who is friendly and open to his \\\n",
    "fellow human beings. He really wanted to move into one of \\\n",
    "these smart houses. They are called \"Homes for Life\". \\\n",
    "The house is not a single apartment, but it's not a care \\\n",
    "home either, so there's no hanging around with just old people.\n",
    "\"\"\""
   ]
  },
  {
   "cell_type": "markdown",
   "id": "38dec0da-135e-4bdc-b7e5-0620b2080c04",
   "metadata": {},
   "source": [
    "### Creative questions\n",
    "\n",
    "This prompt generates more creative questions to further develop the story, but are not critically questioning anything from the story. It could be though interesting to use this for the \"Continue\" or \"Diverge\" modes."
   ]
  },
  {
   "cell_type": "code",
   "execution_count": 5,
   "id": "ae65c370-a3e7-4b14-bebb-38d2b2d0ad91",
   "metadata": {},
   "outputs": [
    {
     "name": "stdout",
     "output_type": "stream",
     "text": [
      " {\n",
      "\"Q1\": \"What new technologies could be introduced in 'Homes for Life' to enhance Herbert's social interactions?\",\n",
      "\"Q2\": \"How might the addition of community gardens or shared workspaces impact the dynamics within 'Homes for Life'?\",\n",
      "\"Q3\": \"Could intergenerational living arrangements be explored in 'Homes for Life', and how would that affect both elderly and younger residents?\"\n",
      "}\n"
     ]
    }
   ],
   "source": [
    "prompt = f\"\"\"\n",
    "Generate three thoughtful and creative questions from the following story, \\\n",
    "which is delimited with triple backticks.\n",
    "Structure your questions as creative speculations for where the story could go.\n",
    "\n",
    "Questions should be written in a clear style and use at most 10 words.\n",
    "\n",
    "Format each question as a JSON object with 'question' as the key. \n",
    "Format your response as a JSON object with 'Q1', 'Q2' and 'Q3' as the keys.\n",
    "\n",
    "Story: ```{story}```\n",
    "\"\"\"\n",
    "\n",
    "response = get_completion(prompt)\n",
    "print(response)"
   ]
  },
  {
   "cell_type": "markdown",
   "id": "14d763ce-6011-49ea-9013-01e4a31d42f8",
   "metadata": {},
   "source": [
    "### Critical questions\n",
    "\n",
    "This prompt generates more critical questions."
   ]
  },
  {
   "cell_type": "code",
   "execution_count": 18,
   "id": "30f274eb-0ff5-4408-9a12-d377278ad7fd",
   "metadata": {},
   "outputs": [
    {
     "name": "stdout",
     "output_type": "stream",
     "text": [
      " {\n",
      "\"Q1\": {\"question\": \"What potential negative social consequences could come from living only with seniors in 'Homes for Life'?\", \"continuation\": \"\"},\n",
      "\"Q2\": {\"question\": \"How might isolation from a diverse age group impact Herbert's mental well-being?\", \"continuation\": \"\"},\n",
      "\"Q3\": {\"question\": \"What long-term implications could there be for community connections if more seniors move into 'Homes for Life'?\", \"continuation\": \"\"}\n",
      "}\n"
     ]
    }
   ],
   "source": [
    "prompt = f\"\"\"\n",
    "Generate three critical questions from the following story, which is delimited with triple backticks.\n",
    "\n",
    "Structure your questions to foster critical reflection on direct and indirect negative future consequences \\\n",
    "of particular trends, events or developments addressed in the story.\n",
    "\n",
    "Write in a plain and simple style. \n",
    "Each question should use at most 7 words.\n",
    "Avoid purple prose AT ALL COSTS.\n",
    "Avoid paraphrasing parts of the story.\n",
    "\n",
    "Format each question as a JSON object with 'question' and 'continuation' as the keys. \n",
    "Format your response as a JSON object with 'Q1', 'Q2' and 'Q3' as the keys.\n",
    "\n",
    "Story: ```{story}```\n",
    "\"\"\"\n",
    "\n",
    "response = get_completion(prompt)\n",
    "print(response)"
   ]
  },
  {
   "cell_type": "markdown",
   "id": "0eaf7bd7-91c3-474e-917c-f1d9ff7f48fa",
   "metadata": {},
   "source": [
    "### Critical questions — Character's perspective\n",
    "Rephrasing the question from the perspective of the main character makes the consequences more clear with daily situations."
   ]
  },
  {
   "cell_type": "code",
   "execution_count": 36,
   "id": "ac0fad90-5193-4646-ad47-01cfc2bd75eb",
   "metadata": {},
   "outputs": [
    {
     "name": "stdout",
     "output_type": "stream",
     "text": [
      " {\n",
      "\"Q1\": {\n",
      "\"question\": \"What if I lose my independence in this 'Home for Life'?\",\n",
      "\"continuation\": \"'I don't want to be a burden on anyone.', thought Herbert\"\n",
      "},\n",
      "\"Q2\": {\n",
      "\"question\": \"Are there hidden costs to these 'Homes for Life'?\",\n",
      "\"continuation\": \"'I hope I can afford the maintenance fees.', thought Herbert\"\n",
      "},\n",
      "\"Q3\": {\n",
      "\"question\": \"Will I lose my connection to my community?\",\n",
      "\"continuation\": \"'I don't want to be isolated from my neighbors.', thought Herbert\"\n",
      "}\n",
      "}\n"
     ]
    }
   ],
   "source": [
    "prompt = f\"\"\"\n",
    "Generate three critical questions from the following story, which is delimited with triple backticks.\n",
    "\n",
    "Structure your questions to foster critical reflection on direct and indirect negative future consequences \\\n",
    "of particular trends, events or developments addressed in the story.\n",
    "Each question should use at most 7 words, and be written in a plain and simple style.\n",
    "\n",
    "For each question generate a continuation for the story from the viewpoint of the main character, \\\n",
    "written as an inner monologue. The inner monologue should be written in with a critical tone \\\n",
    "and use at most 10 words. \n",
    "The continuation should have the following format: '<inner monologue>, thought <name of the main character>'.\n",
    "Give the inner monologue within single quotes.\n",
    "\n",
    "Avoid purple prose AT ALL COSTS.\n",
    "Avoid paraphrasing parts of the story.\n",
    "\n",
    "Format each question as a JSON object with 'question' and 'continuation' as the keys. \n",
    "Format your response as a JSON object with 'Q1', 'Q2' and 'Q3' as the keys.\n",
    "\n",
    "Story: ```{story}```\n",
    "\"\"\"\n",
    "\n",
    "response = get_completion(prompt)\n",
    "print(response)"
   ]
  },
  {
   "cell_type": "markdown",
   "id": "b2a6aff5-8434-4754-8263-136e928ef226",
   "metadata": {},
   "source": [
    "### Critical questions — Character's perspective + Format response"
   ]
  },
  {
   "cell_type": "code",
   "execution_count": 34,
   "id": "8d057b33-21ed-4c27-b77f-32195cf846b2",
   "metadata": {},
   "outputs": [
    {
     "name": "stdout",
     "output_type": "stream",
     "text": [
      " {\n",
      "\"Q1\": {\"question\": \"What if 'Homes for Life' isolate older adults?\", \"continuation\": \"'I hope this isn't another way to segregate us,' thought Herbert.\"},\n",
      "\"Q2\": {\"question\": \"Could 'Homes for Life' limit independence?\", \"continuation\": \"'I don't want to be babied,' thought Herbert.\"},\n",
      "\"Q3\": {\"question\": \"What hidden costs might 'Homes for Life' have?\", \"continuation\": \"'I wonder if there are any unexpected fees,' thought Herbert.\"}\n",
      "}\n"
     ]
    }
   ],
   "source": [
    "prompt = f\"\"\"\n",
    "Generate three critical questions from the following story, which is delimited with triple backticks.\n",
    "\n",
    "Structure your questions to foster critical reflection on direct and indirect negative future consequences \\\n",
    "of particular trends, events or developments addressed in the story.\n",
    "Each question should use at most 7 words, and be written in a plain and simple style.\n",
    "\n",
    "For each question generate a continuation for the story from the viewpoint of the main character, \\\n",
    "written as an inner monologue. The inner monologue should be written in with a critical tone \\\n",
    "and use at most 10 words. \n",
    "The continuation should have the following format: '<inner monologue>, thought <name of the main character>'.\n",
    "Give both the critical question and the inner monologue within single quotes.\n",
    "\n",
    "Avoid purple prose AT ALL COSTS.\n",
    "Avoid paraphrasing parts of the story.\n",
    "\n",
    "Format each question as a JSON object with 'question' and 'continuation' as the keys. \n",
    "Format your response as a JSON object with 'Q1', 'Q2' and 'Q3' as the keys.\n",
    "\n",
    "Story: ```{story}```\n",
    "\"\"\"\n",
    "\n",
    "response = get_completion(prompt)\n",
    "print(response)"
   ]
  }
 ],
 "metadata": {
  "kernelspec": {
   "display_name": "Python 3 (ipykernel)",
   "language": "python",
   "name": "python3"
  },
  "language_info": {
   "codemirror_mode": {
    "name": "ipython",
    "version": 3
   },
   "file_extension": ".py",
   "mimetype": "text/x-python",
   "name": "python",
   "nbconvert_exporter": "python",
   "pygments_lexer": "ipython3",
   "version": "3.8.9"
  }
 },
 "nbformat": 4,
 "nbformat_minor": 5
}
