{
 "cells": [
  {
   "cell_type": "markdown",
   "id": "a72e2e77-f09c-4582-bddc-b5d208a1d55c",
   "metadata": {},
   "source": [
    "# Climate\n",
    "\n",
    "Write a science fiction novel about climate change."
   ]
  },
  {
   "cell_type": "code",
   "execution_count": 8,
   "id": "eb44dae7-6aa9-4302-b93c-cefd1c590dc1",
   "metadata": {},
   "outputs": [],
   "source": [
    "prompt = f\"\"\"\n",
    "Write the beginning of a short speculative fiction about climate crisis in the year 2070. \n",
    "\n",
    "The main character is named Catherine. Their everyday companion is a dog called Bonnie. \n",
    "Generate one paragraph that uses at most three sentences. Leave the last sentence incomplete.\n",
    "\n",
    "Writte in a plain and simple style.\n",
    "Avoid purple prose AT ALL COSTS.\n",
    "\"\"\""
   ]
  },
  {
   "cell_type": "markdown",
   "id": "e292f42e-b254-4c90-ab1b-ca68af29f443",
   "metadata": {},
   "source": [
    "### Sample response\n",
    "\n",
    "```\n",
    "In the year 2070, Catherine lived in a small, eco-friendly house on the outskirts of a desertified Seattle. Bonnie, her loyal dog, was by her side as they started their morning routine. The sun had barely risen, casting long shadows over the parched land. \"Come on Bonnie,\" Catherine called, attaching a leash to Bonnie's collar. They stepped outside, the air thick with dust and heat, and began their daily trek towards the community garden. The sound of birdsong was absent in this new world, but Catherine held onto hope that one day it would return. (To be continued...)\n",
    "```"
   ]
  },
  {
   "cell_type": "markdown",
   "id": "38a2f03e-c313-40b7-95ba-3d0dbd79a525",
   "metadata": {},
   "source": [
    "## Test"
   ]
  },
  {
   "cell_type": "code",
   "execution_count": 1,
   "id": "fbc3c56c-1747-47f5-a0da-7734fbe71270",
   "metadata": {},
   "outputs": [],
   "source": [
    "# Ollama\n",
    "import ollama\n",
    "from ollama import Client\n",
    "\n",
    "def get_completion(prompt, model=\"mistral\"):\n",
    "    client = Client(host='http://webislab31.medien.uni-weimar.de:11434')\n",
    "    messages = [{\"role\": \"user\", \"content\": prompt}]\n",
    "    response = client.chat(\n",
    "        model=model, \n",
    "        messages=messages\n",
    "    )\n",
    "    return response['message']['content']"
   ]
  },
  {
   "cell_type": "code",
   "execution_count": 2,
   "id": "5640661c-999b-44af-b1f6-f4619066a7a5",
   "metadata": {},
   "outputs": [
    {
     "name": "stdout",
     "output_type": "stream",
     "text": [
      " In the year 2070, Catherine lived in a small, eco-friendly house on the outskirts of a desertified Seattle. Bonnie, her loyal dog, was by her side as they started their morning routine. The sun had barely risen, casting long shadows over the parched land. \"Come on Bonnie,\" Catherine called, attaching a leash to Bonnie's collar. They stepped outside, the air thick with dust and heat, and began their daily trek towards the community garden. The sound of birdsong was absent in this new world, but Catherine held onto hope that one day it would return. (To be continued...)\n"
     ]
    }
   ],
   "source": [
    "prompt = f\"\"\"\n",
    "Write the beginning of a short speculative fiction about climate crisis in the year 2070. \n",
    "\n",
    "The main character is named Catherine. Their everyday companion is a dog called Bonnie. \n",
    "Generate one paragraph using at most three sentences. Leave the last sentence incomplete.\n",
    "\n",
    "Writte in a plain and simple style.\n",
    "Avoid purple prose AT ALL COSTS.\n",
    "\"\"\"\n",
    "response = get_completion(prompt)\n",
    "print(response)"
   ]
  },
  {
   "cell_type": "code",
   "execution_count": 4,
   "id": "4adcff98-7764-47ea-906e-4a856b862d78",
   "metadata": {},
   "outputs": [
    {
     "name": "stdout",
     "output_type": "stream",
     "text": [
      " In the scorching summer of 2070, Catherine, a weathered yet determined farmer, tended to her withered crops amidst the relentless dust storms. Her loyal companion Bonnie, a sturdy golden retriever, lay in the shade, panting heavily as they watched their once thriving land succumb to the ravages of climate crisis. The sun beat down mercilessly, and the air was thick with the acrid smell of burning vegetation. Despite the overwhelming despair, Catherine clung to hope as she sowed the seeds of a new, drought-resistant strain, the potential savior of their land. But could it be enough?\n"
     ]
    }
   ],
   "source": [
    "prompt = f\"\"\"\n",
    "Write the beginning of a short speculative fiction about climate crisis in the year 2070. \n",
    "\n",
    "The main character is named Catherine. Their everyday companion is a dog called Bonnie. \n",
    "Generate one paragraph using at most two sentences. Leave the last sentence incomplete.\n",
    "\n",
    "Writte in a plain and simple style.\n",
    "Avoid purple prose AT ALL COSTS.\n",
    "\"\"\"\n",
    "response = get_completion(prompt)\n",
    "print(response)"
   ]
  }
 ],
 "metadata": {
  "kernelspec": {
   "display_name": "Python 3 (ipykernel)",
   "language": "python",
   "name": "python3"
  },
  "language_info": {
   "codemirror_mode": {
    "name": "ipython",
    "version": 3
   },
   "file_extension": ".py",
   "mimetype": "text/x-python",
   "name": "python",
   "nbconvert_exporter": "python",
   "pygments_lexer": "ipython3",
   "version": "3.8.9"
  }
 },
 "nbformat": 4,
 "nbformat_minor": 5
}
